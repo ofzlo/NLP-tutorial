{
  "nbformat": 4,
  "nbformat_minor": 0,
  "metadata": {
    "colab": {
      "provenance": [],
      "authorship_tag": "ABX9TyPWYYRWS45FfkSwwmJ+qmdQ",
      "include_colab_link": true
    },
    "kernelspec": {
      "name": "python3",
      "display_name": "Python 3"
    },
    "language_info": {
      "name": "python"
    }
  },
  "cells": [
    {
      "cell_type": "markdown",
      "metadata": {
        "id": "view-in-github",
        "colab_type": "text"
      },
      "source": [
        "<a href=\"https://colab.research.google.com/github/ofzlo/NLP-tutorial/blob/main/2.%20Text%20Preprocessing/NLP_02_02_cleaning_and_normalization.ipynb\" target=\"_parent\"><img src=\"https://colab.research.google.com/assets/colab-badge.svg\" alt=\"Open In Colab\"/></a>"
      ]
    },
    {
      "cell_type": "markdown",
      "source": [
        "### 02-02 정제(Cleaning) and 정규화(Normalization)\n",
        "\n",
        "- Cleaning : 갖고 있는 코퍼스로부터 노이즈 데이터를 제거한다.  \n",
        "- Normalization : 표현 방법이 다른 단어들을 통합시켜서 같은 단어로 만들어준다.\n",
        "\n",
        "### 　\n",
        "\n",
        "#### 1. 규칙에 기반한 표기가 다른 단어들의 통합\n",
        "- 표기가 다른 단어들을 하나의 단어로 정규화하는 방법  \n",
        "ex. USA와 US는 같은 의미를 가짐 -> 하나의 단어로 정규화  \n",
        "- 표기가 다른 단어들을 하나로 통합하는 방법: 어간 추출(Stemming)과 표제어 추출(Lemmatization)   \n",
        "\n",
        "### 　\n",
        "\n",
        "#### 2. 대,소문자 통합\n",
        "- 영어권 언어에서 대소문자를 통합하는 것 = 단어의 개수를 줄일 수 있는 또 다른 정규화 방법   \n",
        "- 소문자 변환작업이 유리하다.   \n",
        "- 무작정 하면 안 된다!  \n",
        "ex. US(미국) =/= us(우리), 회사이름, 사람 이름 등\n",
        "\n",
        "### 　\n",
        "\n",
        "#### 3. 불필요한 단어의 제거\n",
        "- noise data 자연어가 아니면서 아무 의미도 갖지 않는 글자   \n",
        "or 목적에 맞지 않은 불필요 단어  \n",
        "- 등장 빈도가 적은 단어   \n",
        "- 길이가 짧은 단어   \n",
        "   - 영어권에서 짧은 단어들은 대부분 불용어에 해당한다.   \n",
        "   - 한국어 단어의 평균 길이는 2~3 정도,   \n",
        "     글자 하나가 함축적인 의미를 지니고 있음.\n",
        "\n",
        "### 　\n",
        "\n",
        "#### 4. 정규 표현식(Regular Expression)\n",
        "- 노이즈 데이터의 특징을 잡아낼 수 있다면, 정규 표현식을 통해 이를 제거할 수 있다."
      ],
      "metadata": {
        "id": "EMoWvFQZRr3r"
      }
    }
  ]
}