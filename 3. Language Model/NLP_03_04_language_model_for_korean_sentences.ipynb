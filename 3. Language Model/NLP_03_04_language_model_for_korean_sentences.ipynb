{
  "nbformat": 4,
  "nbformat_minor": 0,
  "metadata": {
    "colab": {
      "provenance": [],
      "authorship_tag": "ABX9TyPgyE5EuErwtSIE085uF76j",
      "include_colab_link": true
    },
    "kernelspec": {
      "name": "python3",
      "display_name": "Python 3"
    },
    "language_info": {
      "name": "python"
    }
  },
  "cells": [
    {
      "cell_type": "markdown",
      "metadata": {
        "id": "view-in-github",
        "colab_type": "text"
      },
      "source": [
        "<a href=\"https://colab.research.google.com/github/ofzlo/NLP-tutorial/blob/main/3.%20Language%20Model/NLP_03_04_language_model_for_korean_sentences.ipynb\" target=\"_parent\"><img src=\"https://colab.research.google.com/assets/colab-badge.svg\" alt=\"Open In Colab\"/></a>"
      ]
    },
    {
      "cell_type": "markdown",
      "source": [
        "# 03-04 한국어에서의 언어 모델(Language Model for Korean Sentences)\n",
        "\n",
        "## 1. 한국어는 어순이 중요하지 않다.\n",
        "- 이전 단어가 주어졌을 때, 다음 단어가 나타날 확률을 구해야하는데 어순이 중요하지 않으면 다음 단어로 어떤 단어든 등장할 수 있다는 의미   \n",
        "- 한국어는 단어 순서를 바꾸어놔도 의미가 잘 전달되기 때문에 확률 기반 언어 모델이 다음 단어를 예측하기 어려움"
      ],
      "metadata": {
        "id": "2M38NF4vhbMv"
      }
    },
    {
      "cell_type": "markdown",
      "source": [
        "## 2. 한국어는 교착어이다.\n",
        "- 띄어쓰기 단위인 어절 단위로 토큰화 할 경우 문장에서 발생가능한 단어의 수가 늘어난다.   \n",
        "- 토큰화를 통해 접사나 조사 등을 분리하는 것은 중요한 작업"
      ],
      "metadata": {
        "id": "MNhIWmsIhbPA"
      }
    },
    {
      "cell_type": "markdown",
      "source": [
        "## 3. 한국어는 띄어쓰기가 제대로 지켜지지 않는다.\n",
        "- 띄어쓰기를 제대로 하지 않아도 의미가 잘 전달되며, 띄어쓰기 규칙 또한 상대적으로 까다로운 언어   "
      ],
      "metadata": {
        "id": "mI3lD9qGhbSY"
      }
    }
  ]
}