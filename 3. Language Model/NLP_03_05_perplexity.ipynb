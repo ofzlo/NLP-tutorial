{
  "nbformat": 4,
  "nbformat_minor": 0,
  "metadata": {
    "colab": {
      "provenance": [],
      "authorship_tag": "ABX9TyMYlMfHrLSgBGqW0QZ58OT/",
      "include_colab_link": true
    },
    "kernelspec": {
      "name": "python3",
      "display_name": "Python 3"
    },
    "language_info": {
      "name": "python"
    }
  },
  "cells": [
    {
      "cell_type": "markdown",
      "metadata": {
        "id": "view-in-github",
        "colab_type": "text"
      },
      "source": [
        "<a href=\"https://colab.research.google.com/github/ofzlo/NLP-tutorial/blob/main/3.%20Language%20Model/NLP_03_05_perplexity.ipynb\" target=\"_parent\"><img src=\"https://colab.research.google.com/assets/colab-badge.svg\" alt=\"Open In Colab\"/></a>"
      ]
    },
    {
      "cell_type": "markdown",
      "source": [
        "# 03-05 펄플렉서티(Perplexity, PPL)\n",
        "- **`펄플렉서티(perplexity)`** : 모델 내에서 자신의 성능을 수치화하여 결과를 내놓는다."
      ],
      "metadata": {
        "id": "AWmYfqTyjnFQ"
      }
    },
    {
      "cell_type": "markdown",
      "source": [
        "## 1. 언어 모델의 평가 방법(Evaluation metric) : PPL\n",
        "- 펄플렉서티(perplexity) : 언어 모델을 평가하기 위한 평가 지표 ㅡ '헷갈리는 정도'로 이해하면 된다.  \n",
        "- PPL 수치가 **'낮을수록'** 언어 모델 성능이 좋다.   \n",
        "\n",
        "#### 　\n",
        "- PPL : 문장의 길이로 정규화된 문장 확률의 역수   \n",
        "\n",
        "#### 　\n",
        "문장 W의 길이가 N이라고 하였을 때 PPL:   \n",
        "![](https://user-images.githubusercontent.com/90624848/215747307-3e69bd16-8cb7-4bec-a1c3-5df5abeafe39.png)   \n",
        "\n",
        "문장의 chain rule 적용:   \n",
        "![](https://user-images.githubusercontent.com/90624848/215747450-24db2fb1-1177-41be-8472-3772855cfa99.png)  \n",
        "\n",
        "n-gram을 적용했을 경우(ex. bigram):   \n",
        "![](https://user-images.githubusercontent.com/90624848/215748897-61eba595-e544-4224-8b42-824c45446111.png)"
      ],
      "metadata": {
        "id": "8uCB2gXKjnHQ"
      }
    },
    {
      "cell_type": "markdown",
      "source": [
        "## 2. 분기 계수(Branching factor)\n",
        "- **`분기 계수(Branching factor)`** : 선택할 수 있는 가능한 경우의 수   \n",
        "- PPL은 언어 모델이 특정 시점에서 평균적으로 몇 개의 선택지를 가지고 고민하고 있는지를 의미함.   \n",
        "- PPL 값이 낮다 = 테스트 데이터 상에서 높은 정확도를 보이는 것   \n",
        "  - 사람이 직접 느끼기에 좋은 언어모델이라는 것을 반드시 의미하지는 않는다.   "
      ],
      "metadata": {
        "id": "nwsmp0_6j026"
      }
    },
    {
      "cell_type": "markdown",
      "source": [
        "## 3. 기존 언어 모델 Vs. 인공 신경망을 이용한 언어 모델\n",
        "- Facebook AI 연구팀에서 공개한 n-gram 언어 모델과 딥러닝 모델 PPL 성능 테스트 표   \n",
        "![](https://user-images.githubusercontent.com/90624848/215750064-263be602-d6c6-4026-8062-06e9f3a790a3.png)   "
      ],
      "metadata": {
        "id": "Qf8SU0sjjnJK"
      }
    }
  ]
}