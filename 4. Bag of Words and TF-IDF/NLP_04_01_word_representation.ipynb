{
  "nbformat": 4,
  "nbformat_minor": 0,
  "metadata": {
    "colab": {
      "provenance": [],
      "authorship_tag": "ABX9TyP/H9at+Xmor/yOXUudkTNI",
      "include_colab_link": true
    },
    "kernelspec": {
      "name": "python3",
      "display_name": "Python 3"
    },
    "language_info": {
      "name": "python"
    }
  },
  "cells": [
    {
      "cell_type": "markdown",
      "metadata": {
        "id": "view-in-github",
        "colab_type": "text"
      },
      "source": [
        "<a href=\"https://colab.research.google.com/github/ofzlo/NLP-tutorial/blob/main/4.%20Bag%20of%20Words%20and%20TF-IDF/NLP_04_01_word_representation.ipynb\" target=\"_parent\"><img src=\"https://colab.research.google.com/assets/colab-badge.svg\" alt=\"Open In Colab\"/></a>"
      ]
    },
    {
      "cell_type": "markdown",
      "source": [
        "# 04. 카운트 기반의 단어 표현(Count based word Representation)\n",
        "\n",
        "# 04-01 다양한 단어의 표현 방법\n",
        "## 1. 단어의 표현 방법\n",
        "- 국소 표현(Local Representation), 분산 표현(Distributed Representation) 방법으로 나뉜다.   \n",
        "  - 국소 표현(이산 표현; Distrete Representation) : 해당 단어 그 자체만 보고, 특정값을 맵핑하여 단어를 표현하는 방법   \n",
        "  - 분산 표현(연속 표현; Continuous Representation) : 그 단어를 표현하고자 주변을 참고하여 단어를 표현하는 방법   "
      ],
      "metadata": {
        "id": "4pPDoxwYqEJb"
      }
    },
    {
      "cell_type": "markdown",
      "source": [
        "## 2. 단어 표현의 카테고리화\n",
        "![](https://wikidocs.net/images/page/31767/wordrepresentation.PNG)   "
      ],
      "metadata": {
        "id": "-Wn2zSV3qvBo"
      }
    }
  ]
}