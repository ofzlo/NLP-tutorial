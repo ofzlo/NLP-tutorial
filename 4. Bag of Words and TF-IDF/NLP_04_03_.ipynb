{
  "nbformat": 4,
  "nbformat_minor": 0,
  "metadata": {
    "colab": {
      "provenance": [],
      "authorship_tag": "ABX9TyOjmhy2K8fmYWUPwKiTZzaV",
      "include_colab_link": true
    },
    "kernelspec": {
      "name": "python3",
      "display_name": "Python 3"
    },
    "language_info": {
      "name": "python"
    }
  },
  "cells": [
    {
      "cell_type": "markdown",
      "metadata": {
        "id": "view-in-github",
        "colab_type": "text"
      },
      "source": [
        "<a href=\"https://colab.research.google.com/github/ofzlo/NLP-tutorial/blob/main/4.%20Bag%20of%20Words%20and%20TF-IDF/NLP_04_03_.ipynb\" target=\"_parent\"><img src=\"https://colab.research.google.com/assets/colab-badge.svg\" alt=\"Open In Colab\"/></a>"
      ]
    },
    {
      "cell_type": "markdown",
      "source": [
        "# 04-03 문서 단어 행렬(Document-Term Matrix, DTM)\n",
        "- 서로 다른 문서들의 BoW들을 결합한 표현 방법\n",
        "\n",
        "## 1. 문서 단어 행렬(Document-Term Matrix, DTM)의 표기법\n",
        "- **`문서 단어 행렬(Document-Term Matrix, DTM)`** : 다수의 문서에서 등장하는 각 단어들의 빈도를 행렬로 표현한 것   \n",
        "- 예시   \n",
        "  - 문서1 : 먹고 싶은 사과   \n",
        "  - 문서2 : 먹고 싶은 바나나   \n",
        "  - 문서3 : 길고 노란 바나나 바나나   \n",
        "  - 문서4 : 저는 과일이 좋아요   \n",
        "  ![](https://user-images.githubusercontent.com/90624848/215762063-f63d617c-fc02-4724-a007-f349499be485.png)   \n"
      ],
      "metadata": {
        "id": "unId4dsb0aSF"
      }
    },
    {
      "cell_type": "markdown",
      "source": [
        "## 2. 문서 단어 행렬(Document-Term Matrix)의 한계\n",
        "### 1) 희소 표현(Sparse representation)\n",
        "- 공간적 낭비와 계산 리소스를 증가시킬 수 있다는 단점 (원-핫 벡터의 단점과 유사)   \n",
        "- 희소 벡터(sparse vector), 희소 행렬(sparse matrix) : 대부분의 값이 0인 표현   \n",
        "  - 많은 양의 저장 공간과 높은 계산 복잡도 요구   \n",
        "  - 구두점, 빈도수가 낮은 단어, 불용어 제거, 어간/표제어 추출 등을 통해 단어를 정규화하여 단어 집합의 크기를 줄일 수 있다.\n",
        "\n",
        "### 2) 단순 빈도 수 기반 접근\n",
        "- 불용어와 같이 의미가 없는데 빈도수가 높은 경우가 있을 수 있다. 그러나 불용어의 빈도수가 높다고 문서들을 유사하다고 판단할 수 없다.   \n",
        "- TF-IDF에서 불용어와 중요한 단어에 대해서 가중치를 줄 수 있는 방법을 적용"
      ],
      "metadata": {
        "id": "-q29OziS1kV0"
      }
    }
  ]
}