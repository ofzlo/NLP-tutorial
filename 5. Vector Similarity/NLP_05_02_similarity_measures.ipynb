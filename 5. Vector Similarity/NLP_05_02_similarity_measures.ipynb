{
  "nbformat": 4,
  "nbformat_minor": 0,
  "metadata": {
    "colab": {
      "provenance": [],
      "authorship_tag": "ABX9TyNv6LOkqggbYT062jXdSPw2",
      "include_colab_link": true
    },
    "kernelspec": {
      "name": "python3",
      "display_name": "Python 3"
    },
    "language_info": {
      "name": "python"
    }
  },
  "cells": [
    {
      "cell_type": "markdown",
      "metadata": {
        "id": "view-in-github",
        "colab_type": "text"
      },
      "source": [
        "<a href=\"https://colab.research.google.com/github/ofzlo/NLP-tutorial/blob/main/5.%20Vector%20Similarity/NLP_05_02_similarity_measures.ipynb\" target=\"_parent\"><img src=\"https://colab.research.google.com/assets/colab-badge.svg\" alt=\"Open In Colab\"/></a>"
      ]
    },
    {
      "cell_type": "markdown",
      "source": [
        "# 05-02 여러가지 유사도 기법\n",
        "## 1. 유클리드 거리(Euclidean distance)\n",
        "- 자카드 유사도나 코사인 유사도만큼 유용한 방법은 아님.   \n",
        "- 다차원 공간에서의 두 개의 점 p와 q의 거리   \n",
        "  ![](https://user-images.githubusercontent.com/90624848/217264104-abb8f5e7-bddf-4be8-a9e4-59a65e29f144.png)   \n",
        "- 여러 문서에 대한 유사도를 구하고자 유클리드 거리 공식 사용   \n",
        "  - 2차원을 단어의 총 개수만큼의 차원으로 확장하는 것   \n",
        "- 값이 가장 작을수록 거리가 가까운 것이므로, 가장 유사하다고 볼 수 있음"
      ],
      "metadata": {
        "id": "lUPzyCHmJkNa"
      }
    },
    {
      "cell_type": "code",
      "execution_count": 1,
      "metadata": {
        "colab": {
          "base_uri": "https://localhost:8080/"
        },
        "id": "dBaszdT2JfkW",
        "outputId": "5e8d5bd4-079d-4f95-f910-0393c17ca23b"
      },
      "outputs": [
        {
          "output_type": "stream",
          "name": "stdout",
          "text": [
            "문서1과 문서Q의 거리 : 2.23606797749979\n",
            "문서2과 문서Q의 거리 : 3.1622776601683795\n",
            "문서3과 문서Q의 거리 : 2.449489742783178\n"
          ]
        }
      ],
      "source": [
        "import numpy as np\n",
        "\n",
        "def dist(x,y):   \n",
        "    return np.sqrt(np.sum((x-y)**2))\n",
        "\n",
        "doc1 = np.array((2,3,0,1))\n",
        "doc2 = np.array((1,2,3,1))\n",
        "doc3 = np.array((2,1,2,2))\n",
        "docQ = np.array((1,1,0,1))\n",
        "\n",
        "print('문서1과 문서Q의 거리 :',dist(doc1,docQ))\n",
        "print('문서2과 문서Q의 거리 :',dist(doc2,docQ))\n",
        "print('문서3과 문서Q의 거리 :',dist(doc3,docQ))"
      ]
    },
    {
      "cell_type": "markdown",
      "source": [
        "## 2. 자카드 유사도(Jaccard similarity)\n",
        "- 아이디어: 합집합에서 교집합의 비율을 구한다면 두 집합 A와 B의 유사도를 구할 수 있다.   \n",
        "  ![](https://user-images.githubusercontent.com/90624848/217265547-5c5e04b0-9340-4209-8768-71a74600f33a.png)   \n",
        "- 두 개의 비교할 문서 $doc_1$, $doc_2$에 대한 자카드 유사도   \n",
        "  $J(doc_{1},doc_{2})=\\frac{doc_{1}∩doc_{2}}{doc_{1}∪doc_{2}}$   "
      ],
      "metadata": {
        "id": "s5GC0TvmKtCv"
      }
    },
    {
      "cell_type": "code",
      "source": [
        "doc1 = \"apple banana everyone like likey watch card holder\"\n",
        "doc2 = \"apple banana coupon passport love you\"\n",
        "\n",
        "# 토큰화\n",
        "tokenized_doc1 = doc1.split()\n",
        "tokenized_doc2 = doc2.split()\n",
        "\n",
        "print('문서1 :',tokenized_doc1)\n",
        "print('문서2 :',tokenized_doc2)"
      ],
      "metadata": {
        "colab": {
          "base_uri": "https://localhost:8080/"
        },
        "id": "Tlxp47VyKshW",
        "outputId": "591d24c7-28dc-4037-bf20-9abb3978f0b8"
      },
      "execution_count": 2,
      "outputs": [
        {
          "output_type": "stream",
          "name": "stdout",
          "text": [
            "문서1 : ['apple', 'banana', 'everyone', 'like', 'likey', 'watch', 'card', 'holder']\n",
            "문서2 : ['apple', 'banana', 'coupon', 'passport', 'love', 'you']\n"
          ]
        }
      ]
    },
    {
      "cell_type": "code",
      "source": [
        "union = set(tokenized_doc1).union(set(tokenized_doc2))\n",
        "print('문서1과 문서2의 합집합 :',union)"
      ],
      "metadata": {
        "colab": {
          "base_uri": "https://localhost:8080/"
        },
        "id": "NGYfxM9pLxGO",
        "outputId": "4f123489-4c10-4014-e2fa-27dd3cc0e86c"
      },
      "execution_count": 3,
      "outputs": [
        {
          "output_type": "stream",
          "name": "stdout",
          "text": [
            "문서1과 문서2의 합집합 : {'coupon', 'passport', 'like', 'banana', 'holder', 'everyone', 'card', 'watch', 'love', 'likey', 'apple', 'you'}\n"
          ]
        }
      ]
    },
    {
      "cell_type": "code",
      "source": [
        "intersection = set(tokenized_doc1).intersection(set(tokenized_doc2))\n",
        "print('문서1과 문서2의 교집합 :',intersection)"
      ],
      "metadata": {
        "colab": {
          "base_uri": "https://localhost:8080/"
        },
        "id": "7X5gEshGLyWl",
        "outputId": "76398254-65b5-4e03-e578-dd8ce13ea9ba"
      },
      "execution_count": 4,
      "outputs": [
        {
          "output_type": "stream",
          "name": "stdout",
          "text": [
            "문서1과 문서2의 교집합 : {'apple', 'banana'}\n"
          ]
        }
      ]
    },
    {
      "cell_type": "code",
      "source": [
        "print('자카드 유사도 :',len(intersection)/len(union))"
      ],
      "metadata": {
        "colab": {
          "base_uri": "https://localhost:8080/"
        },
        "id": "6VbN9uULLzt-",
        "outputId": "d0da0f6a-7f19-40b0-f688-1743fbc1b3bc"
      },
      "execution_count": 5,
      "outputs": [
        {
          "output_type": "stream",
          "name": "stdout",
          "text": [
            "자카드 유사도 : 0.16666666666666666\n"
          ]
        }
      ]
    }
  ]
}