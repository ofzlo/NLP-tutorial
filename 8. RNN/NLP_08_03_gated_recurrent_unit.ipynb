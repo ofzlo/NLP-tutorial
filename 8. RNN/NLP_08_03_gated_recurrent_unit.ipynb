{
  "nbformat": 4,
  "nbformat_minor": 0,
  "metadata": {
    "colab": {
      "provenance": [],
      "authorship_tag": "ABX9TyP4GuY47bdlCSqcllWnifUo",
      "include_colab_link": true
    },
    "kernelspec": {
      "name": "python3",
      "display_name": "Python 3"
    },
    "language_info": {
      "name": "python"
    }
  },
  "cells": [
    {
      "cell_type": "markdown",
      "metadata": {
        "id": "view-in-github",
        "colab_type": "text"
      },
      "source": [
        "<a href=\"https://colab.research.google.com/github/ofzlo/NLP-tutorial/blob/main/8.%20RNN/NLP_08_03_gated_recurrent_unit.ipynb\" target=\"_parent\"><img src=\"https://colab.research.google.com/assets/colab-badge.svg\" alt=\"Open In Colab\"/></a>"
      ]
    },
    {
      "cell_type": "markdown",
      "source": [
        "# 08-03 게이트 순환 유닛(Gated Recurrent Unit, GRU)\n",
        "## 1. GRU(Gated Recurrent Unit)\n",
        "- vs **`LSTM`**   \n",
        "  - LSTM : 출력, 입력, 삭제 게이트 (3개)   \n",
        "  - GRU : 업데이트, 리셋 게이트 (2개)   \n",
        "\n",
        "![](https://user-images.githubusercontent.com/90624848/217464113-00a1d13b-debc-4f63-8960-ec04e37aa710.png)\n",
        "\n",
        "$z_{t}=σ(W_{xz}x_{t}+W_{hz}h_{t-1}+b_{z})$   \n",
        "$z_{t}=σ(W_{xz}x_{t}+W_{hz}h_{t-1}+b_{z})$   \n",
        "$g_{t}=tanh(W_{hg}(r_{t}∘h_{t-1})+W_{xg}x_{t}+b_{g})$   \n",
        "$h_{t}=(1-z_{t})∘g_{t}+z_{t}∘h_{t-1}$   "
      ],
      "metadata": {
        "id": "m4vO3BVe8ROd"
      }
    },
    {
      "cell_type": "markdown",
      "source": [
        "## 2. 케라스에서의 GRU(Gated Recurrent Unit)"
      ],
      "metadata": {
        "id": "esWAaUAR9Igo"
      }
    },
    {
      "cell_type": "code",
      "execution_count": null,
      "metadata": {
        "id": "9_IicK684mZe"
      },
      "outputs": [],
      "source": [
        "model.add(GRU(hidden_size, input_shape=(timesteps, input_dim)))"
      ]
    }
  ]
}