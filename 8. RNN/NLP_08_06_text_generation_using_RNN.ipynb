{
  "nbformat": 4,
  "nbformat_minor": 0,
  "metadata": {
    "colab": {
      "provenance": [],
      "authorship_tag": "ABX9TyOXw8n4ZDCYHH9LhUplITCx",
      "include_colab_link": true
    },
    "kernelspec": {
      "name": "python3",
      "display_name": "Python 3"
    },
    "language_info": {
      "name": "python"
    }
  },
  "cells": [
    {
      "cell_type": "markdown",
      "metadata": {
        "id": "view-in-github",
        "colab_type": "text"
      },
      "source": [
        "<a href=\"https://colab.research.google.com/github/ofzlo/NLP-tutorial/blob/main/8.%20RNN/NLP_08_06_text_generation_using_RNN.ipynb\" target=\"_parent\"><img src=\"https://colab.research.google.com/assets/colab-badge.svg\" alt=\"Open In Colab\"/></a>"
      ]
    },
    {
      "cell_type": "markdown",
      "source": [
        "# 08-06 RNN을 이용한 텍스트 생성(Text Generation using RNN)\n",
        "\n",
        "## 1. RNN을 이용하여 텍스트 생성하기\n",
        "- 예시 문장   \n",
        "  - '경마장에 있는 말이 뛰고 있다'\n",
        "  - '그의 말이 법이다'\n",
        "  - '가는 말이 고와야 오는 말이 곱다'\n",
        "\n",
        "![](https://user-images.githubusercontent.com/90624848/217493562-edb526d6-8c9c-42d8-9a6e-88e39ae6a432.png)"
      ],
      "metadata": {
        "id": "X-SdA6m2Ztcv"
      }
    },
    {
      "cell_type": "markdown",
      "source": [
        "### 1) 데이터에 대한 이해와 전처리"
      ],
      "metadata": {
        "id": "uA89JeAnaEsM"
      }
    },
    {
      "cell_type": "code",
      "source": [
        "import numpy as np\n",
        "from tensorflow.keras.preprocessing.text import Tokenizer\n",
        "from tensorflow.keras.preprocessing.sequence import pad_sequences\n",
        "from tensorflow.keras.utils import to_categorical"
      ],
      "metadata": {
        "id": "VvycjCI7aDuk"
      },
      "execution_count": 1,
      "outputs": []
    },
    {
      "cell_type": "code",
      "source": [
        "text = \"\"\"경마장에 있는 말이 뛰고 있다\\n\n",
        "그의 말이 법이다\\n\n",
        "가는 말이 고와야 오는 말이 곱다\\n\"\"\""
      ],
      "metadata": {
        "id": "lueAkqtuaHdM"
      },
      "execution_count": 2,
      "outputs": []
    },
    {
      "cell_type": "code",
      "source": [
        "tokenizer = Tokenizer()\n",
        "tokenizer.fit_on_texts([text])\n",
        "vocab_size = len(tokenizer.word_index) + 1  #인덱스가 1부터 시작하지만, 패딩을 위한 0을 고려하여 +1\n",
        "print('단어 집합의 크기 : %d' % vocab_size)"
      ],
      "metadata": {
        "colab": {
          "base_uri": "https://localhost:8080/"
        },
        "id": "N4q84nPoard1",
        "outputId": "63e63ac0-795a-4043-92ec-55451e4caa5e"
      },
      "execution_count": 3,
      "outputs": [
        {
          "output_type": "stream",
          "name": "stdout",
          "text": [
            "단어 집합의 크기 : 12\n"
          ]
        }
      ]
    },
    {
      "cell_type": "code",
      "source": [
        "# 각 단어와 단어에 부여된 정수 인덱스 출력\n",
        "print(tokenizer.word_index)"
      ],
      "metadata": {
        "colab": {
          "base_uri": "https://localhost:8080/"
        },
        "id": "SVvvL-_Aa79T",
        "outputId": "71e42ebf-e078-4531-9bf1-ca0d199af4ea"
      },
      "execution_count": 4,
      "outputs": [
        {
          "output_type": "stream",
          "name": "stdout",
          "text": [
            "{'말이': 1, '경마장에': 2, '있는': 3, '뛰고': 4, '있다': 5, '그의': 6, '법이다': 7, '가는': 8, '고와야': 9, '오는': 10, '곱다': 11}\n"
          ]
        }
      ]
    },
    {
      "cell_type": "code",
      "source": [
        "# 훈련 데이터 생성\n",
        "sequences = list()\n",
        "for line in text.split('\\n'): # 줄바꿈 문자를 기준으로 문장 토큰화\n",
        "    encoded = tokenizer.texts_to_sequences([line])[0]\n",
        "    for i in range(1, len(encoded)):\n",
        "        sequence = encoded[:i+1]\n",
        "        sequences.append(sequence)\n",
        "\n",
        "print('학습에 사용할 샘플의 개수: %d' % len(sequences))"
      ],
      "metadata": {
        "colab": {
          "base_uri": "https://localhost:8080/"
        },
        "id": "1F8MzquPbIbL",
        "outputId": "f9297c93-ea08-4717-96c4-af82333383ed"
      },
      "execution_count": 5,
      "outputs": [
        {
          "output_type": "stream",
          "name": "stdout",
          "text": [
            "학습에 사용할 샘플의 개수: 11\n"
          ]
        }
      ]
    },
    {
      "cell_type": "code",
      "source": [
        "# 전체 샘플 출력\n",
        "print(sequences)"
      ],
      "metadata": {
        "colab": {
          "base_uri": "https://localhost:8080/"
        },
        "id": "k11-mvl5bKKr",
        "outputId": "be59fb9a-43e9-40a0-d4e1-46e1cdf8bf09"
      },
      "execution_count": 6,
      "outputs": [
        {
          "output_type": "stream",
          "name": "stdout",
          "text": [
            "[[2, 3], [2, 3, 1], [2, 3, 1, 4], [2, 3, 1, 4, 5], [6, 1], [6, 1, 7], [8, 1], [8, 1, 9], [8, 1, 9, 10], [8, 1, 9, 10, 1], [8, 1, 9, 10, 1, 11]]\n"
          ]
        }
      ]
    },
    {
      "cell_type": "code",
      "source": [
        "max_len = max(len(l) for l in sequences) # 모든 샘플에서 길이가 가장 긴 샘플의 길이 출력\n",
        "print('샘플의 최대 길이 : {}'.format(max_len))"
      ],
      "metadata": {
        "colab": {
          "base_uri": "https://localhost:8080/"
        },
        "id": "3UyFsDfrbMk7",
        "outputId": "e81a59ca-d034-4800-8e78-8294f20ada2d"
      },
      "execution_count": 7,
      "outputs": [
        {
          "output_type": "stream",
          "name": "stdout",
          "text": [
            "샘플의 최대 길이 : 6\n"
          ]
        }
      ]
    },
    {
      "cell_type": "code",
      "source": [
        "# 전체 샘플의 길이를 6으로 패딩\n",
        "# pad_sequences()는 모든 샘플에 대해서 0을 사용하여 길이를 맞춰준다.\n",
        "sequences = pad_sequences(sequences, maxlen=max_len, padding='pre')"
      ],
      "metadata": {
        "id": "KTaOju-TbO6S"
      },
      "execution_count": 8,
      "outputs": []
    },
    {
      "cell_type": "code",
      "source": [
        "print(sequences)"
      ],
      "metadata": {
        "colab": {
          "base_uri": "https://localhost:8080/"
        },
        "id": "cn9aRGcIbVab",
        "outputId": "a0933ff8-d5ee-4005-db8e-1545346da8f6"
      },
      "execution_count": 9,
      "outputs": [
        {
          "output_type": "stream",
          "name": "stdout",
          "text": [
            "[[ 0  0  0  0  2  3]\n",
            " [ 0  0  0  2  3  1]\n",
            " [ 0  0  2  3  1  4]\n",
            " [ 0  2  3  1  4  5]\n",
            " [ 0  0  0  0  6  1]\n",
            " [ 0  0  0  6  1  7]\n",
            " [ 0  0  0  0  8  1]\n",
            " [ 0  0  0  8  1  9]\n",
            " [ 0  0  8  1  9 10]\n",
            " [ 0  8  1  9 10  1]\n",
            " [ 8  1  9 10  1 11]]\n"
          ]
        }
      ]
    },
    {
      "cell_type": "code",
      "source": [
        "# 레이블 분리\n",
        "sequences = np.array(sequences)\n",
        "X = sequences[:,:-1]\n",
        "y = sequences[:,-1]"
      ],
      "metadata": {
        "id": "jqlvIaapbcMa"
      },
      "execution_count": 10,
      "outputs": []
    },
    {
      "cell_type": "code",
      "source": [
        "print(X)"
      ],
      "metadata": {
        "colab": {
          "base_uri": "https://localhost:8080/"
        },
        "id": "oRAu2--4bkn0",
        "outputId": "334d9631-be0e-48ca-b4c4-72af249ec36f"
      },
      "execution_count": 11,
      "outputs": [
        {
          "output_type": "stream",
          "name": "stdout",
          "text": [
            "[[ 0  0  0  0  2]\n",
            " [ 0  0  0  2  3]\n",
            " [ 0  0  2  3  1]\n",
            " [ 0  2  3  1  4]\n",
            " [ 0  0  0  0  6]\n",
            " [ 0  0  0  6  1]\n",
            " [ 0  0  0  0  8]\n",
            " [ 0  0  0  8  1]\n",
            " [ 0  0  8  1  9]\n",
            " [ 0  8  1  9 10]\n",
            " [ 8  1  9 10  1]]\n"
          ]
        }
      ]
    },
    {
      "cell_type": "code",
      "source": [
        "print(y)"
      ],
      "metadata": {
        "colab": {
          "base_uri": "https://localhost:8080/"
        },
        "id": "asS-Q-h4bmjD",
        "outputId": "a90d3512-8f7c-4e2f-d096-5e58a9c5e04a"
      },
      "execution_count": 12,
      "outputs": [
        {
          "output_type": "stream",
          "name": "stdout",
          "text": [
            "[ 3  1  4  5  1  7  1  9 10  1 11]\n"
          ]
        }
      ]
    },
    {
      "cell_type": "code",
      "source": [
        "# 원-핫 인코딩 수행\n",
        "y = to_categorical(y, num_classes=vocab_size)"
      ],
      "metadata": {
        "id": "hrdKNxU7bnsa"
      },
      "execution_count": 13,
      "outputs": []
    },
    {
      "cell_type": "code",
      "source": [
        "print(y)"
      ],
      "metadata": {
        "colab": {
          "base_uri": "https://localhost:8080/"
        },
        "id": "KYbY3QzFbqFi",
        "outputId": "dbd8edac-8f22-4ee7-c90a-e24b86b4df7c"
      },
      "execution_count": 14,
      "outputs": [
        {
          "output_type": "stream",
          "name": "stdout",
          "text": [
            "[[0. 0. 0. 1. 0. 0. 0. 0. 0. 0. 0. 0.]\n",
            " [0. 1. 0. 0. 0. 0. 0. 0. 0. 0. 0. 0.]\n",
            " [0. 0. 0. 0. 1. 0. 0. 0. 0. 0. 0. 0.]\n",
            " [0. 0. 0. 0. 0. 1. 0. 0. 0. 0. 0. 0.]\n",
            " [0. 1. 0. 0. 0. 0. 0. 0. 0. 0. 0. 0.]\n",
            " [0. 0. 0. 0. 0. 0. 0. 1. 0. 0. 0. 0.]\n",
            " [0. 1. 0. 0. 0. 0. 0. 0. 0. 0. 0. 0.]\n",
            " [0. 0. 0. 0. 0. 0. 0. 0. 0. 1. 0. 0.]\n",
            " [0. 0. 0. 0. 0. 0. 0. 0. 0. 0. 1. 0.]\n",
            " [0. 1. 0. 0. 0. 0. 0. 0. 0. 0. 0. 0.]\n",
            " [0. 0. 0. 0. 0. 0. 0. 0. 0. 0. 0. 1.]]\n"
          ]
        }
      ]
    },
    {
      "cell_type": "markdown",
      "source": [
        "### 2) 모델 설계하기"
      ],
      "metadata": {
        "id": "PWUzkmQ7bsLn"
      }
    },
    {
      "cell_type": "code",
      "source": [
        "from tensorflow.keras.models import Sequential\n",
        "from tensorflow.keras.layers import Embedding, Dense, SimpleRNN"
      ],
      "metadata": {
        "id": "eSnGWEugbrXL"
      },
      "execution_count": 15,
      "outputs": []
    },
    {
      "cell_type": "code",
      "source": [
        "embedding_dim = 10  # 벡터 차원\n",
        "hidden_units = 32   # 은닉 상태 크기\n",
        "\n",
        "model = Sequential()\n",
        "model.add(Embedding(vocab_size, embedding_dim))\n",
        "model.add(SimpleRNN(hidden_units))\n",
        "model.add(Dense(vocab_size, activation='softmax'))\n",
        "model.compile(loss='categorical_crossentropy', optimizer='adam', metrics=['accuracy'])\n",
        "model.fit(X, y, epochs=200, verbose=2)"
      ],
      "metadata": {
        "colab": {
          "base_uri": "https://localhost:8080/"
        },
        "id": "WujhIaQsb1EK",
        "outputId": "74f927ef-c37b-43b0-ef89-50297de775ed"
      },
      "execution_count": 16,
      "outputs": [
        {
          "output_type": "stream",
          "name": "stdout",
          "text": [
            "Epoch 1/200\n",
            "1/1 - 2s - loss: 2.4870 - accuracy: 0.0909 - 2s/epoch - 2s/step\n",
            "Epoch 2/200\n",
            "1/1 - 0s - loss: 2.4760 - accuracy: 0.0909 - 10ms/epoch - 10ms/step\n",
            "Epoch 3/200\n",
            "1/1 - 0s - loss: 2.4650 - accuracy: 0.2727 - 10ms/epoch - 10ms/step\n",
            "Epoch 4/200\n",
            "1/1 - 0s - loss: 2.4541 - accuracy: 0.2727 - 8ms/epoch - 8ms/step\n",
            "Epoch 5/200\n",
            "1/1 - 0s - loss: 2.4430 - accuracy: 0.2727 - 7ms/epoch - 7ms/step\n",
            "Epoch 6/200\n",
            "1/1 - 0s - loss: 2.4317 - accuracy: 0.3636 - 9ms/epoch - 9ms/step\n",
            "Epoch 7/200\n",
            "1/1 - 0s - loss: 2.4202 - accuracy: 0.2727 - 8ms/epoch - 8ms/step\n",
            "Epoch 8/200\n",
            "1/1 - 0s - loss: 2.4083 - accuracy: 0.2727 - 7ms/epoch - 7ms/step\n",
            "Epoch 9/200\n",
            "1/1 - 0s - loss: 2.3961 - accuracy: 0.2727 - 9ms/epoch - 9ms/step\n",
            "Epoch 10/200\n",
            "1/1 - 0s - loss: 2.3833 - accuracy: 0.2727 - 8ms/epoch - 8ms/step\n",
            "Epoch 11/200\n",
            "1/1 - 0s - loss: 2.3701 - accuracy: 0.2727 - 8ms/epoch - 8ms/step\n",
            "Epoch 12/200\n",
            "1/1 - 0s - loss: 2.3562 - accuracy: 0.2727 - 8ms/epoch - 8ms/step\n",
            "Epoch 13/200\n",
            "1/1 - 0s - loss: 2.3417 - accuracy: 0.2727 - 10ms/epoch - 10ms/step\n",
            "Epoch 14/200\n",
            "1/1 - 0s - loss: 2.3265 - accuracy: 0.2727 - 7ms/epoch - 7ms/step\n",
            "Epoch 15/200\n",
            "1/1 - 0s - loss: 2.3105 - accuracy: 0.2727 - 8ms/epoch - 8ms/step\n",
            "Epoch 16/200\n",
            "1/1 - 0s - loss: 2.2938 - accuracy: 0.2727 - 8ms/epoch - 8ms/step\n",
            "Epoch 17/200\n",
            "1/1 - 0s - loss: 2.2763 - accuracy: 0.2727 - 7ms/epoch - 7ms/step\n",
            "Epoch 18/200\n",
            "1/1 - 0s - loss: 2.2580 - accuracy: 0.4545 - 8ms/epoch - 8ms/step\n",
            "Epoch 19/200\n",
            "1/1 - 0s - loss: 2.2388 - accuracy: 0.4545 - 8ms/epoch - 8ms/step\n",
            "Epoch 20/200\n",
            "1/1 - 0s - loss: 2.2188 - accuracy: 0.4545 - 8ms/epoch - 8ms/step\n",
            "Epoch 21/200\n",
            "1/1 - 0s - loss: 2.1981 - accuracy: 0.4545 - 8ms/epoch - 8ms/step\n",
            "Epoch 22/200\n",
            "1/1 - 0s - loss: 2.1766 - accuracy: 0.4545 - 8ms/epoch - 8ms/step\n",
            "Epoch 23/200\n",
            "1/1 - 0s - loss: 2.1544 - accuracy: 0.4545 - 11ms/epoch - 11ms/step\n",
            "Epoch 24/200\n",
            "1/1 - 0s - loss: 2.1316 - accuracy: 0.5455 - 8ms/epoch - 8ms/step\n",
            "Epoch 25/200\n",
            "1/1 - 0s - loss: 2.1082 - accuracy: 0.4545 - 7ms/epoch - 7ms/step\n",
            "Epoch 26/200\n",
            "1/1 - 0s - loss: 2.0844 - accuracy: 0.4545 - 7ms/epoch - 7ms/step\n",
            "Epoch 27/200\n",
            "1/1 - 0s - loss: 2.0602 - accuracy: 0.4545 - 7ms/epoch - 7ms/step\n",
            "Epoch 28/200\n",
            "1/1 - 0s - loss: 2.0358 - accuracy: 0.4545 - 8ms/epoch - 8ms/step\n",
            "Epoch 29/200\n",
            "1/1 - 0s - loss: 2.0112 - accuracy: 0.4545 - 8ms/epoch - 8ms/step\n",
            "Epoch 30/200\n",
            "1/1 - 0s - loss: 1.9865 - accuracy: 0.4545 - 7ms/epoch - 7ms/step\n",
            "Epoch 31/200\n",
            "1/1 - 0s - loss: 1.9619 - accuracy: 0.4545 - 7ms/epoch - 7ms/step\n",
            "Epoch 32/200\n",
            "1/1 - 0s - loss: 1.9374 - accuracy: 0.4545 - 7ms/epoch - 7ms/step\n",
            "Epoch 33/200\n",
            "1/1 - 0s - loss: 1.9131 - accuracy: 0.4545 - 7ms/epoch - 7ms/step\n",
            "Epoch 34/200\n",
            "1/1 - 0s - loss: 1.8891 - accuracy: 0.4545 - 7ms/epoch - 7ms/step\n",
            "Epoch 35/200\n",
            "1/1 - 0s - loss: 1.8654 - accuracy: 0.4545 - 7ms/epoch - 7ms/step\n",
            "Epoch 36/200\n",
            "1/1 - 0s - loss: 1.8420 - accuracy: 0.4545 - 8ms/epoch - 8ms/step\n",
            "Epoch 37/200\n",
            "1/1 - 0s - loss: 1.8190 - accuracy: 0.4545 - 12ms/epoch - 12ms/step\n",
            "Epoch 38/200\n",
            "1/1 - 0s - loss: 1.7963 - accuracy: 0.4545 - 8ms/epoch - 8ms/step\n",
            "Epoch 39/200\n",
            "1/1 - 0s - loss: 1.7740 - accuracy: 0.4545 - 6ms/epoch - 6ms/step\n",
            "Epoch 40/200\n",
            "1/1 - 0s - loss: 1.7519 - accuracy: 0.4545 - 7ms/epoch - 7ms/step\n",
            "Epoch 41/200\n",
            "1/1 - 0s - loss: 1.7302 - accuracy: 0.4545 - 7ms/epoch - 7ms/step\n",
            "Epoch 42/200\n",
            "1/1 - 0s - loss: 1.7087 - accuracy: 0.4545 - 8ms/epoch - 8ms/step\n",
            "Epoch 43/200\n",
            "1/1 - 0s - loss: 1.6874 - accuracy: 0.4545 - 9ms/epoch - 9ms/step\n",
            "Epoch 44/200\n",
            "1/1 - 0s - loss: 1.6663 - accuracy: 0.4545 - 8ms/epoch - 8ms/step\n",
            "Epoch 45/200\n",
            "1/1 - 0s - loss: 1.6455 - accuracy: 0.4545 - 6ms/epoch - 6ms/step\n",
            "Epoch 46/200\n",
            "1/1 - 0s - loss: 1.6248 - accuracy: 0.4545 - 9ms/epoch - 9ms/step\n",
            "Epoch 47/200\n",
            "1/1 - 0s - loss: 1.6045 - accuracy: 0.4545 - 7ms/epoch - 7ms/step\n",
            "Epoch 48/200\n",
            "1/1 - 0s - loss: 1.5843 - accuracy: 0.4545 - 7ms/epoch - 7ms/step\n",
            "Epoch 49/200\n",
            "1/1 - 0s - loss: 1.5645 - accuracy: 0.4545 - 6ms/epoch - 6ms/step\n",
            "Epoch 50/200\n",
            "1/1 - 0s - loss: 1.5449 - accuracy: 0.4545 - 8ms/epoch - 8ms/step\n",
            "Epoch 51/200\n",
            "1/1 - 0s - loss: 1.5257 - accuracy: 0.4545 - 8ms/epoch - 8ms/step\n",
            "Epoch 52/200\n",
            "1/1 - 0s - loss: 1.5067 - accuracy: 0.4545 - 8ms/epoch - 8ms/step\n",
            "Epoch 53/200\n",
            "1/1 - 0s - loss: 1.4879 - accuracy: 0.4545 - 7ms/epoch - 7ms/step\n",
            "Epoch 54/200\n",
            "1/1 - 0s - loss: 1.4694 - accuracy: 0.4545 - 8ms/epoch - 8ms/step\n",
            "Epoch 55/200\n",
            "1/1 - 0s - loss: 1.4510 - accuracy: 0.4545 - 8ms/epoch - 8ms/step\n",
            "Epoch 56/200\n",
            "1/1 - 0s - loss: 1.4328 - accuracy: 0.4545 - 7ms/epoch - 7ms/step\n",
            "Epoch 57/200\n",
            "1/1 - 0s - loss: 1.4147 - accuracy: 0.5455 - 7ms/epoch - 7ms/step\n",
            "Epoch 58/200\n",
            "1/1 - 0s - loss: 1.3967 - accuracy: 0.5455 - 11ms/epoch - 11ms/step\n",
            "Epoch 59/200\n",
            "1/1 - 0s - loss: 1.3787 - accuracy: 0.5455 - 7ms/epoch - 7ms/step\n",
            "Epoch 60/200\n",
            "1/1 - 0s - loss: 1.3608 - accuracy: 0.5455 - 7ms/epoch - 7ms/step\n",
            "Epoch 61/200\n",
            "1/1 - 0s - loss: 1.3428 - accuracy: 0.6364 - 9ms/epoch - 9ms/step\n",
            "Epoch 62/200\n",
            "1/1 - 0s - loss: 1.3250 - accuracy: 0.6364 - 17ms/epoch - 17ms/step\n",
            "Epoch 63/200\n",
            "1/1 - 0s - loss: 1.3071 - accuracy: 0.6364 - 9ms/epoch - 9ms/step\n",
            "Epoch 64/200\n",
            "1/1 - 0s - loss: 1.2893 - accuracy: 0.6364 - 9ms/epoch - 9ms/step\n",
            "Epoch 65/200\n",
            "1/1 - 0s - loss: 1.2715 - accuracy: 0.6364 - 9ms/epoch - 9ms/step\n",
            "Epoch 66/200\n",
            "1/1 - 0s - loss: 1.2538 - accuracy: 0.6364 - 11ms/epoch - 11ms/step\n",
            "Epoch 67/200\n",
            "1/1 - 0s - loss: 1.2362 - accuracy: 0.6364 - 8ms/epoch - 8ms/step\n",
            "Epoch 68/200\n",
            "1/1 - 0s - loss: 1.2187 - accuracy: 0.6364 - 8ms/epoch - 8ms/step\n",
            "Epoch 69/200\n",
            "1/1 - 0s - loss: 1.2012 - accuracy: 0.6364 - 7ms/epoch - 7ms/step\n",
            "Epoch 70/200\n",
            "1/1 - 0s - loss: 1.1839 - accuracy: 0.6364 - 8ms/epoch - 8ms/step\n",
            "Epoch 71/200\n",
            "1/1 - 0s - loss: 1.1666 - accuracy: 0.6364 - 9ms/epoch - 9ms/step\n",
            "Epoch 72/200\n",
            "1/1 - 0s - loss: 1.1496 - accuracy: 0.6364 - 8ms/epoch - 8ms/step\n",
            "Epoch 73/200\n",
            "1/1 - 0s - loss: 1.1326 - accuracy: 0.6364 - 9ms/epoch - 9ms/step\n",
            "Epoch 74/200\n",
            "1/1 - 0s - loss: 1.1159 - accuracy: 0.6364 - 7ms/epoch - 7ms/step\n",
            "Epoch 75/200\n",
            "1/1 - 0s - loss: 1.0993 - accuracy: 0.6364 - 8ms/epoch - 8ms/step\n",
            "Epoch 76/200\n",
            "1/1 - 0s - loss: 1.0829 - accuracy: 0.6364 - 7ms/epoch - 7ms/step\n",
            "Epoch 77/200\n",
            "1/1 - 0s - loss: 1.0667 - accuracy: 0.6364 - 8ms/epoch - 8ms/step\n",
            "Epoch 78/200\n",
            "1/1 - 0s - loss: 1.0506 - accuracy: 0.6364 - 7ms/epoch - 7ms/step\n",
            "Epoch 79/200\n",
            "1/1 - 0s - loss: 1.0347 - accuracy: 0.6364 - 8ms/epoch - 8ms/step\n",
            "Epoch 80/200\n",
            "1/1 - 0s - loss: 1.0190 - accuracy: 0.6364 - 7ms/epoch - 7ms/step\n",
            "Epoch 81/200\n",
            "1/1 - 0s - loss: 1.0034 - accuracy: 0.6364 - 7ms/epoch - 7ms/step\n",
            "Epoch 82/200\n",
            "1/1 - 0s - loss: 0.9879 - accuracy: 0.6364 - 7ms/epoch - 7ms/step\n",
            "Epoch 83/200\n",
            "1/1 - 0s - loss: 0.9726 - accuracy: 0.6364 - 10ms/epoch - 10ms/step\n",
            "Epoch 84/200\n",
            "1/1 - 0s - loss: 0.9574 - accuracy: 0.6364 - 9ms/epoch - 9ms/step\n",
            "Epoch 85/200\n",
            "1/1 - 0s - loss: 0.9422 - accuracy: 0.6364 - 7ms/epoch - 7ms/step\n",
            "Epoch 86/200\n",
            "1/1 - 0s - loss: 0.9272 - accuracy: 0.7273 - 7ms/epoch - 7ms/step\n",
            "Epoch 87/200\n",
            "1/1 - 0s - loss: 0.9122 - accuracy: 0.7273 - 15ms/epoch - 15ms/step\n",
            "Epoch 88/200\n",
            "1/1 - 0s - loss: 0.8972 - accuracy: 0.7273 - 9ms/epoch - 9ms/step\n",
            "Epoch 89/200\n",
            "1/1 - 0s - loss: 0.8823 - accuracy: 0.7273 - 7ms/epoch - 7ms/step\n",
            "Epoch 90/200\n",
            "1/1 - 0s - loss: 0.8674 - accuracy: 0.9091 - 9ms/epoch - 9ms/step\n",
            "Epoch 91/200\n",
            "1/1 - 0s - loss: 0.8526 - accuracy: 0.9091 - 8ms/epoch - 8ms/step\n",
            "Epoch 92/200\n",
            "1/1 - 0s - loss: 0.8378 - accuracy: 0.9091 - 8ms/epoch - 8ms/step\n",
            "Epoch 93/200\n",
            "1/1 - 0s - loss: 0.8231 - accuracy: 0.9091 - 8ms/epoch - 8ms/step\n",
            "Epoch 94/200\n",
            "1/1 - 0s - loss: 0.8084 - accuracy: 0.9091 - 9ms/epoch - 9ms/step\n",
            "Epoch 95/200\n",
            "1/1 - 0s - loss: 0.7937 - accuracy: 0.9091 - 7ms/epoch - 7ms/step\n",
            "Epoch 96/200\n",
            "1/1 - 0s - loss: 0.7792 - accuracy: 0.9091 - 8ms/epoch - 8ms/step\n",
            "Epoch 97/200\n",
            "1/1 - 0s - loss: 0.7647 - accuracy: 0.9091 - 8ms/epoch - 8ms/step\n",
            "Epoch 98/200\n",
            "1/1 - 0s - loss: 0.7504 - accuracy: 0.9091 - 8ms/epoch - 8ms/step\n",
            "Epoch 99/200\n",
            "1/1 - 0s - loss: 0.7362 - accuracy: 0.9091 - 8ms/epoch - 8ms/step\n",
            "Epoch 100/200\n",
            "1/1 - 0s - loss: 0.7221 - accuracy: 0.9091 - 8ms/epoch - 8ms/step\n",
            "Epoch 101/200\n",
            "1/1 - 0s - loss: 0.7081 - accuracy: 0.9091 - 8ms/epoch - 8ms/step\n",
            "Epoch 102/200\n",
            "1/1 - 0s - loss: 0.6944 - accuracy: 0.9091 - 8ms/epoch - 8ms/step\n",
            "Epoch 103/200\n",
            "1/1 - 0s - loss: 0.6808 - accuracy: 0.9091 - 9ms/epoch - 9ms/step\n",
            "Epoch 104/200\n",
            "1/1 - 0s - loss: 0.6674 - accuracy: 0.9091 - 9ms/epoch - 9ms/step\n",
            "Epoch 105/200\n",
            "1/1 - 0s - loss: 0.6542 - accuracy: 0.9091 - 10ms/epoch - 10ms/step\n",
            "Epoch 106/200\n",
            "1/1 - 0s - loss: 0.6413 - accuracy: 0.9091 - 9ms/epoch - 9ms/step\n",
            "Epoch 107/200\n",
            "1/1 - 0s - loss: 0.6286 - accuracy: 0.9091 - 9ms/epoch - 9ms/step\n",
            "Epoch 108/200\n",
            "1/1 - 0s - loss: 0.6161 - accuracy: 0.9091 - 13ms/epoch - 13ms/step\n",
            "Epoch 109/200\n",
            "1/1 - 0s - loss: 0.6039 - accuracy: 0.9091 - 13ms/epoch - 13ms/step\n",
            "Epoch 110/200\n",
            "1/1 - 0s - loss: 0.5919 - accuracy: 0.9091 - 13ms/epoch - 13ms/step\n",
            "Epoch 111/200\n",
            "1/1 - 0s - loss: 0.5801 - accuracy: 0.9091 - 8ms/epoch - 8ms/step\n",
            "Epoch 112/200\n",
            "1/1 - 0s - loss: 0.5686 - accuracy: 0.9091 - 9ms/epoch - 9ms/step\n",
            "Epoch 113/200\n",
            "1/1 - 0s - loss: 0.5574 - accuracy: 0.9091 - 7ms/epoch - 7ms/step\n",
            "Epoch 114/200\n",
            "1/1 - 0s - loss: 0.5464 - accuracy: 0.9091 - 9ms/epoch - 9ms/step\n",
            "Epoch 115/200\n",
            "1/1 - 0s - loss: 0.5357 - accuracy: 0.9091 - 7ms/epoch - 7ms/step\n",
            "Epoch 116/200\n",
            "1/1 - 0s - loss: 0.5252 - accuracy: 0.9091 - 9ms/epoch - 9ms/step\n",
            "Epoch 117/200\n",
            "1/1 - 0s - loss: 0.5150 - accuracy: 0.9091 - 9ms/epoch - 9ms/step\n",
            "Epoch 118/200\n",
            "1/1 - 0s - loss: 0.5050 - accuracy: 0.9091 - 8ms/epoch - 8ms/step\n",
            "Epoch 119/200\n",
            "1/1 - 0s - loss: 0.4952 - accuracy: 0.9091 - 7ms/epoch - 7ms/step\n",
            "Epoch 120/200\n",
            "1/1 - 0s - loss: 0.4857 - accuracy: 0.9091 - 8ms/epoch - 8ms/step\n",
            "Epoch 121/200\n",
            "1/1 - 0s - loss: 0.4764 - accuracy: 0.9091 - 8ms/epoch - 8ms/step\n",
            "Epoch 122/200\n",
            "1/1 - 0s - loss: 0.4673 - accuracy: 0.9091 - 7ms/epoch - 7ms/step\n",
            "Epoch 123/200\n",
            "1/1 - 0s - loss: 0.4585 - accuracy: 0.9091 - 8ms/epoch - 8ms/step\n",
            "Epoch 124/200\n",
            "1/1 - 0s - loss: 0.4499 - accuracy: 0.9091 - 8ms/epoch - 8ms/step\n",
            "Epoch 125/200\n",
            "1/1 - 0s - loss: 0.4414 - accuracy: 0.9091 - 8ms/epoch - 8ms/step\n",
            "Epoch 126/200\n",
            "1/1 - 0s - loss: 0.4332 - accuracy: 0.9091 - 8ms/epoch - 8ms/step\n",
            "Epoch 127/200\n",
            "1/1 - 0s - loss: 0.4252 - accuracy: 0.9091 - 7ms/epoch - 7ms/step\n",
            "Epoch 128/200\n",
            "1/1 - 0s - loss: 0.4174 - accuracy: 0.9091 - 8ms/epoch - 8ms/step\n",
            "Epoch 129/200\n",
            "1/1 - 0s - loss: 0.4097 - accuracy: 0.9091 - 8ms/epoch - 8ms/step\n",
            "Epoch 130/200\n",
            "1/1 - 0s - loss: 0.4023 - accuracy: 0.9091 - 8ms/epoch - 8ms/step\n",
            "Epoch 131/200\n",
            "1/1 - 0s - loss: 0.3950 - accuracy: 0.9091 - 7ms/epoch - 7ms/step\n",
            "Epoch 132/200\n",
            "1/1 - 0s - loss: 0.3879 - accuracy: 0.9091 - 8ms/epoch - 8ms/step\n",
            "Epoch 133/200\n",
            "1/1 - 0s - loss: 0.3809 - accuracy: 0.9091 - 8ms/epoch - 8ms/step\n",
            "Epoch 134/200\n",
            "1/1 - 0s - loss: 0.3741 - accuracy: 0.9091 - 7ms/epoch - 7ms/step\n",
            "Epoch 135/200\n",
            "1/1 - 0s - loss: 0.3674 - accuracy: 0.9091 - 8ms/epoch - 8ms/step\n",
            "Epoch 136/200\n",
            "1/1 - 0s - loss: 0.3609 - accuracy: 0.9091 - 7ms/epoch - 7ms/step\n",
            "Epoch 137/200\n",
            "1/1 - 0s - loss: 0.3545 - accuracy: 0.9091 - 9ms/epoch - 9ms/step\n",
            "Epoch 138/200\n",
            "1/1 - 0s - loss: 0.3483 - accuracy: 0.9091 - 8ms/epoch - 8ms/step\n",
            "Epoch 139/200\n",
            "1/1 - 0s - loss: 0.3422 - accuracy: 0.9091 - 7ms/epoch - 7ms/step\n",
            "Epoch 140/200\n",
            "1/1 - 0s - loss: 0.3362 - accuracy: 0.9091 - 7ms/epoch - 7ms/step\n",
            "Epoch 141/200\n",
            "1/1 - 0s - loss: 0.3303 - accuracy: 0.9091 - 7ms/epoch - 7ms/step\n",
            "Epoch 142/200\n",
            "1/1 - 0s - loss: 0.3245 - accuracy: 0.9091 - 7ms/epoch - 7ms/step\n",
            "Epoch 143/200\n",
            "1/1 - 0s - loss: 0.3189 - accuracy: 0.9091 - 6ms/epoch - 6ms/step\n",
            "Epoch 144/200\n",
            "1/1 - 0s - loss: 0.3134 - accuracy: 0.9091 - 9ms/epoch - 9ms/step\n",
            "Epoch 145/200\n",
            "1/1 - 0s - loss: 0.3079 - accuracy: 0.9091 - 7ms/epoch - 7ms/step\n",
            "Epoch 146/200\n",
            "1/1 - 0s - loss: 0.3026 - accuracy: 0.9091 - 7ms/epoch - 7ms/step\n",
            "Epoch 147/200\n",
            "1/1 - 0s - loss: 0.2973 - accuracy: 0.9091 - 10ms/epoch - 10ms/step\n",
            "Epoch 148/200\n",
            "1/1 - 0s - loss: 0.2921 - accuracy: 0.9091 - 8ms/epoch - 8ms/step\n",
            "Epoch 149/200\n",
            "1/1 - 0s - loss: 0.2871 - accuracy: 0.9091 - 8ms/epoch - 8ms/step\n",
            "Epoch 150/200\n",
            "1/1 - 0s - loss: 0.2821 - accuracy: 0.9091 - 7ms/epoch - 7ms/step\n",
            "Epoch 151/200\n",
            "1/1 - 0s - loss: 0.2772 - accuracy: 0.9091 - 7ms/epoch - 7ms/step\n",
            "Epoch 152/200\n",
            "1/1 - 0s - loss: 0.2724 - accuracy: 0.9091 - 7ms/epoch - 7ms/step\n",
            "Epoch 153/200\n",
            "1/1 - 0s - loss: 0.2676 - accuracy: 0.9091 - 7ms/epoch - 7ms/step\n",
            "Epoch 154/200\n",
            "1/1 - 0s - loss: 0.2629 - accuracy: 0.9091 - 9ms/epoch - 9ms/step\n",
            "Epoch 155/200\n",
            "1/1 - 0s - loss: 0.2583 - accuracy: 0.9091 - 9ms/epoch - 9ms/step\n",
            "Epoch 156/200\n",
            "1/1 - 0s - loss: 0.2538 - accuracy: 1.0000 - 8ms/epoch - 8ms/step\n",
            "Epoch 157/200\n",
            "1/1 - 0s - loss: 0.2494 - accuracy: 1.0000 - 8ms/epoch - 8ms/step\n",
            "Epoch 158/200\n",
            "1/1 - 0s - loss: 0.2450 - accuracy: 1.0000 - 9ms/epoch - 9ms/step\n",
            "Epoch 159/200\n",
            "1/1 - 0s - loss: 0.2407 - accuracy: 1.0000 - 10ms/epoch - 10ms/step\n",
            "Epoch 160/200\n",
            "1/1 - 0s - loss: 0.2364 - accuracy: 1.0000 - 10ms/epoch - 10ms/step\n",
            "Epoch 161/200\n",
            "1/1 - 0s - loss: 0.2322 - accuracy: 1.0000 - 11ms/epoch - 11ms/step\n",
            "Epoch 162/200\n",
            "1/1 - 0s - loss: 0.2281 - accuracy: 1.0000 - 9ms/epoch - 9ms/step\n",
            "Epoch 163/200\n",
            "1/1 - 0s - loss: 0.2241 - accuracy: 1.0000 - 8ms/epoch - 8ms/step\n",
            "Epoch 164/200\n",
            "1/1 - 0s - loss: 0.2201 - accuracy: 1.0000 - 9ms/epoch - 9ms/step\n",
            "Epoch 165/200\n",
            "1/1 - 0s - loss: 0.2161 - accuracy: 1.0000 - 9ms/epoch - 9ms/step\n",
            "Epoch 166/200\n",
            "1/1 - 0s - loss: 0.2123 - accuracy: 1.0000 - 8ms/epoch - 8ms/step\n",
            "Epoch 167/200\n",
            "1/1 - 0s - loss: 0.2084 - accuracy: 1.0000 - 9ms/epoch - 9ms/step\n",
            "Epoch 168/200\n",
            "1/1 - 0s - loss: 0.2047 - accuracy: 1.0000 - 8ms/epoch - 8ms/step\n",
            "Epoch 169/200\n",
            "1/1 - 0s - loss: 0.2010 - accuracy: 1.0000 - 10ms/epoch - 10ms/step\n",
            "Epoch 170/200\n",
            "1/1 - 0s - loss: 0.1974 - accuracy: 1.0000 - 7ms/epoch - 7ms/step\n",
            "Epoch 171/200\n",
            "1/1 - 0s - loss: 0.1938 - accuracy: 1.0000 - 10ms/epoch - 10ms/step\n",
            "Epoch 172/200\n",
            "1/1 - 0s - loss: 0.1903 - accuracy: 1.0000 - 7ms/epoch - 7ms/step\n",
            "Epoch 173/200\n",
            "1/1 - 0s - loss: 0.1869 - accuracy: 1.0000 - 8ms/epoch - 8ms/step\n",
            "Epoch 174/200\n",
            "1/1 - 0s - loss: 0.1835 - accuracy: 1.0000 - 8ms/epoch - 8ms/step\n",
            "Epoch 175/200\n",
            "1/1 - 0s - loss: 0.1801 - accuracy: 1.0000 - 9ms/epoch - 9ms/step\n",
            "Epoch 176/200\n",
            "1/1 - 0s - loss: 0.1768 - accuracy: 1.0000 - 8ms/epoch - 8ms/step\n",
            "Epoch 177/200\n",
            "1/1 - 0s - loss: 0.1736 - accuracy: 1.0000 - 10ms/epoch - 10ms/step\n",
            "Epoch 178/200\n",
            "1/1 - 0s - loss: 0.1705 - accuracy: 1.0000 - 8ms/epoch - 8ms/step\n",
            "Epoch 179/200\n",
            "1/1 - 0s - loss: 0.1673 - accuracy: 1.0000 - 8ms/epoch - 8ms/step\n",
            "Epoch 180/200\n",
            "1/1 - 0s - loss: 0.1643 - accuracy: 1.0000 - 10ms/epoch - 10ms/step\n",
            "Epoch 181/200\n",
            "1/1 - 0s - loss: 0.1613 - accuracy: 1.0000 - 9ms/epoch - 9ms/step\n",
            "Epoch 182/200\n",
            "1/1 - 0s - loss: 0.1584 - accuracy: 1.0000 - 8ms/epoch - 8ms/step\n",
            "Epoch 183/200\n",
            "1/1 - 0s - loss: 0.1555 - accuracy: 1.0000 - 8ms/epoch - 8ms/step\n",
            "Epoch 184/200\n",
            "1/1 - 0s - loss: 0.1526 - accuracy: 1.0000 - 9ms/epoch - 9ms/step\n",
            "Epoch 185/200\n",
            "1/1 - 0s - loss: 0.1498 - accuracy: 1.0000 - 8ms/epoch - 8ms/step\n",
            "Epoch 186/200\n",
            "1/1 - 0s - loss: 0.1471 - accuracy: 1.0000 - 7ms/epoch - 7ms/step\n",
            "Epoch 187/200\n",
            "1/1 - 0s - loss: 0.1444 - accuracy: 1.0000 - 9ms/epoch - 9ms/step\n",
            "Epoch 188/200\n",
            "1/1 - 0s - loss: 0.1418 - accuracy: 1.0000 - 9ms/epoch - 9ms/step\n",
            "Epoch 189/200\n",
            "1/1 - 0s - loss: 0.1392 - accuracy: 1.0000 - 9ms/epoch - 9ms/step\n",
            "Epoch 190/200\n",
            "1/1 - 0s - loss: 0.1367 - accuracy: 1.0000 - 9ms/epoch - 9ms/step\n",
            "Epoch 191/200\n",
            "1/1 - 0s - loss: 0.1342 - accuracy: 1.0000 - 8ms/epoch - 8ms/step\n",
            "Epoch 192/200\n",
            "1/1 - 0s - loss: 0.1318 - accuracy: 1.0000 - 7ms/epoch - 7ms/step\n",
            "Epoch 193/200\n",
            "1/1 - 0s - loss: 0.1294 - accuracy: 1.0000 - 7ms/epoch - 7ms/step\n",
            "Epoch 194/200\n",
            "1/1 - 0s - loss: 0.1271 - accuracy: 1.0000 - 11ms/epoch - 11ms/step\n",
            "Epoch 195/200\n",
            "1/1 - 0s - loss: 0.1248 - accuracy: 1.0000 - 10ms/epoch - 10ms/step\n",
            "Epoch 196/200\n",
            "1/1 - 0s - loss: 0.1226 - accuracy: 1.0000 - 11ms/epoch - 11ms/step\n",
            "Epoch 197/200\n",
            "1/1 - 0s - loss: 0.1204 - accuracy: 1.0000 - 15ms/epoch - 15ms/step\n",
            "Epoch 198/200\n",
            "1/1 - 0s - loss: 0.1183 - accuracy: 1.0000 - 12ms/epoch - 12ms/step\n",
            "Epoch 199/200\n",
            "1/1 - 0s - loss: 0.1162 - accuracy: 1.0000 - 12ms/epoch - 12ms/step\n",
            "Epoch 200/200\n",
            "1/1 - 0s - loss: 0.1141 - accuracy: 1.0000 - 10ms/epoch - 10ms/step\n"
          ]
        },
        {
          "output_type": "execute_result",
          "data": {
            "text/plain": [
              "<keras.callbacks.History at 0x7fe7e832ae80>"
            ]
          },
          "metadata": {},
          "execution_count": 16
        }
      ]
    },
    {
      "cell_type": "code",
      "source": [
        "def sentence_generation(model, tokenizer, current_word, n): # 모델, 토크나이저, 현재 단어, 반복할 횟수\n",
        "    init_word = current_word\n",
        "    sentence = ''\n",
        "\n",
        "    # n번 반복\n",
        "    for _ in range(n):\n",
        "        # 현재 단어에 대한 정수 인코딩과 패딩\n",
        "        encoded = tokenizer.texts_to_sequences([current_word])[0]\n",
        "        encoded = pad_sequences([encoded], maxlen=5, padding='pre')\n",
        "        # 입력한 X(현재 단어)에 대해서 Y를 예측하고 Y(예측한 단어)를 result에 저장.\n",
        "        result = model.predict(encoded, verbose=0)\n",
        "        result = np.argmax(result, axis=1)\n",
        "\n",
        "        for word, index in tokenizer.word_index.items(): \n",
        "            # 만약 예측한 단어와 인덱스와 동일한 단어가 있다면 break\n",
        "            if index == result:\n",
        "                break\n",
        "\n",
        "        # 현재 단어 + ' ' + 예측 단어를 현재 단어로 변경\n",
        "        current_word = current_word + ' '  + word\n",
        "\n",
        "        # 예측 단어를 문장에 저장\n",
        "        sentence = sentence + ' ' + word\n",
        "\n",
        "    sentence = init_word + sentence\n",
        "    return sentence"
      ],
      "metadata": {
        "id": "4CTVVI4qcCvh"
      },
      "execution_count": 17,
      "outputs": []
    },
    {
      "cell_type": "code",
      "source": [
        "print(sentence_generation(model, tokenizer, '경마장에', 4))"
      ],
      "metadata": {
        "colab": {
          "base_uri": "https://localhost:8080/"
        },
        "id": "MIoZKKj_cNuK",
        "outputId": "56983e79-72dd-40fd-a0ac-b3deac7edf25"
      },
      "execution_count": 18,
      "outputs": [
        {
          "output_type": "stream",
          "name": "stdout",
          "text": [
            "경마장에 있는 말이 뛰고 있다\n"
          ]
        }
      ]
    },
    {
      "cell_type": "code",
      "source": [
        "print(sentence_generation(model, tokenizer, '그의', 2))"
      ],
      "metadata": {
        "colab": {
          "base_uri": "https://localhost:8080/"
        },
        "id": "C6rwKY-CcPey",
        "outputId": "779d557f-2917-43ef-c7af-cd27e4a8b194"
      },
      "execution_count": 19,
      "outputs": [
        {
          "output_type": "stream",
          "name": "stdout",
          "text": [
            "그의 말이 법이다\n"
          ]
        }
      ]
    },
    {
      "cell_type": "code",
      "source": [
        "print(sentence_generation(model, tokenizer, '가는', 5))"
      ],
      "metadata": {
        "colab": {
          "base_uri": "https://localhost:8080/"
        },
        "id": "FxQClF3DcQYy",
        "outputId": "d232f80e-2ffb-4222-981d-160c5e333f40"
      },
      "execution_count": 20,
      "outputs": [
        {
          "output_type": "stream",
          "name": "stdout",
          "text": [
            "가는 말이 고와야 오는 말이 곱다\n"
          ]
        }
      ]
    },
    {
      "cell_type": "markdown",
      "source": [
        "## 2. LSTM을 이용하여 텍스트 생성하기"
      ],
      "metadata": {
        "id": "rPu0zp4ccXgW"
      }
    },
    {
      "cell_type": "markdown",
      "source": [
        "### 1) 데이터에 대한 이해와 전처리"
      ],
      "metadata": {
        "id": "eTSeKgvKcZOi"
      }
    },
    {
      "cell_type": "code",
      "source": [
        "import pandas as pd\n",
        "import numpy as np\n",
        "from string import punctuation\n",
        "\n",
        "from tensorflow.keras.preprocessing.text import Tokenizer\n",
        "from tensorflow.keras.preprocessing.sequence import pad_sequences\n",
        "from tensorflow.keras.utils import to_categorical"
      ],
      "metadata": {
        "id": "Irzg8sK3cRby"
      },
      "execution_count": 21,
      "outputs": []
    },
    {
      "cell_type": "code",
      "source": [
        "df = pd.read_csv('ArticlesApril2018.csv')\n",
        "df.head()"
      ],
      "metadata": {
        "colab": {
          "base_uri": "https://localhost:8080/",
          "height": 704
        },
        "id": "qH2gNjd6cpWZ",
        "outputId": "d11c3c39-f5d8-4e75-cd42-0d120aa9ea48"
      },
      "execution_count": 22,
      "outputs": [
        {
          "output_type": "execute_result",
          "data": {
            "text/plain": [
              "                  articleID  articleWordCount  \\\n",
              "0  5adf6684068401528a2aa69b               781   \n",
              "1  5adf653f068401528a2aa697               656   \n",
              "2  5adf4626068401528a2aa628              2427   \n",
              "3  5adf40d2068401528a2aa619               626   \n",
              "4  5adf3d64068401528a2aa60f               815   \n",
              "\n",
              "                                      byline documentType  \\\n",
              "0                             By JOHN BRANCH      article   \n",
              "1                           By LISA FRIEDMAN      article   \n",
              "2                              By PETE WELLS      article   \n",
              "3  By JULIE HIRSCHFELD DAVIS and PETER BAKER      article   \n",
              "4             By IAN AUSTEN and DAN BILEFSKY      article   \n",
              "\n",
              "                                            headline  \\\n",
              "0  Former N.F.L. Cheerleaders’ Settlement Offer: ...   \n",
              "1  E.P.A. to Unveil a New Rule. Its Effect: Less ...   \n",
              "2                            The New Noma, Explained   \n",
              "3                                            Unknown   \n",
              "4                                            Unknown   \n",
              "\n",
              "                                            keywords  multimedia     newDesk  \\\n",
              "0  ['Workplace Hazards and Violations', 'Football...          68      Sports   \n",
              "1  ['Environmental Protection Agency', 'Pruitt, S...          68     Climate   \n",
              "2  ['Restaurants', 'Noma (Copenhagen, Restaurant)...          66      Dining   \n",
              "3  ['Macron, Emmanuel (1977- )', 'Trump, Donald J...          68  Washington   \n",
              "4  ['Toronto, Ontario, Attack (April, 2018)', 'Mu...          68     Foreign   \n",
              "\n",
              "   printPage              pubDate   sectionName  \\\n",
              "0          0  2018-04-24 17:16:49  Pro Football   \n",
              "1          0  2018-04-24 17:11:21       Unknown   \n",
              "2          0  2018-04-24 14:58:44       Unknown   \n",
              "3          0  2018-04-24 14:35:57        Europe   \n",
              "4          0  2018-04-24 14:21:21        Canada   \n",
              "\n",
              "                                             snippet              source  \\\n",
              "0  “I understand that they could meet with us, pa...  The New York Times   \n",
              "1  The agency plans to publish a new regulation T...  The New York Times   \n",
              "2  What’s it like to eat at the second incarnatio...  The New York Times   \n",
              "3  President Trump welcomed President Emmanuel Ma...  The New York Times   \n",
              "4  Alek Minassian, 25, a resident of Toronto’s Ri...  The New York Times   \n",
              "\n",
              "  typeOfMaterial                                             webURL  \n",
              "0           News  https://www.nytimes.com/2018/04/24/sports/foot...  \n",
              "1           News  https://www.nytimes.com/2018/04/24/climate/epa...  \n",
              "2           News  https://www.nytimes.com/2018/04/24/dining/noma...  \n",
              "3           News  https://www.nytimes.com/2018/04/24/world/europ...  \n",
              "4           News  https://www.nytimes.com/2018/04/24/world/canad...  "
            ],
            "text/html": [
              "\n",
              "  <div id=\"df-ad009e85-10b2-431c-a2cc-104e6818ba49\">\n",
              "    <div class=\"colab-df-container\">\n",
              "      <div>\n",
              "<style scoped>\n",
              "    .dataframe tbody tr th:only-of-type {\n",
              "        vertical-align: middle;\n",
              "    }\n",
              "\n",
              "    .dataframe tbody tr th {\n",
              "        vertical-align: top;\n",
              "    }\n",
              "\n",
              "    .dataframe thead th {\n",
              "        text-align: right;\n",
              "    }\n",
              "</style>\n",
              "<table border=\"1\" class=\"dataframe\">\n",
              "  <thead>\n",
              "    <tr style=\"text-align: right;\">\n",
              "      <th></th>\n",
              "      <th>articleID</th>\n",
              "      <th>articleWordCount</th>\n",
              "      <th>byline</th>\n",
              "      <th>documentType</th>\n",
              "      <th>headline</th>\n",
              "      <th>keywords</th>\n",
              "      <th>multimedia</th>\n",
              "      <th>newDesk</th>\n",
              "      <th>printPage</th>\n",
              "      <th>pubDate</th>\n",
              "      <th>sectionName</th>\n",
              "      <th>snippet</th>\n",
              "      <th>source</th>\n",
              "      <th>typeOfMaterial</th>\n",
              "      <th>webURL</th>\n",
              "    </tr>\n",
              "  </thead>\n",
              "  <tbody>\n",
              "    <tr>\n",
              "      <th>0</th>\n",
              "      <td>5adf6684068401528a2aa69b</td>\n",
              "      <td>781</td>\n",
              "      <td>By JOHN BRANCH</td>\n",
              "      <td>article</td>\n",
              "      <td>Former N.F.L. Cheerleaders’ Settlement Offer: ...</td>\n",
              "      <td>['Workplace Hazards and Violations', 'Football...</td>\n",
              "      <td>68</td>\n",
              "      <td>Sports</td>\n",
              "      <td>0</td>\n",
              "      <td>2018-04-24 17:16:49</td>\n",
              "      <td>Pro Football</td>\n",
              "      <td>“I understand that they could meet with us, pa...</td>\n",
              "      <td>The New York Times</td>\n",
              "      <td>News</td>\n",
              "      <td>https://www.nytimes.com/2018/04/24/sports/foot...</td>\n",
              "    </tr>\n",
              "    <tr>\n",
              "      <th>1</th>\n",
              "      <td>5adf653f068401528a2aa697</td>\n",
              "      <td>656</td>\n",
              "      <td>By LISA FRIEDMAN</td>\n",
              "      <td>article</td>\n",
              "      <td>E.P.A. to Unveil a New Rule. Its Effect: Less ...</td>\n",
              "      <td>['Environmental Protection Agency', 'Pruitt, S...</td>\n",
              "      <td>68</td>\n",
              "      <td>Climate</td>\n",
              "      <td>0</td>\n",
              "      <td>2018-04-24 17:11:21</td>\n",
              "      <td>Unknown</td>\n",
              "      <td>The agency plans to publish a new regulation T...</td>\n",
              "      <td>The New York Times</td>\n",
              "      <td>News</td>\n",
              "      <td>https://www.nytimes.com/2018/04/24/climate/epa...</td>\n",
              "    </tr>\n",
              "    <tr>\n",
              "      <th>2</th>\n",
              "      <td>5adf4626068401528a2aa628</td>\n",
              "      <td>2427</td>\n",
              "      <td>By PETE WELLS</td>\n",
              "      <td>article</td>\n",
              "      <td>The New Noma, Explained</td>\n",
              "      <td>['Restaurants', 'Noma (Copenhagen, Restaurant)...</td>\n",
              "      <td>66</td>\n",
              "      <td>Dining</td>\n",
              "      <td>0</td>\n",
              "      <td>2018-04-24 14:58:44</td>\n",
              "      <td>Unknown</td>\n",
              "      <td>What’s it like to eat at the second incarnatio...</td>\n",
              "      <td>The New York Times</td>\n",
              "      <td>News</td>\n",
              "      <td>https://www.nytimes.com/2018/04/24/dining/noma...</td>\n",
              "    </tr>\n",
              "    <tr>\n",
              "      <th>3</th>\n",
              "      <td>5adf40d2068401528a2aa619</td>\n",
              "      <td>626</td>\n",
              "      <td>By JULIE HIRSCHFELD DAVIS and PETER BAKER</td>\n",
              "      <td>article</td>\n",
              "      <td>Unknown</td>\n",
              "      <td>['Macron, Emmanuel (1977- )', 'Trump, Donald J...</td>\n",
              "      <td>68</td>\n",
              "      <td>Washington</td>\n",
              "      <td>0</td>\n",
              "      <td>2018-04-24 14:35:57</td>\n",
              "      <td>Europe</td>\n",
              "      <td>President Trump welcomed President Emmanuel Ma...</td>\n",
              "      <td>The New York Times</td>\n",
              "      <td>News</td>\n",
              "      <td>https://www.nytimes.com/2018/04/24/world/europ...</td>\n",
              "    </tr>\n",
              "    <tr>\n",
              "      <th>4</th>\n",
              "      <td>5adf3d64068401528a2aa60f</td>\n",
              "      <td>815</td>\n",
              "      <td>By IAN AUSTEN and DAN BILEFSKY</td>\n",
              "      <td>article</td>\n",
              "      <td>Unknown</td>\n",
              "      <td>['Toronto, Ontario, Attack (April, 2018)', 'Mu...</td>\n",
              "      <td>68</td>\n",
              "      <td>Foreign</td>\n",
              "      <td>0</td>\n",
              "      <td>2018-04-24 14:21:21</td>\n",
              "      <td>Canada</td>\n",
              "      <td>Alek Minassian, 25, a resident of Toronto’s Ri...</td>\n",
              "      <td>The New York Times</td>\n",
              "      <td>News</td>\n",
              "      <td>https://www.nytimes.com/2018/04/24/world/canad...</td>\n",
              "    </tr>\n",
              "  </tbody>\n",
              "</table>\n",
              "</div>\n",
              "      <button class=\"colab-df-convert\" onclick=\"convertToInteractive('df-ad009e85-10b2-431c-a2cc-104e6818ba49')\"\n",
              "              title=\"Convert this dataframe to an interactive table.\"\n",
              "              style=\"display:none;\">\n",
              "        \n",
              "  <svg xmlns=\"http://www.w3.org/2000/svg\" height=\"24px\"viewBox=\"0 0 24 24\"\n",
              "       width=\"24px\">\n",
              "    <path d=\"M0 0h24v24H0V0z\" fill=\"none\"/>\n",
              "    <path d=\"M18.56 5.44l.94 2.06.94-2.06 2.06-.94-2.06-.94-.94-2.06-.94 2.06-2.06.94zm-11 1L8.5 8.5l.94-2.06 2.06-.94-2.06-.94L8.5 2.5l-.94 2.06-2.06.94zm10 10l.94 2.06.94-2.06 2.06-.94-2.06-.94-.94-2.06-.94 2.06-2.06.94z\"/><path d=\"M17.41 7.96l-1.37-1.37c-.4-.4-.92-.59-1.43-.59-.52 0-1.04.2-1.43.59L10.3 9.45l-7.72 7.72c-.78.78-.78 2.05 0 2.83L4 21.41c.39.39.9.59 1.41.59.51 0 1.02-.2 1.41-.59l7.78-7.78 2.81-2.81c.8-.78.8-2.07 0-2.86zM5.41 20L4 18.59l7.72-7.72 1.47 1.35L5.41 20z\"/>\n",
              "  </svg>\n",
              "      </button>\n",
              "      \n",
              "  <style>\n",
              "    .colab-df-container {\n",
              "      display:flex;\n",
              "      flex-wrap:wrap;\n",
              "      gap: 12px;\n",
              "    }\n",
              "\n",
              "    .colab-df-convert {\n",
              "      background-color: #E8F0FE;\n",
              "      border: none;\n",
              "      border-radius: 50%;\n",
              "      cursor: pointer;\n",
              "      display: none;\n",
              "      fill: #1967D2;\n",
              "      height: 32px;\n",
              "      padding: 0 0 0 0;\n",
              "      width: 32px;\n",
              "    }\n",
              "\n",
              "    .colab-df-convert:hover {\n",
              "      background-color: #E2EBFA;\n",
              "      box-shadow: 0px 1px 2px rgba(60, 64, 67, 0.3), 0px 1px 3px 1px rgba(60, 64, 67, 0.15);\n",
              "      fill: #174EA6;\n",
              "    }\n",
              "\n",
              "    [theme=dark] .colab-df-convert {\n",
              "      background-color: #3B4455;\n",
              "      fill: #D2E3FC;\n",
              "    }\n",
              "\n",
              "    [theme=dark] .colab-df-convert:hover {\n",
              "      background-color: #434B5C;\n",
              "      box-shadow: 0px 1px 3px 1px rgba(0, 0, 0, 0.15);\n",
              "      filter: drop-shadow(0px 1px 2px rgba(0, 0, 0, 0.3));\n",
              "      fill: #FFFFFF;\n",
              "    }\n",
              "  </style>\n",
              "\n",
              "      <script>\n",
              "        const buttonEl =\n",
              "          document.querySelector('#df-ad009e85-10b2-431c-a2cc-104e6818ba49 button.colab-df-convert');\n",
              "        buttonEl.style.display =\n",
              "          google.colab.kernel.accessAllowed ? 'block' : 'none';\n",
              "\n",
              "        async function convertToInteractive(key) {\n",
              "          const element = document.querySelector('#df-ad009e85-10b2-431c-a2cc-104e6818ba49');\n",
              "          const dataTable =\n",
              "            await google.colab.kernel.invokeFunction('convertToInteractive',\n",
              "                                                     [key], {});\n",
              "          if (!dataTable) return;\n",
              "\n",
              "          const docLinkHtml = 'Like what you see? Visit the ' +\n",
              "            '<a target=\"_blank\" href=https://colab.research.google.com/notebooks/data_table.ipynb>data table notebook</a>'\n",
              "            + ' to learn more about interactive tables.';\n",
              "          element.innerHTML = '';\n",
              "          dataTable['output_type'] = 'display_data';\n",
              "          await google.colab.output.renderOutput(dataTable, element);\n",
              "          const docLink = document.createElement('div');\n",
              "          docLink.innerHTML = docLinkHtml;\n",
              "          element.appendChild(docLink);\n",
              "        }\n",
              "      </script>\n",
              "    </div>\n",
              "  </div>\n",
              "  "
            ]
          },
          "metadata": {},
          "execution_count": 22
        }
      ]
    },
    {
      "cell_type": "code",
      "source": [
        "print('열의 개수: ',len(df.columns))\n",
        "print(df.columns)"
      ],
      "metadata": {
        "colab": {
          "base_uri": "https://localhost:8080/"
        },
        "id": "M7IhvXJzcrV7",
        "outputId": "a281ca6e-6df3-492a-ae88-d79ce5329ffc"
      },
      "execution_count": 23,
      "outputs": [
        {
          "output_type": "stream",
          "name": "stdout",
          "text": [
            "열의 개수:  15\n",
            "Index(['articleID', 'articleWordCount', 'byline', 'documentType', 'headline',\n",
            "       'keywords', 'multimedia', 'newDesk', 'printPage', 'pubDate',\n",
            "       'sectionName', 'snippet', 'source', 'typeOfMaterial', 'webURL'],\n",
            "      dtype='object')\n"
          ]
        }
      ]
    },
    {
      "cell_type": "code",
      "source": [
        "print(df['headline'].isnull().values.any())"
      ],
      "metadata": {
        "colab": {
          "base_uri": "https://localhost:8080/"
        },
        "id": "f84csP_octoi",
        "outputId": "781f9962-c710-4ef6-866f-2394965c5193"
      },
      "execution_count": 24,
      "outputs": [
        {
          "output_type": "stream",
          "name": "stdout",
          "text": [
            "False\n"
          ]
        }
      ]
    },
    {
      "cell_type": "code",
      "source": [
        "headline = []\n",
        "# 헤드라인의 값들을 리스트로 저장\n",
        "headline.extend(list(df.headline.values)) \n",
        "headline[:5]"
      ],
      "metadata": {
        "colab": {
          "base_uri": "https://localhost:8080/"
        },
        "id": "YGVNj9oAcxPD",
        "outputId": "d43f6682-7360-465f-f9c1-679985944247"
      },
      "execution_count": 25,
      "outputs": [
        {
          "output_type": "execute_result",
          "data": {
            "text/plain": [
              "['Former N.F.L. Cheerleaders’ Settlement Offer: $1 and a Meeting With Goodell',\n",
              " 'E.P.A. to Unveil a New Rule. Its Effect: Less Science in Policymaking.',\n",
              " 'The New Noma, Explained',\n",
              " 'Unknown',\n",
              " 'Unknown']"
            ]
          },
          "metadata": {},
          "execution_count": 25
        }
      ]
    },
    {
      "cell_type": "code",
      "source": [
        "print('총 샘플의 개수 : {}'.format(len(headline)))"
      ],
      "metadata": {
        "colab": {
          "base_uri": "https://localhost:8080/"
        },
        "id": "2izHZiPfc0Gq",
        "outputId": "ce5e1d98-cbcf-4090-dbb5-33364afabe2d"
      },
      "execution_count": 26,
      "outputs": [
        {
          "output_type": "stream",
          "name": "stdout",
          "text": [
            "총 샘플의 개수 : 1324\n"
          ]
        }
      ]
    },
    {
      "cell_type": "code",
      "source": [
        "headline = [word for word in headline if word != \"Unknown\"]\n",
        "print('노이즈값 제거 후 샘플의 개수 : {}'.format(len(headline)))"
      ],
      "metadata": {
        "colab": {
          "base_uri": "https://localhost:8080/"
        },
        "id": "G48BphLBc27S",
        "outputId": "05d33288-181a-4b83-9161-3913b6e57fe1"
      },
      "execution_count": 27,
      "outputs": [
        {
          "output_type": "stream",
          "name": "stdout",
          "text": [
            "노이즈값 제거 후 샘플의 개수 : 1214\n"
          ]
        }
      ]
    },
    {
      "cell_type": "code",
      "source": [
        "headline[:5]"
      ],
      "metadata": {
        "colab": {
          "base_uri": "https://localhost:8080/"
        },
        "id": "QKNqWeCBc8si",
        "outputId": "07b1509a-e778-4a97-af87-fa9b0cc85dfd"
      },
      "execution_count": 28,
      "outputs": [
        {
          "output_type": "execute_result",
          "data": {
            "text/plain": [
              "['Former N.F.L. Cheerleaders’ Settlement Offer: $1 and a Meeting With Goodell',\n",
              " 'E.P.A. to Unveil a New Rule. Its Effect: Less Science in Policymaking.',\n",
              " 'The New Noma, Explained',\n",
              " 'How a Bag of Texas Dirt  Became a Times Tradition',\n",
              " 'Is School a Place for Self-Expression?']"
            ]
          },
          "metadata": {},
          "execution_count": 28
        }
      ]
    },
    {
      "cell_type": "code",
      "source": [
        "def repreprocessing(raw_sentence):\n",
        "    preproceseed_sentence = raw_sentence.encode(\"utf8\").decode(\"ascii\",'ignore')\n",
        "    # 구두점 제거와 동시에 소문자화\n",
        "    return ''.join(word for word in preproceseed_sentence if word not in punctuation).lower()\n",
        "\n",
        "preprocessed_headline = [repreprocessing(x) for x in headline]\n",
        "preprocessed_headline[:5]"
      ],
      "metadata": {
        "colab": {
          "base_uri": "https://localhost:8080/"
        },
        "id": "qlUBf-pqc-WC",
        "outputId": "947c95b4-3cbc-4dfe-b7e7-c0f8f8bd0c08"
      },
      "execution_count": 29,
      "outputs": [
        {
          "output_type": "execute_result",
          "data": {
            "text/plain": [
              "['former nfl cheerleaders settlement offer 1 and a meeting with goodell',\n",
              " 'epa to unveil a new rule its effect less science in policymaking',\n",
              " 'the new noma explained',\n",
              " 'how a bag of texas dirt  became a times tradition',\n",
              " 'is school a place for selfexpression']"
            ]
          },
          "metadata": {},
          "execution_count": 29
        }
      ]
    },
    {
      "cell_type": "code",
      "source": [
        "tokenizer = Tokenizer()\n",
        "tokenizer.fit_on_texts(preprocessed_headline)\n",
        "vocab_size = len(tokenizer.word_index) + 1\n",
        "print('단어 집합의 크기 : %d' % vocab_size)"
      ],
      "metadata": {
        "colab": {
          "base_uri": "https://localhost:8080/"
        },
        "id": "G8-xxoCHdBM6",
        "outputId": "05ff7a4e-3e2f-4c9a-e15e-2fab6899e2fb"
      },
      "execution_count": 30,
      "outputs": [
        {
          "output_type": "stream",
          "name": "stdout",
          "text": [
            "단어 집합의 크기 : 3494\n"
          ]
        }
      ]
    },
    {
      "cell_type": "code",
      "source": [
        "sequences = list()\n",
        "\n",
        "for sentence in preprocessed_headline:\n",
        "\n",
        "    # 각 샘플에 대한 정수 인코딩\n",
        "    encoded = tokenizer.texts_to_sequences([sentence])[0] \n",
        "    for i in range(1, len(encoded)):\n",
        "        sequence = encoded[:i+1]\n",
        "        sequences.append(sequence)\n",
        "\n",
        "sequences[:11]"
      ],
      "metadata": {
        "colab": {
          "base_uri": "https://localhost:8080/"
        },
        "id": "3B3WjESddEFC",
        "outputId": "c8d075de-3c16-42a7-922e-f38c2168ba84"
      },
      "execution_count": 31,
      "outputs": [
        {
          "output_type": "execute_result",
          "data": {
            "text/plain": [
              "[[99, 269],\n",
              " [99, 269, 371],\n",
              " [99, 269, 371, 1115],\n",
              " [99, 269, 371, 1115, 582],\n",
              " [99, 269, 371, 1115, 582, 52],\n",
              " [99, 269, 371, 1115, 582, 52, 7],\n",
              " [99, 269, 371, 1115, 582, 52, 7, 2],\n",
              " [99, 269, 371, 1115, 582, 52, 7, 2, 372],\n",
              " [99, 269, 371, 1115, 582, 52, 7, 2, 372, 10],\n",
              " [99, 269, 371, 1115, 582, 52, 7, 2, 372, 10, 1116],\n",
              " [100, 3]]"
            ]
          },
          "metadata": {},
          "execution_count": 31
        }
      ]
    },
    {
      "cell_type": "code",
      "source": [
        "index_to_word = {}\n",
        "for key, value in tokenizer.word_index.items(): # 인덱스를 단어로 바꾸기 위해 index_to_word를 생성\n",
        "    index_to_word[value] = key\n",
        "\n",
        "print('빈도수 상위 582번 단어 : {}'.format(index_to_word[582]))"
      ],
      "metadata": {
        "colab": {
          "base_uri": "https://localhost:8080/"
        },
        "id": "saLI0bFWdKhC",
        "outputId": "e95e3d0b-7885-452e-ba68-a2279eff78fb"
      },
      "execution_count": 32,
      "outputs": [
        {
          "output_type": "stream",
          "name": "stdout",
          "text": [
            "빈도수 상위 582번 단어 : offer\n"
          ]
        }
      ]
    },
    {
      "cell_type": "code",
      "source": [
        "max_len = max(len(l) for l in sequences)\n",
        "print('샘플의 최대 길이 : {}'.format(max_len))"
      ],
      "metadata": {
        "colab": {
          "base_uri": "https://localhost:8080/"
        },
        "id": "LxorlyO_dOSy",
        "outputId": "cb47224d-7959-452d-80dd-88a301b0afb7"
      },
      "execution_count": 33,
      "outputs": [
        {
          "output_type": "stream",
          "name": "stdout",
          "text": [
            "샘플의 최대 길이 : 24\n"
          ]
        }
      ]
    },
    {
      "cell_type": "code",
      "source": [
        "sequences = pad_sequences(sequences, maxlen=max_len, padding='pre')\n",
        "print(sequences[:3])"
      ],
      "metadata": {
        "colab": {
          "base_uri": "https://localhost:8080/"
        },
        "id": "mDlPz--ndPtS",
        "outputId": "cac01c38-7dc2-418f-aed8-ab5800e56a49"
      },
      "execution_count": 34,
      "outputs": [
        {
          "output_type": "stream",
          "name": "stdout",
          "text": [
            "[[   0    0    0    0    0    0    0    0    0    0    0    0    0    0\n",
            "     0    0    0    0    0    0    0    0   99  269]\n",
            " [   0    0    0    0    0    0    0    0    0    0    0    0    0    0\n",
            "     0    0    0    0    0    0    0   99  269  371]\n",
            " [   0    0    0    0    0    0    0    0    0    0    0    0    0    0\n",
            "     0    0    0    0    0    0   99  269  371 1115]]\n"
          ]
        }
      ]
    },
    {
      "cell_type": "code",
      "source": [
        "sequences = np.array(sequences)\n",
        "X = sequences[:,:-1]\n",
        "y = sequences[:,-1]"
      ],
      "metadata": {
        "id": "KfmvECNndRZy"
      },
      "execution_count": 35,
      "outputs": []
    },
    {
      "cell_type": "code",
      "source": [
        "print(X[:3])"
      ],
      "metadata": {
        "colab": {
          "base_uri": "https://localhost:8080/"
        },
        "id": "TxpxD2vFdS_J",
        "outputId": "4caab587-4624-49ec-debc-fb759c48940c"
      },
      "execution_count": 36,
      "outputs": [
        {
          "output_type": "stream",
          "name": "stdout",
          "text": [
            "[[  0   0   0   0   0   0   0   0   0   0   0   0   0   0   0   0   0   0\n",
            "    0   0   0   0  99]\n",
            " [  0   0   0   0   0   0   0   0   0   0   0   0   0   0   0   0   0   0\n",
            "    0   0   0  99 269]\n",
            " [  0   0   0   0   0   0   0   0   0   0   0   0   0   0   0   0   0   0\n",
            "    0   0  99 269 371]]\n"
          ]
        }
      ]
    },
    {
      "cell_type": "code",
      "source": [
        "print(y[:3])"
      ],
      "metadata": {
        "colab": {
          "base_uri": "https://localhost:8080/"
        },
        "id": "hixNWXkZdT3p",
        "outputId": "661ec6e0-4e9e-457e-b6b0-77eda408e282"
      },
      "execution_count": 37,
      "outputs": [
        {
          "output_type": "stream",
          "name": "stdout",
          "text": [
            "[ 269  371 1115]\n"
          ]
        }
      ]
    },
    {
      "cell_type": "code",
      "source": [
        "y = to_categorical(y, num_classes=vocab_size)"
      ],
      "metadata": {
        "id": "tCjFbMq8dVFi"
      },
      "execution_count": 38,
      "outputs": []
    },
    {
      "cell_type": "markdown",
      "source": [
        "### 2) 모델 설계하기"
      ],
      "metadata": {
        "id": "YiJ2TvhFdXig"
      }
    },
    {
      "cell_type": "code",
      "source": [
        "from tensorflow.keras.models import Sequential\n",
        "from tensorflow.keras.layers import Embedding, Dense, LSTM"
      ],
      "metadata": {
        "id": "ztDVmViTdWVQ"
      },
      "execution_count": 39,
      "outputs": []
    },
    {
      "cell_type": "code",
      "source": [
        "embedding_dim = 10\n",
        "hidden_units = 128\n",
        "\n",
        "model = Sequential()\n",
        "model.add(Embedding(vocab_size, embedding_dim))\n",
        "model.add(LSTM(hidden_units))\n",
        "model.add(Dense(vocab_size, activation='softmax'))\n",
        "model.compile(loss='categorical_crossentropy', optimizer='adam', metrics=['accuracy'])\n",
        "model.fit(X, y, epochs=200, verbose=2)"
      ],
      "metadata": {
        "colab": {
          "base_uri": "https://localhost:8080/"
        },
        "id": "qSv_MsgDdbzx",
        "outputId": "3916d133-09f6-4dfb-eb2f-9d6a0ccfe034"
      },
      "execution_count": 40,
      "outputs": [
        {
          "output_type": "stream",
          "name": "stdout",
          "text": [
            "Epoch 1/200\n",
            "244/244 - 14s - loss: 7.6491 - accuracy: 0.0299 - 14s/epoch - 56ms/step\n",
            "Epoch 2/200\n",
            "244/244 - 12s - loss: 7.1152 - accuracy: 0.0291 - 12s/epoch - 48ms/step\n",
            "Epoch 3/200\n",
            "244/244 - 11s - loss: 6.9786 - accuracy: 0.0354 - 11s/epoch - 44ms/step\n",
            "Epoch 4/200\n",
            "244/244 - 11s - loss: 6.8522 - accuracy: 0.0397 - 11s/epoch - 44ms/step\n",
            "Epoch 5/200\n",
            "244/244 - 9s - loss: 6.7023 - accuracy: 0.0432 - 9s/epoch - 39ms/step\n",
            "Epoch 6/200\n",
            "244/244 - 11s - loss: 6.5285 - accuracy: 0.0488 - 11s/epoch - 44ms/step\n",
            "Epoch 7/200\n",
            "244/244 - 11s - loss: 6.3395 - accuracy: 0.0545 - 11s/epoch - 45ms/step\n",
            "Epoch 8/200\n",
            "244/244 - 11s - loss: 6.1451 - accuracy: 0.0581 - 11s/epoch - 44ms/step\n",
            "Epoch 9/200\n",
            "244/244 - 11s - loss: 5.9549 - accuracy: 0.0611 - 11s/epoch - 43ms/step\n",
            "Epoch 10/200\n",
            "244/244 - 10s - loss: 5.7763 - accuracy: 0.0672 - 10s/epoch - 40ms/step\n",
            "Epoch 11/200\n",
            "244/244 - 10s - loss: 5.6040 - accuracy: 0.0704 - 10s/epoch - 42ms/step\n",
            "Epoch 12/200\n",
            "244/244 - 11s - loss: 5.4387 - accuracy: 0.0756 - 11s/epoch - 44ms/step\n",
            "Epoch 13/200\n",
            "244/244 - 11s - loss: 5.2841 - accuracy: 0.0773 - 11s/epoch - 44ms/step\n",
            "Epoch 14/200\n",
            "244/244 - 11s - loss: 5.1335 - accuracy: 0.0837 - 11s/epoch - 43ms/step\n",
            "Epoch 15/200\n",
            "244/244 - 10s - loss: 4.9934 - accuracy: 0.0927 - 10s/epoch - 43ms/step\n",
            "Epoch 16/200\n",
            "244/244 - 9s - loss: 4.8545 - accuracy: 0.1029 - 9s/epoch - 39ms/step\n",
            "Epoch 17/200\n",
            "244/244 - 11s - loss: 4.7213 - accuracy: 0.1160 - 11s/epoch - 44ms/step\n",
            "Epoch 18/200\n",
            "244/244 - 13s - loss: 4.5909 - accuracy: 0.1307 - 13s/epoch - 55ms/step\n",
            "Epoch 19/200\n",
            "244/244 - 11s - loss: 4.4623 - accuracy: 0.1411 - 11s/epoch - 44ms/step\n",
            "Epoch 20/200\n",
            "244/244 - 11s - loss: 4.3392 - accuracy: 0.1638 - 11s/epoch - 44ms/step\n",
            "Epoch 21/200\n",
            "244/244 - 11s - loss: 4.2184 - accuracy: 0.1819 - 11s/epoch - 44ms/step\n",
            "Epoch 22/200\n",
            "244/244 - 9s - loss: 4.1032 - accuracy: 0.1972 - 9s/epoch - 38ms/step\n",
            "Epoch 23/200\n",
            "244/244 - 11s - loss: 3.9879 - accuracy: 0.2167 - 11s/epoch - 44ms/step\n",
            "Epoch 24/200\n",
            "244/244 - 11s - loss: 3.8758 - accuracy: 0.2293 - 11s/epoch - 44ms/step\n",
            "Epoch 25/200\n",
            "244/244 - 11s - loss: 3.7692 - accuracy: 0.2486 - 11s/epoch - 44ms/step\n",
            "Epoch 26/200\n",
            "244/244 - 11s - loss: 3.6656 - accuracy: 0.2686 - 11s/epoch - 44ms/step\n",
            "Epoch 27/200\n",
            "244/244 - 10s - loss: 3.5631 - accuracy: 0.2857 - 10s/epoch - 40ms/step\n",
            "Epoch 28/200\n",
            "244/244 - 10s - loss: 3.4656 - accuracy: 0.3032 - 10s/epoch - 42ms/step\n",
            "Epoch 29/200\n",
            "244/244 - 11s - loss: 3.3701 - accuracy: 0.3191 - 11s/epoch - 44ms/step\n",
            "Epoch 30/200\n",
            "244/244 - 11s - loss: 3.2786 - accuracy: 0.3359 - 11s/epoch - 44ms/step\n",
            "Epoch 31/200\n",
            "244/244 - 11s - loss: 3.1912 - accuracy: 0.3501 - 11s/epoch - 44ms/step\n",
            "Epoch 32/200\n",
            "244/244 - 10s - loss: 3.1017 - accuracy: 0.3687 - 10s/epoch - 43ms/step\n",
            "Epoch 33/200\n",
            "244/244 - 10s - loss: 3.0201 - accuracy: 0.3846 - 10s/epoch - 39ms/step\n",
            "Epoch 34/200\n",
            "244/244 - 11s - loss: 2.9401 - accuracy: 0.4015 - 11s/epoch - 44ms/step\n",
            "Epoch 35/200\n",
            "244/244 - 11s - loss: 2.8628 - accuracy: 0.4180 - 11s/epoch - 44ms/step\n",
            "Epoch 36/200\n",
            "244/244 - 11s - loss: 2.7878 - accuracy: 0.4305 - 11s/epoch - 44ms/step\n",
            "Epoch 37/200\n",
            "244/244 - 11s - loss: 2.7223 - accuracy: 0.4419 - 11s/epoch - 44ms/step\n",
            "Epoch 38/200\n",
            "244/244 - 9s - loss: 2.6468 - accuracy: 0.4542 - 9s/epoch - 38ms/step\n",
            "Epoch 39/200\n",
            "244/244 - 11s - loss: 2.5807 - accuracy: 0.4705 - 11s/epoch - 44ms/step\n",
            "Epoch 40/200\n",
            "244/244 - 11s - loss: 2.5151 - accuracy: 0.4856 - 11s/epoch - 44ms/step\n",
            "Epoch 41/200\n",
            "244/244 - 11s - loss: 2.4526 - accuracy: 0.4955 - 11s/epoch - 44ms/step\n",
            "Epoch 42/200\n",
            "244/244 - 11s - loss: 2.3918 - accuracy: 0.5062 - 11s/epoch - 44ms/step\n",
            "Epoch 43/200\n",
            "244/244 - 10s - loss: 2.3319 - accuracy: 0.5184 - 10s/epoch - 42ms/step\n",
            "Epoch 44/200\n",
            "244/244 - 10s - loss: 2.2743 - accuracy: 0.5316 - 10s/epoch - 40ms/step\n",
            "Epoch 45/200\n",
            "244/244 - 11s - loss: 2.2177 - accuracy: 0.5449 - 11s/epoch - 44ms/step\n",
            "Epoch 46/200\n",
            "244/244 - 11s - loss: 2.1646 - accuracy: 0.5544 - 11s/epoch - 44ms/step\n",
            "Epoch 47/200\n",
            "244/244 - 11s - loss: 2.1135 - accuracy: 0.5686 - 11s/epoch - 44ms/step\n",
            "Epoch 48/200\n",
            "244/244 - 11s - loss: 2.0595 - accuracy: 0.5766 - 11s/epoch - 44ms/step\n",
            "Epoch 49/200\n",
            "244/244 - 10s - loss: 2.0062 - accuracy: 0.5867 - 10s/epoch - 39ms/step\n",
            "Epoch 50/200\n",
            "244/244 - 11s - loss: 1.9622 - accuracy: 0.5990 - 11s/epoch - 44ms/step\n",
            "Epoch 51/200\n",
            "244/244 - 11s - loss: 1.9145 - accuracy: 0.6099 - 11s/epoch - 46ms/step\n",
            "Epoch 52/200\n",
            "244/244 - 14s - loss: 1.8681 - accuracy: 0.6201 - 14s/epoch - 57ms/step\n",
            "Epoch 53/200\n",
            "244/244 - 11s - loss: 1.8244 - accuracy: 0.6278 - 11s/epoch - 46ms/step\n",
            "Epoch 54/200\n",
            "244/244 - 11s - loss: 1.7792 - accuracy: 0.6381 - 11s/epoch - 46ms/step\n",
            "Epoch 55/200\n",
            "244/244 - 11s - loss: 1.7377 - accuracy: 0.6510 - 11s/epoch - 45ms/step\n",
            "Epoch 56/200\n",
            "244/244 - 10s - loss: 1.6957 - accuracy: 0.6544 - 10s/epoch - 41ms/step\n",
            "Epoch 57/200\n",
            "244/244 - 12s - loss: 1.6589 - accuracy: 0.6683 - 12s/epoch - 47ms/step\n",
            "Epoch 58/200\n",
            "244/244 - 12s - loss: 1.6171 - accuracy: 0.6723 - 12s/epoch - 50ms/step\n",
            "Epoch 59/200\n",
            "244/244 - 11s - loss: 1.5765 - accuracy: 0.6859 - 11s/epoch - 46ms/step\n",
            "Epoch 60/200\n",
            "244/244 - 11s - loss: 1.5399 - accuracy: 0.6888 - 11s/epoch - 46ms/step\n",
            "Epoch 61/200\n",
            "244/244 - 11s - loss: 1.5067 - accuracy: 0.6951 - 11s/epoch - 46ms/step\n",
            "Epoch 62/200\n",
            "244/244 - 11s - loss: 1.4690 - accuracy: 0.7054 - 11s/epoch - 45ms/step\n",
            "Epoch 63/200\n",
            "244/244 - 10s - loss: 1.4362 - accuracy: 0.7141 - 10s/epoch - 42ms/step\n",
            "Epoch 64/200\n",
            "244/244 - 11s - loss: 1.4029 - accuracy: 0.7196 - 11s/epoch - 44ms/step\n",
            "Epoch 65/200\n",
            "244/244 - 11s - loss: 1.3692 - accuracy: 0.7238 - 11s/epoch - 46ms/step\n",
            "Epoch 66/200\n",
            "244/244 - 11s - loss: 1.3376 - accuracy: 0.7345 - 11s/epoch - 46ms/step\n",
            "Epoch 67/200\n",
            "244/244 - 11s - loss: 1.3058 - accuracy: 0.7398 - 11s/epoch - 45ms/step\n",
            "Epoch 68/200\n",
            "244/244 - 11s - loss: 1.2744 - accuracy: 0.7437 - 11s/epoch - 46ms/step\n",
            "Epoch 69/200\n",
            "244/244 - 11s - loss: 1.2448 - accuracy: 0.7560 - 11s/epoch - 47ms/step\n",
            "Epoch 70/200\n",
            "244/244 - 10s - loss: 1.2144 - accuracy: 0.7591 - 10s/epoch - 40ms/step\n",
            "Epoch 71/200\n",
            "244/244 - 11s - loss: 1.1884 - accuracy: 0.7644 - 11s/epoch - 45ms/step\n",
            "Epoch 72/200\n",
            "244/244 - 11s - loss: 1.1611 - accuracy: 0.7692 - 11s/epoch - 45ms/step\n",
            "Epoch 73/200\n",
            "244/244 - 11s - loss: 1.1319 - accuracy: 0.7765 - 11s/epoch - 46ms/step\n",
            "Epoch 74/200\n",
            "244/244 - 11s - loss: 1.1069 - accuracy: 0.7815 - 11s/epoch - 46ms/step\n",
            "Epoch 75/200\n",
            "244/244 - 11s - loss: 1.0823 - accuracy: 0.7870 - 11s/epoch - 46ms/step\n",
            "Epoch 76/200\n",
            "244/244 - 12s - loss: 1.0572 - accuracy: 0.7932 - 12s/epoch - 50ms/step\n",
            "Epoch 77/200\n",
            "244/244 - 10s - loss: 1.0335 - accuracy: 0.7953 - 10s/epoch - 43ms/step\n",
            "Epoch 78/200\n",
            "244/244 - 11s - loss: 1.0086 - accuracy: 0.8007 - 11s/epoch - 44ms/step\n",
            "Epoch 79/200\n",
            "244/244 - 11s - loss: 0.9842 - accuracy: 0.8047 - 11s/epoch - 46ms/step\n",
            "Epoch 80/200\n",
            "244/244 - 11s - loss: 0.9636 - accuracy: 0.8084 - 11s/epoch - 45ms/step\n",
            "Epoch 81/200\n",
            "244/244 - 11s - loss: 0.9410 - accuracy: 0.8129 - 11s/epoch - 45ms/step\n",
            "Epoch 82/200\n",
            "244/244 - 13s - loss: 0.9217 - accuracy: 0.8166 - 13s/epoch - 55ms/step\n",
            "Epoch 83/200\n",
            "244/244 - 11s - loss: 0.8984 - accuracy: 0.8205 - 11s/epoch - 45ms/step\n",
            "Epoch 84/200\n",
            "244/244 - 10s - loss: 0.8773 - accuracy: 0.8265 - 10s/epoch - 40ms/step\n",
            "Epoch 85/200\n",
            "244/244 - 11s - loss: 0.8586 - accuracy: 0.8296 - 11s/epoch - 46ms/step\n",
            "Epoch 86/200\n",
            "244/244 - 11s - loss: 0.8377 - accuracy: 0.8360 - 11s/epoch - 46ms/step\n",
            "Epoch 87/200\n",
            "244/244 - 11s - loss: 0.8195 - accuracy: 0.8378 - 11s/epoch - 45ms/step\n",
            "Epoch 88/200\n",
            "244/244 - 11s - loss: 0.8037 - accuracy: 0.8363 - 11s/epoch - 45ms/step\n",
            "Epoch 89/200\n",
            "244/244 - 11s - loss: 0.7870 - accuracy: 0.8439 - 11s/epoch - 45ms/step\n",
            "Epoch 90/200\n",
            "244/244 - 10s - loss: 0.7675 - accuracy: 0.8489 - 10s/epoch - 43ms/step\n",
            "Epoch 91/200\n",
            "244/244 - 11s - loss: 0.7496 - accuracy: 0.8538 - 11s/epoch - 43ms/step\n",
            "Epoch 92/200\n",
            "244/244 - 11s - loss: 0.7326 - accuracy: 0.8524 - 11s/epoch - 45ms/step\n",
            "Epoch 93/200\n",
            "244/244 - 11s - loss: 0.7180 - accuracy: 0.8567 - 11s/epoch - 45ms/step\n",
            "Epoch 94/200\n",
            "244/244 - 12s - loss: 0.7039 - accuracy: 0.8607 - 12s/epoch - 48ms/step\n",
            "Epoch 95/200\n",
            "244/244 - 11s - loss: 0.6888 - accuracy: 0.8616 - 11s/epoch - 44ms/step\n",
            "Epoch 96/200\n",
            "244/244 - 11s - loss: 0.6724 - accuracy: 0.8631 - 11s/epoch - 44ms/step\n",
            "Epoch 97/200\n",
            "244/244 - 9s - loss: 0.6610 - accuracy: 0.8677 - 9s/epoch - 38ms/step\n",
            "Epoch 98/200\n",
            "244/244 - 11s - loss: 0.6446 - accuracy: 0.8700 - 11s/epoch - 43ms/step\n",
            "Epoch 99/200\n",
            "244/244 - 11s - loss: 0.6299 - accuracy: 0.8731 - 11s/epoch - 43ms/step\n",
            "Epoch 100/200\n",
            "244/244 - 11s - loss: 0.6192 - accuracy: 0.8762 - 11s/epoch - 43ms/step\n",
            "Epoch 101/200\n",
            "244/244 - 11s - loss: 0.6055 - accuracy: 0.8786 - 11s/epoch - 44ms/step\n",
            "Epoch 102/200\n",
            "244/244 - 10s - loss: 0.5950 - accuracy: 0.8811 - 10s/epoch - 40ms/step\n",
            "Epoch 103/200\n",
            "244/244 - 11s - loss: 0.5814 - accuracy: 0.8826 - 11s/epoch - 44ms/step\n",
            "Epoch 104/200\n",
            "244/244 - 11s - loss: 0.5707 - accuracy: 0.8840 - 11s/epoch - 45ms/step\n",
            "Epoch 105/200\n",
            "244/244 - 11s - loss: 0.5566 - accuracy: 0.8902 - 11s/epoch - 44ms/step\n",
            "Epoch 106/200\n",
            "244/244 - 11s - loss: 0.5453 - accuracy: 0.8898 - 11s/epoch - 45ms/step\n",
            "Epoch 107/200\n",
            "244/244 - 11s - loss: 0.5353 - accuracy: 0.8909 - 11s/epoch - 45ms/step\n",
            "Epoch 108/200\n",
            "244/244 - 10s - loss: 0.5251 - accuracy: 0.8923 - 10s/epoch - 39ms/step\n",
            "Epoch 109/200\n",
            "244/244 - 11s - loss: 0.5136 - accuracy: 0.8957 - 11s/epoch - 44ms/step\n",
            "Epoch 110/200\n",
            "244/244 - 11s - loss: 0.5050 - accuracy: 0.8944 - 11s/epoch - 44ms/step\n",
            "Epoch 111/200\n",
            "244/244 - 11s - loss: 0.4948 - accuracy: 0.8986 - 11s/epoch - 45ms/step\n",
            "Epoch 112/200\n",
            "244/244 - 11s - loss: 0.4856 - accuracy: 0.8986 - 11s/epoch - 45ms/step\n",
            "Epoch 113/200\n",
            "244/244 - 11s - loss: 0.4787 - accuracy: 0.9008 - 11s/epoch - 44ms/step\n",
            "Epoch 114/200\n",
            "244/244 - 10s - loss: 0.4719 - accuracy: 0.9000 - 10s/epoch - 40ms/step\n",
            "Epoch 115/200\n",
            "244/244 - 13s - loss: 0.4640 - accuracy: 0.9021 - 13s/epoch - 52ms/step\n",
            "Epoch 116/200\n",
            "244/244 - 12s - loss: 0.4515 - accuracy: 0.9039 - 12s/epoch - 50ms/step\n",
            "Epoch 117/200\n",
            "244/244 - 11s - loss: 0.4426 - accuracy: 0.9059 - 11s/epoch - 45ms/step\n",
            "Epoch 118/200\n",
            "244/244 - 11s - loss: 0.4352 - accuracy: 0.9073 - 11s/epoch - 45ms/step\n",
            "Epoch 119/200\n",
            "244/244 - 11s - loss: 0.4291 - accuracy: 0.9053 - 11s/epoch - 45ms/step\n",
            "Epoch 120/200\n",
            "244/244 - 10s - loss: 0.4206 - accuracy: 0.9089 - 10s/epoch - 41ms/step\n",
            "Epoch 121/200\n",
            "244/244 - 10s - loss: 0.4140 - accuracy: 0.9100 - 10s/epoch - 42ms/step\n",
            "Epoch 122/200\n",
            "244/244 - 11s - loss: 0.4078 - accuracy: 0.9077 - 11s/epoch - 44ms/step\n",
            "Epoch 123/200\n",
            "244/244 - 11s - loss: 0.4032 - accuracy: 0.9111 - 11s/epoch - 45ms/step\n",
            "Epoch 124/200\n",
            "244/244 - 11s - loss: 0.3961 - accuracy: 0.9120 - 11s/epoch - 44ms/step\n",
            "Epoch 125/200\n",
            "244/244 - 11s - loss: 0.3934 - accuracy: 0.9098 - 11s/epoch - 44ms/step\n",
            "Epoch 126/200\n",
            "244/244 - 9s - loss: 0.3850 - accuracy: 0.9104 - 9s/epoch - 38ms/step\n",
            "Epoch 127/200\n",
            "244/244 - 11s - loss: 0.3786 - accuracy: 0.9123 - 11s/epoch - 43ms/step\n",
            "Epoch 128/200\n",
            "244/244 - 11s - loss: 0.3708 - accuracy: 0.9130 - 11s/epoch - 43ms/step\n",
            "Epoch 129/200\n",
            "244/244 - 11s - loss: 0.3667 - accuracy: 0.9134 - 11s/epoch - 43ms/step\n",
            "Epoch 130/200\n",
            "244/244 - 11s - loss: 0.3628 - accuracy: 0.9139 - 11s/epoch - 43ms/step\n",
            "Epoch 131/200\n",
            "244/244 - 9s - loss: 0.3597 - accuracy: 0.9140 - 9s/epoch - 38ms/step\n",
            "Epoch 132/200\n",
            "244/244 - 11s - loss: 0.3570 - accuracy: 0.9134 - 11s/epoch - 43ms/step\n",
            "Epoch 133/200\n",
            "244/244 - 11s - loss: 0.3580 - accuracy: 0.9134 - 11s/epoch - 43ms/step\n",
            "Epoch 134/200\n",
            "244/244 - 11s - loss: 0.3519 - accuracy: 0.9152 - 11s/epoch - 43ms/step\n",
            "Epoch 135/200\n",
            "244/244 - 11s - loss: 0.3494 - accuracy: 0.9145 - 11s/epoch - 44ms/step\n",
            "Epoch 136/200\n",
            "244/244 - 10s - loss: 0.3382 - accuracy: 0.9143 - 10s/epoch - 40ms/step\n",
            "Epoch 137/200\n",
            "244/244 - 10s - loss: 0.3333 - accuracy: 0.9149 - 10s/epoch - 43ms/step\n",
            "Epoch 138/200\n",
            "244/244 - 11s - loss: 0.3293 - accuracy: 0.9164 - 11s/epoch - 45ms/step\n",
            "Epoch 139/200\n",
            "244/244 - 11s - loss: 0.3273 - accuracy: 0.9162 - 11s/epoch - 45ms/step\n",
            "Epoch 140/200\n",
            "244/244 - 11s - loss: 0.3238 - accuracy: 0.9159 - 11s/epoch - 43ms/step\n",
            "Epoch 141/200\n",
            "244/244 - 11s - loss: 0.3222 - accuracy: 0.9163 - 11s/epoch - 44ms/step\n",
            "Epoch 142/200\n",
            "244/244 - 9s - loss: 0.3193 - accuracy: 0.9173 - 9s/epoch - 39ms/step\n",
            "Epoch 143/200\n",
            "244/244 - 11s - loss: 0.3168 - accuracy: 0.9154 - 11s/epoch - 44ms/step\n",
            "Epoch 144/200\n",
            "244/244 - 11s - loss: 0.3142 - accuracy: 0.9168 - 11s/epoch - 44ms/step\n",
            "Epoch 145/200\n",
            "244/244 - 11s - loss: 0.3101 - accuracy: 0.9166 - 11s/epoch - 44ms/step\n",
            "Epoch 146/200\n",
            "244/244 - 11s - loss: 0.3090 - accuracy: 0.9162 - 11s/epoch - 44ms/step\n",
            "Epoch 147/200\n",
            "244/244 - 10s - loss: 0.3088 - accuracy: 0.9149 - 10s/epoch - 43ms/step\n",
            "Epoch 148/200\n",
            "244/244 - 10s - loss: 0.3076 - accuracy: 0.9141 - 10s/epoch - 40ms/step\n",
            "Epoch 149/200\n",
            "244/244 - 11s - loss: 0.3028 - accuracy: 0.9180 - 11s/epoch - 44ms/step\n",
            "Epoch 150/200\n",
            "244/244 - 11s - loss: 0.3000 - accuracy: 0.9171 - 11s/epoch - 44ms/step\n",
            "Epoch 151/200\n",
            "244/244 - 11s - loss: 0.2979 - accuracy: 0.9159 - 11s/epoch - 45ms/step\n",
            "Epoch 152/200\n",
            "244/244 - 14s - loss: 0.2959 - accuracy: 0.9175 - 14s/epoch - 56ms/step\n",
            "Epoch 153/200\n",
            "244/244 - 11s - loss: 0.2946 - accuracy: 0.9170 - 11s/epoch - 45ms/step\n",
            "Epoch 154/200\n",
            "244/244 - 10s - loss: 0.2925 - accuracy: 0.9167 - 10s/epoch - 41ms/step\n",
            "Epoch 155/200\n",
            "244/244 - 10s - loss: 0.2913 - accuracy: 0.9158 - 10s/epoch - 43ms/step\n",
            "Epoch 156/200\n",
            "244/244 - 11s - loss: 0.2897 - accuracy: 0.9164 - 11s/epoch - 45ms/step\n",
            "Epoch 157/200\n",
            "244/244 - 12s - loss: 0.2915 - accuracy: 0.9159 - 12s/epoch - 48ms/step\n",
            "Epoch 158/200\n",
            "244/244 - 11s - loss: 0.3057 - accuracy: 0.9149 - 11s/epoch - 45ms/step\n",
            "Epoch 159/200\n",
            "244/244 - 11s - loss: 0.2961 - accuracy: 0.9161 - 11s/epoch - 44ms/step\n",
            "Epoch 160/200\n",
            "244/244 - 11s - loss: 0.2893 - accuracy: 0.9149 - 11s/epoch - 44ms/step\n",
            "Epoch 161/200\n",
            "244/244 - 10s - loss: 0.2834 - accuracy: 0.9175 - 10s/epoch - 40ms/step\n",
            "Epoch 162/200\n",
            "244/244 - 11s - loss: 0.2820 - accuracy: 0.9172 - 11s/epoch - 45ms/step\n",
            "Epoch 163/200\n",
            "244/244 - 11s - loss: 0.2800 - accuracy: 0.9170 - 11s/epoch - 46ms/step\n",
            "Epoch 164/200\n",
            "244/244 - 11s - loss: 0.2798 - accuracy: 0.9157 - 11s/epoch - 45ms/step\n",
            "Epoch 165/200\n",
            "244/244 - 11s - loss: 0.2782 - accuracy: 0.9153 - 11s/epoch - 45ms/step\n",
            "Epoch 166/200\n",
            "244/244 - 11s - loss: 0.2777 - accuracy: 0.9149 - 11s/epoch - 44ms/step\n",
            "Epoch 167/200\n",
            "244/244 - 10s - loss: 0.2777 - accuracy: 0.9171 - 10s/epoch - 41ms/step\n",
            "Epoch 168/200\n",
            "244/244 - 11s - loss: 0.2762 - accuracy: 0.9173 - 11s/epoch - 45ms/step\n",
            "Epoch 169/200\n",
            "244/244 - 11s - loss: 0.2753 - accuracy: 0.9166 - 11s/epoch - 45ms/step\n",
            "Epoch 170/200\n",
            "244/244 - 11s - loss: 0.2743 - accuracy: 0.9166 - 11s/epoch - 44ms/step\n",
            "Epoch 171/200\n",
            "244/244 - 11s - loss: 0.2739 - accuracy: 0.9179 - 11s/epoch - 44ms/step\n",
            "Epoch 172/200\n",
            "244/244 - 11s - loss: 0.2725 - accuracy: 0.9166 - 11s/epoch - 44ms/step\n",
            "Epoch 173/200\n",
            "244/244 - 9s - loss: 0.2718 - accuracy: 0.9172 - 9s/epoch - 38ms/step\n",
            "Epoch 174/200\n",
            "244/244 - 11s - loss: 0.2716 - accuracy: 0.9162 - 11s/epoch - 44ms/step\n",
            "Epoch 175/200\n",
            "244/244 - 11s - loss: 0.2705 - accuracy: 0.9167 - 11s/epoch - 44ms/step\n",
            "Epoch 176/200\n",
            "244/244 - 11s - loss: 0.2776 - accuracy: 0.9146 - 11s/epoch - 44ms/step\n",
            "Epoch 177/200\n",
            "244/244 - 11s - loss: 0.3052 - accuracy: 0.9094 - 11s/epoch - 43ms/step\n",
            "Epoch 178/200\n",
            "244/244 - 9s - loss: 0.2834 - accuracy: 0.9146 - 9s/epoch - 38ms/step\n",
            "Epoch 179/200\n",
            "244/244 - 11s - loss: 0.2687 - accuracy: 0.9164 - 11s/epoch - 44ms/step\n",
            "Epoch 180/200\n",
            "244/244 - 11s - loss: 0.2677 - accuracy: 0.9158 - 11s/epoch - 44ms/step\n",
            "Epoch 181/200\n",
            "244/244 - 11s - loss: 0.2660 - accuracy: 0.9168 - 11s/epoch - 45ms/step\n",
            "Epoch 182/200\n",
            "244/244 - 11s - loss: 0.2657 - accuracy: 0.9166 - 11s/epoch - 45ms/step\n",
            "Epoch 183/200\n",
            "244/244 - 11s - loss: 0.2665 - accuracy: 0.9163 - 11s/epoch - 45ms/step\n",
            "Epoch 184/200\n",
            "244/244 - 9s - loss: 0.2654 - accuracy: 0.9166 - 9s/epoch - 39ms/step\n",
            "Epoch 185/200\n",
            "244/244 - 11s - loss: 0.2643 - accuracy: 0.9173 - 11s/epoch - 45ms/step\n",
            "Epoch 186/200\n",
            "244/244 - 11s - loss: 0.2643 - accuracy: 0.9170 - 11s/epoch - 44ms/step\n",
            "Epoch 187/200\n",
            "244/244 - 11s - loss: 0.2654 - accuracy: 0.9152 - 11s/epoch - 45ms/step\n",
            "Epoch 188/200\n",
            "244/244 - 13s - loss: 0.2645 - accuracy: 0.9167 - 13s/epoch - 53ms/step\n",
            "Epoch 189/200\n",
            "244/244 - 11s - loss: 0.2641 - accuracy: 0.9166 - 11s/epoch - 44ms/step\n",
            "Epoch 190/200\n",
            "244/244 - 10s - loss: 0.2641 - accuracy: 0.9158 - 10s/epoch - 42ms/step\n",
            "Epoch 191/200\n",
            "244/244 - 10s - loss: 0.2644 - accuracy: 0.9148 - 10s/epoch - 40ms/step\n",
            "Epoch 192/200\n",
            "244/244 - 11s - loss: 0.2635 - accuracy: 0.9163 - 11s/epoch - 44ms/step\n",
            "Epoch 193/200\n",
            "244/244 - 11s - loss: 0.2628 - accuracy: 0.9164 - 11s/epoch - 44ms/step\n",
            "Epoch 194/200\n",
            "244/244 - 11s - loss: 0.2618 - accuracy: 0.9168 - 11s/epoch - 45ms/step\n",
            "Epoch 195/200\n",
            "244/244 - 11s - loss: 0.2615 - accuracy: 0.9158 - 11s/epoch - 45ms/step\n",
            "Epoch 196/200\n",
            "244/244 - 10s - loss: 0.2626 - accuracy: 0.9161 - 10s/epoch - 42ms/step\n",
            "Epoch 197/200\n",
            "244/244 - 11s - loss: 0.2896 - accuracy: 0.9118 - 11s/epoch - 43ms/step\n",
            "Epoch 198/200\n",
            "244/244 - 11s - loss: 0.2890 - accuracy: 0.9127 - 11s/epoch - 47ms/step\n",
            "Epoch 199/200\n",
            "244/244 - 11s - loss: 0.2714 - accuracy: 0.9144 - 11s/epoch - 47ms/step\n",
            "Epoch 200/200\n",
            "244/244 - 11s - loss: 0.2616 - accuracy: 0.9162 - 11s/epoch - 45ms/step\n"
          ]
        },
        {
          "output_type": "execute_result",
          "data": {
            "text/plain": [
              "<keras.callbacks.History at 0x7fe7e11036a0>"
            ]
          },
          "metadata": {},
          "execution_count": 40
        }
      ]
    },
    {
      "cell_type": "code",
      "source": [
        "def sentence_generation(model, tokenizer, current_word, n): # 모델, 토크나이저, 현재 단어, 반복할 횟수\n",
        "    init_word = current_word\n",
        "    sentence = ''\n",
        "\n",
        "    # n번 반복\n",
        "    for _ in range(n):\n",
        "        encoded = tokenizer.texts_to_sequences([current_word])[0]\n",
        "        encoded = pad_sequences([encoded], maxlen=max_len-1, padding='pre')\n",
        "\n",
        "        # 입력한 X(현재 단어)에 대해서 y를 예측하고 y(예측한 단어)를 result에 저장.\n",
        "        result = model.predict(encoded, verbose=0)\n",
        "        result = np.argmax(result, axis=1)\n",
        "\n",
        "        for word, index in tokenizer.word_index.items(): \n",
        "            # 만약 예측한 단어와 인덱스와 동일한 단어가 있다면\n",
        "            if index == result:\n",
        "                break\n",
        "\n",
        "        # 현재 단어 + ' ' + 예측 단어를 현재 단어로 변경\n",
        "        current_word = current_word + ' '  + word\n",
        "\n",
        "        # 예측 단어를 문장에 저장\n",
        "        sentence = sentence + ' ' + word\n",
        "\n",
        "    sentence = init_word + sentence\n",
        "    return sentence"
      ],
      "metadata": {
        "id": "K1kP-6G2ddDp"
      },
      "execution_count": 41,
      "outputs": []
    },
    {
      "cell_type": "code",
      "source": [
        "print(sentence_generation(model, tokenizer, 'i', 10))"
      ],
      "metadata": {
        "colab": {
          "base_uri": "https://localhost:8080/"
        },
        "id": "s1WDbYrhdf7d",
        "outputId": "0ae1d26f-eb2a-4bba-8fef-ec7f8719b45b"
      },
      "execution_count": 42,
      "outputs": [
        {
          "output_type": "stream",
          "name": "stdout",
          "text": [
            "i disapprove of school vouchers can i still apply for them\n"
          ]
        }
      ]
    },
    {
      "cell_type": "code",
      "source": [
        "print(sentence_generation(model, tokenizer, 'how', 10))"
      ],
      "metadata": {
        "colab": {
          "base_uri": "https://localhost:8080/"
        },
        "id": "1200wgyCdf1x",
        "outputId": "399acae1-2058-4032-86f6-c8a2c95114fc"
      },
      "execution_count": 43,
      "outputs": [
        {
          "output_type": "stream",
          "name": "stdout",
          "text": [
            "how to make facebook more accountable to live in there of\n"
          ]
        }
      ]
    }
  ]
}