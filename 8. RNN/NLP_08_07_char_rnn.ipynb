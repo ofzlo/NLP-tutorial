{
  "nbformat": 4,
  "nbformat_minor": 0,
  "metadata": {
    "colab": {
      "provenance": [],
      "authorship_tag": "ABX9TyPWeNpEqT0bT15LOF6Tm3mP",
      "include_colab_link": true
    },
    "kernelspec": {
      "name": "python3",
      "display_name": "Python 3"
    },
    "language_info": {
      "name": "python"
    }
  },
  "cells": [
    {
      "cell_type": "markdown",
      "metadata": {
        "id": "view-in-github",
        "colab_type": "text"
      },
      "source": [
        "<a href=\"https://colab.research.google.com/github/ofzlo/NLP-tutorial/blob/main/8.%20RNN/NLP_08_07_char_rnn.ipynb\" target=\"_parent\"><img src=\"https://colab.research.google.com/assets/colab-badge.svg\" alt=\"Open In Colab\"/></a>"
      ]
    },
    {
      "cell_type": "markdown",
      "source": [
        "# 08-07 문자 단위 RNN(Char RNN)\n",
        "![](https://user-images.githubusercontent.com/90624848/217500920-6b74fae6-fa86-478b-9d97-773c674d1cf8.png)   \n",
        "- 입출력의 단위를 단어 레벨(word-level)에서 문자레벨(character-level)로 변경하여 RNN 구현 가능   \n",
        "- (좌) 다대다(Many-to-Many), (우) 다대일(Many-to-One) "
      ],
      "metadata": {
        "id": "FgMIuj2mhQUT"
      }
    },
    {
      "cell_type": "markdown",
      "source": [
        "## 1. 문자 단위 RNN 언어 모델(Char RNNLM)\n",
        "- 이전 시점의 예측 문자를 다음 시점의 입력으로 사용하는 문자 단위 RNN 언어 모델   \n",
        "- 단어 단위가 아니므로 임베딩층을 사용하지 않는다."
      ],
      "metadata": {
        "id": "52BPgEXJiZy_"
      }
    },
    {
      "cell_type": "markdown",
      "source": [
        "### 1) 데이터에 대한 이해와 전처리"
      ],
      "metadata": {
        "id": "AKFxe4XHiaeh"
      }
    },
    {
      "cell_type": "code",
      "execution_count": 1,
      "metadata": {
        "id": "kUYVlxxHhH9l"
      },
      "outputs": [],
      "source": [
        "import numpy as np\n",
        "import urllib.request\n",
        "from tensorflow.keras.utils import to_categorical\n",
        "\n",
        "# 데이터 로드\n",
        "urllib.request.urlretrieve(\"http://www.gutenberg.org/files/11/11-0.txt\", filename=\"11-0.txt\")\n",
        "\n",
        "f = open('11-0.txt', 'rb')\n",
        "sentences = []\n",
        "for sentence in f: # 데이터로부터 한 줄씩 읽는다.\n",
        "    sentence = sentence.strip() # strip()을 통해 \\r, \\n을 제거한다.\n",
        "    sentence = sentence.lower() # 소문자화.\n",
        "    sentence = sentence.decode('ascii', 'ignore') # \\xe2\\x80\\x99 등과 같은 바이트 열 제거\n",
        "    if len(sentence) > 0:\n",
        "        sentences.append(sentence)\n",
        "f.close()"
      ]
    },
    {
      "cell_type": "code",
      "source": [
        "sentences[:5]"
      ],
      "metadata": {
        "colab": {
          "base_uri": "https://localhost:8080/"
        },
        "id": "FsAkUzUjidkP",
        "outputId": "8710e671-0de9-420a-a9ef-db0a1c758769"
      },
      "execution_count": 2,
      "outputs": [
        {
          "output_type": "execute_result",
          "data": {
            "text/plain": [
              "['the project gutenberg ebook of alices adventures in wonderland, by lewis carroll',\n",
              " 'this ebook is for the use of anyone anywhere in the united states and',\n",
              " 'most other parts of the world at no cost and with almost no restrictions',\n",
              " 'whatsoever. you may copy it, give it away or re-use it under the terms',\n",
              " 'of the project gutenberg license included with this ebook or online at']"
            ]
          },
          "metadata": {},
          "execution_count": 2
        }
      ]
    },
    {
      "cell_type": "code",
      "source": [
        "total_data = ' '.join(sentences)\n",
        "print('문자열의 길이 또는 총 문자의 개수: %d' % len(total_data))"
      ],
      "metadata": {
        "colab": {
          "base_uri": "https://localhost:8080/"
        },
        "id": "yIq0hpjDifre",
        "outputId": "e2bf7eaf-1c46-4e00-ca29-45a93fca328c"
      },
      "execution_count": 3,
      "outputs": [
        {
          "output_type": "stream",
          "name": "stdout",
          "text": [
            "문자열의 길이 또는 총 문자의 개수: 159484\n"
          ]
        }
      ]
    },
    {
      "cell_type": "code",
      "source": [
        "print(total_data[:200])"
      ],
      "metadata": {
        "colab": {
          "base_uri": "https://localhost:8080/"
        },
        "id": "mRgFcoxxig6Y",
        "outputId": "1e12929e-f288-480d-8358-e4b41d91bd3e"
      },
      "execution_count": 4,
      "outputs": [
        {
          "output_type": "stream",
          "name": "stdout",
          "text": [
            "the project gutenberg ebook of alices adventures in wonderland, by lewis carroll this ebook is for the use of anyone anywhere in the united states and most other parts of the world at no cost and with\n"
          ]
        }
      ]
    },
    {
      "cell_type": "code",
      "source": [
        "char_vocab = sorted(list(set(total_data)))\n",
        "vocab_size = len(char_vocab)\n",
        "print ('문자 집합의 크기 : {}'.format(vocab_size))"
      ],
      "metadata": {
        "colab": {
          "base_uri": "https://localhost:8080/"
        },
        "id": "sxcColBhiiNI",
        "outputId": "df60fa7c-2f13-4ce7-e82a-01a1f7d74fa3"
      },
      "execution_count": 5,
      "outputs": [
        {
          "output_type": "stream",
          "name": "stdout",
          "text": [
            "문자 집합의 크기 : 56\n"
          ]
        }
      ]
    },
    {
      "cell_type": "code",
      "source": [
        "# 문자에 고유한 정수 부여\n",
        "char_to_index = dict((char, index) for index, char in enumerate(char_vocab))\n",
        "print('문자 집합 :',char_to_index)"
      ],
      "metadata": {
        "colab": {
          "base_uri": "https://localhost:8080/"
        },
        "id": "88pZUWnTinfo",
        "outputId": "5f432bd0-d545-4c80-c168-35b6c4e89156"
      },
      "execution_count": 6,
      "outputs": [
        {
          "output_type": "stream",
          "name": "stdout",
          "text": [
            "문자 집합 : {' ': 0, '!': 1, '\"': 2, '#': 3, '$': 4, '%': 5, \"'\": 6, '(': 7, ')': 8, '*': 9, ',': 10, '-': 11, '.': 12, '/': 13, '0': 14, '1': 15, '2': 16, '3': 17, '4': 18, '5': 19, '6': 20, '7': 21, '8': 22, '9': 23, ':': 24, ';': 25, '?': 26, '[': 27, ']': 28, '_': 29, 'a': 30, 'b': 31, 'c': 32, 'd': 33, 'e': 34, 'f': 35, 'g': 36, 'h': 37, 'i': 38, 'j': 39, 'k': 40, 'l': 41, 'm': 42, 'n': 43, 'o': 44, 'p': 45, 'q': 46, 'r': 47, 's': 48, 't': 49, 'u': 50, 'v': 51, 'w': 52, 'x': 53, 'y': 54, 'z': 55}\n"
          ]
        }
      ]
    },
    {
      "cell_type": "code",
      "source": [
        "index_to_char = {}\n",
        "for key, value in char_to_index.items():\n",
        "    index_to_char[value] = key"
      ],
      "metadata": {
        "id": "zYvucYBpirUf"
      },
      "execution_count": 7,
      "outputs": []
    },
    {
      "cell_type": "code",
      "source": [
        "# appl (입력 시퀀스) -> pple (예측해야하는 시퀀스)\n",
        "train_X = 'appl'\n",
        "train_y = 'pple'"
      ],
      "metadata": {
        "id": "lb6LRF7wit34"
      },
      "execution_count": 8,
      "outputs": []
    },
    {
      "cell_type": "code",
      "source": [
        "seq_length = 60\n",
        "\n",
        "# 문자열의 길이를 seq_length로 나누면 전처리 후 생겨날 샘플 수\n",
        "n_samples = int(np.floor((len(total_data) - 1) / seq_length))\n",
        "print ('샘플의 수 : {}'.format(n_samples))"
      ],
      "metadata": {
        "colab": {
          "base_uri": "https://localhost:8080/"
        },
        "id": "1xZZmknkivy3",
        "outputId": "1e603b23-b0ad-4ccc-9170-018a35e0f6d9"
      },
      "execution_count": 9,
      "outputs": [
        {
          "output_type": "stream",
          "name": "stdout",
          "text": [
            "샘플의 수 : 2658\n"
          ]
        }
      ]
    },
    {
      "cell_type": "code",
      "source": [
        "train_X = []\n",
        "train_y = []\n",
        "\n",
        "for i in range(n_samples):\n",
        "    # 0:60 -> 60:120 -> 120:180로 loop를 돌면서 문장 샘플을 1개씩 pick.\n",
        "    X_sample = total_data[i * seq_length: (i + 1) * seq_length]\n",
        "\n",
        "    # 정수 인코딩\n",
        "    X_encoded = [char_to_index[c] for c in X_sample]\n",
        "    train_X.append(X_encoded)\n",
        "\n",
        "    # 오른쪽으로 1칸 쉬프트\n",
        "    y_sample = total_data[i * seq_length + 1: (i + 1) * seq_length + 1]\n",
        "    y_encoded = [char_to_index[c] for c in y_sample]\n",
        "    train_y.append(y_encoded)"
      ],
      "metadata": {
        "id": "465VjcYZiyIo"
      },
      "execution_count": 10,
      "outputs": []
    },
    {
      "cell_type": "code",
      "source": [
        "print('X 데이터의 첫번째 샘플 :',train_X[0])\n",
        "print('y 데이터의 첫번째 샘플 :',train_y[0])\n",
        "print('-'*50)\n",
        "print('X 데이터의 첫번째 샘플 디코딩 :',[index_to_char[i] for i in train_X[0]])\n",
        "print('y 데이터의 첫번째 샘플 디코딩 :',[index_to_char[i] for i in train_y[0]])"
      ],
      "metadata": {
        "colab": {
          "base_uri": "https://localhost:8080/"
        },
        "id": "Xmq_Kxp-i0HQ",
        "outputId": "2e303a0f-921f-4bc6-c73e-fe177c0837c0"
      },
      "execution_count": 11,
      "outputs": [
        {
          "output_type": "stream",
          "name": "stdout",
          "text": [
            "X 데이터의 첫번째 샘플 : [49, 37, 34, 0, 45, 47, 44, 39, 34, 32, 49, 0, 36, 50, 49, 34, 43, 31, 34, 47, 36, 0, 34, 31, 44, 44, 40, 0, 44, 35, 0, 30, 41, 38, 32, 34, 48, 0, 30, 33, 51, 34, 43, 49, 50, 47, 34, 48, 0, 38, 43, 0, 52, 44, 43, 33, 34, 47, 41, 30]\n",
            "y 데이터의 첫번째 샘플 : [37, 34, 0, 45, 47, 44, 39, 34, 32, 49, 0, 36, 50, 49, 34, 43, 31, 34, 47, 36, 0, 34, 31, 44, 44, 40, 0, 44, 35, 0, 30, 41, 38, 32, 34, 48, 0, 30, 33, 51, 34, 43, 49, 50, 47, 34, 48, 0, 38, 43, 0, 52, 44, 43, 33, 34, 47, 41, 30, 43]\n",
            "--------------------------------------------------\n",
            "X 데이터의 첫번째 샘플 디코딩 : ['t', 'h', 'e', ' ', 'p', 'r', 'o', 'j', 'e', 'c', 't', ' ', 'g', 'u', 't', 'e', 'n', 'b', 'e', 'r', 'g', ' ', 'e', 'b', 'o', 'o', 'k', ' ', 'o', 'f', ' ', 'a', 'l', 'i', 'c', 'e', 's', ' ', 'a', 'd', 'v', 'e', 'n', 't', 'u', 'r', 'e', 's', ' ', 'i', 'n', ' ', 'w', 'o', 'n', 'd', 'e', 'r', 'l', 'a']\n",
            "y 데이터의 첫번째 샘플 디코딩 : ['h', 'e', ' ', 'p', 'r', 'o', 'j', 'e', 'c', 't', ' ', 'g', 'u', 't', 'e', 'n', 'b', 'e', 'r', 'g', ' ', 'e', 'b', 'o', 'o', 'k', ' ', 'o', 'f', ' ', 'a', 'l', 'i', 'c', 'e', 's', ' ', 'a', 'd', 'v', 'e', 'n', 't', 'u', 'r', 'e', 's', ' ', 'i', 'n', ' ', 'w', 'o', 'n', 'd', 'e', 'r', 'l', 'a', 'n']\n"
          ]
        }
      ]
    },
    {
      "cell_type": "code",
      "source": [
        "print(train_X[1])"
      ],
      "metadata": {
        "colab": {
          "base_uri": "https://localhost:8080/"
        },
        "id": "p8pv0loAi1sf",
        "outputId": "1fec422a-f8d3-4834-b34e-11fecc95973c"
      },
      "execution_count": 12,
      "outputs": [
        {
          "output_type": "stream",
          "name": "stdout",
          "text": [
            "[43, 33, 10, 0, 31, 54, 0, 41, 34, 52, 38, 48, 0, 32, 30, 47, 47, 44, 41, 41, 0, 49, 37, 38, 48, 0, 34, 31, 44, 44, 40, 0, 38, 48, 0, 35, 44, 47, 0, 49, 37, 34, 0, 50, 48, 34, 0, 44, 35, 0, 30, 43, 54, 44, 43, 34, 0, 30, 43, 54]\n"
          ]
        }
      ]
    },
    {
      "cell_type": "code",
      "source": [
        "print(train_y[1])"
      ],
      "metadata": {
        "colab": {
          "base_uri": "https://localhost:8080/"
        },
        "id": "9jXTqYgDi4Wo",
        "outputId": "1213a851-73aa-47a5-f041-6e62ed9d0f9e"
      },
      "execution_count": 13,
      "outputs": [
        {
          "output_type": "stream",
          "name": "stdout",
          "text": [
            "[33, 10, 0, 31, 54, 0, 41, 34, 52, 38, 48, 0, 32, 30, 47, 47, 44, 41, 41, 0, 49, 37, 38, 48, 0, 34, 31, 44, 44, 40, 0, 38, 48, 0, 35, 44, 47, 0, 49, 37, 34, 0, 50, 48, 34, 0, 44, 35, 0, 30, 43, 54, 44, 43, 34, 0, 30, 43, 54, 52]\n"
          ]
        }
      ]
    },
    {
      "cell_type": "code",
      "source": [
        "train_X = to_categorical(train_X)\n",
        "train_y = to_categorical(train_y)\n",
        "\n",
        "print('train_X의 크기(shape) : {}'.format(train_X.shape)) # 원-핫 인코딩\n",
        "print('train_y의 크기(shape) : {}'.format(train_y.shape)) # 원-핫 인코딩"
      ],
      "metadata": {
        "colab": {
          "base_uri": "https://localhost:8080/"
        },
        "id": "R2TckfvDi5-P",
        "outputId": "cf2e0845-c312-4042-d3c9-883d3831ee28"
      },
      "execution_count": 14,
      "outputs": [
        {
          "output_type": "stream",
          "name": "stdout",
          "text": [
            "train_X의 크기(shape) : (2658, 60, 56)\n",
            "train_y의 크기(shape) : (2658, 60, 56)\n"
          ]
        }
      ]
    },
    {
      "cell_type": "markdown",
      "source": [
        "### 2) 모델 설계하기"
      ],
      "metadata": {
        "id": "4pKOdWkei9VV"
      }
    },
    {
      "cell_type": "code",
      "source": [
        "from tensorflow.keras.models import Sequential\n",
        "from tensorflow.keras.layers import Dense, LSTM, TimeDistributed\n",
        "\n",
        "hidden_units = 256\n",
        "\n",
        "model = Sequential()\n",
        "model.add(LSTM(hidden_units, input_shape=(None, train_X.shape[2]), return_sequences=True))\n",
        "model.add(LSTM(hidden_units, return_sequences=True))\n",
        "model.add(TimeDistributed(Dense(vocab_size, activation='softmax')))\n",
        "\n",
        "model.compile(loss='categorical_crossentropy', optimizer='adam', metrics=['accuracy'])\n",
        "model.fit(train_X, train_y, epochs=80, verbose=2)"
      ],
      "metadata": {
        "colab": {
          "base_uri": "https://localhost:8080/"
        },
        "id": "RRIk3opXi8TX",
        "outputId": "2d18eea4-bb65-497a-aec7-9072c1d76f9a"
      },
      "execution_count": 15,
      "outputs": [
        {
          "output_type": "stream",
          "name": "stdout",
          "text": [
            "Epoch 1/80\n",
            "84/84 - 47s - loss: 3.0652 - accuracy: 0.1835 - 47s/epoch - 557ms/step\n",
            "Epoch 2/80\n",
            "84/84 - 38s - loss: 2.7369 - accuracy: 0.2494 - 38s/epoch - 453ms/step\n",
            "Epoch 3/80\n",
            "84/84 - 37s - loss: 2.4094 - accuracy: 0.3275 - 37s/epoch - 442ms/step\n",
            "Epoch 4/80\n",
            "84/84 - 37s - loss: 2.2689 - accuracy: 0.3568 - 37s/epoch - 443ms/step\n",
            "Epoch 5/80\n",
            "84/84 - 37s - loss: 2.1650 - accuracy: 0.3821 - 37s/epoch - 438ms/step\n",
            "Epoch 6/80\n",
            "84/84 - 37s - loss: 2.0790 - accuracy: 0.4031 - 37s/epoch - 440ms/step\n",
            "Epoch 7/80\n",
            "84/84 - 37s - loss: 2.0058 - accuracy: 0.4230 - 37s/epoch - 437ms/step\n",
            "Epoch 8/80\n",
            "84/84 - 37s - loss: 1.9479 - accuracy: 0.4391 - 37s/epoch - 438ms/step\n",
            "Epoch 9/80\n",
            "84/84 - 42s - loss: 1.8962 - accuracy: 0.4523 - 42s/epoch - 506ms/step\n",
            "Epoch 10/80\n",
            "84/84 - 37s - loss: 1.8498 - accuracy: 0.4656 - 37s/epoch - 438ms/step\n",
            "Epoch 11/80\n",
            "84/84 - 37s - loss: 1.8050 - accuracy: 0.4773 - 37s/epoch - 438ms/step\n",
            "Epoch 12/80\n",
            "84/84 - 37s - loss: 1.7640 - accuracy: 0.4875 - 37s/epoch - 439ms/step\n",
            "Epoch 13/80\n",
            "84/84 - 37s - loss: 1.7309 - accuracy: 0.4958 - 37s/epoch - 442ms/step\n",
            "Epoch 14/80\n",
            "84/84 - 37s - loss: 1.6944 - accuracy: 0.5055 - 37s/epoch - 440ms/step\n",
            "Epoch 15/80\n",
            "84/84 - 37s - loss: 1.6620 - accuracy: 0.5147 - 37s/epoch - 440ms/step\n",
            "Epoch 16/80\n",
            "84/84 - 37s - loss: 1.6312 - accuracy: 0.5232 - 37s/epoch - 439ms/step\n",
            "Epoch 17/80\n",
            "84/84 - 37s - loss: 1.5977 - accuracy: 0.5314 - 37s/epoch - 441ms/step\n",
            "Epoch 18/80\n",
            "84/84 - 37s - loss: 1.5685 - accuracy: 0.5386 - 37s/epoch - 440ms/step\n",
            "Epoch 19/80\n",
            "84/84 - 37s - loss: 1.5418 - accuracy: 0.5461 - 37s/epoch - 440ms/step\n",
            "Epoch 20/80\n",
            "84/84 - 39s - loss: 1.5110 - accuracy: 0.5550 - 39s/epoch - 466ms/step\n",
            "Epoch 21/80\n",
            "84/84 - 37s - loss: 1.4828 - accuracy: 0.5612 - 37s/epoch - 439ms/step\n",
            "Epoch 22/80\n",
            "84/84 - 43s - loss: 1.4526 - accuracy: 0.5712 - 43s/epoch - 513ms/step\n",
            "Epoch 23/80\n",
            "84/84 - 40s - loss: 1.4267 - accuracy: 0.5779 - 40s/epoch - 479ms/step\n",
            "Epoch 24/80\n",
            "84/84 - 37s - loss: 1.3951 - accuracy: 0.5861 - 37s/epoch - 438ms/step\n",
            "Epoch 25/80\n",
            "84/84 - 40s - loss: 1.3696 - accuracy: 0.5934 - 40s/epoch - 470ms/step\n",
            "Epoch 26/80\n",
            "84/84 - 37s - loss: 1.3445 - accuracy: 0.6009 - 37s/epoch - 445ms/step\n",
            "Epoch 27/80\n",
            "84/84 - 37s - loss: 1.3186 - accuracy: 0.6075 - 37s/epoch - 444ms/step\n",
            "Epoch 28/80\n",
            "84/84 - 39s - loss: 1.2947 - accuracy: 0.6135 - 39s/epoch - 466ms/step\n",
            "Epoch 29/80\n",
            "84/84 - 38s - loss: 1.2685 - accuracy: 0.6220 - 38s/epoch - 449ms/step\n",
            "Epoch 30/80\n",
            "84/84 - 37s - loss: 1.2402 - accuracy: 0.6298 - 37s/epoch - 439ms/step\n",
            "Epoch 31/80\n",
            "84/84 - 37s - loss: 1.2152 - accuracy: 0.6366 - 37s/epoch - 440ms/step\n",
            "Epoch 32/80\n",
            "84/84 - 37s - loss: 1.1914 - accuracy: 0.6436 - 37s/epoch - 440ms/step\n",
            "Epoch 33/80\n",
            "84/84 - 37s - loss: 1.1612 - accuracy: 0.6538 - 37s/epoch - 437ms/step\n",
            "Epoch 34/80\n",
            "84/84 - 37s - loss: 1.1374 - accuracy: 0.6601 - 37s/epoch - 440ms/step\n",
            "Epoch 35/80\n",
            "84/84 - 37s - loss: 1.1093 - accuracy: 0.6680 - 37s/epoch - 444ms/step\n",
            "Epoch 36/80\n",
            "84/84 - 37s - loss: 1.0843 - accuracy: 0.6762 - 37s/epoch - 444ms/step\n",
            "Epoch 37/80\n",
            "84/84 - 37s - loss: 1.0584 - accuracy: 0.6841 - 37s/epoch - 440ms/step\n",
            "Epoch 38/80\n",
            "84/84 - 37s - loss: 1.0295 - accuracy: 0.6920 - 37s/epoch - 440ms/step\n",
            "Epoch 39/80\n",
            "84/84 - 39s - loss: 1.0007 - accuracy: 0.7013 - 39s/epoch - 470ms/step\n",
            "Epoch 40/80\n",
            "84/84 - 37s - loss: 0.9779 - accuracy: 0.7069 - 37s/epoch - 444ms/step\n",
            "Epoch 41/80\n",
            "84/84 - 37s - loss: 0.9497 - accuracy: 0.7169 - 37s/epoch - 445ms/step\n",
            "Epoch 42/80\n",
            "84/84 - 37s - loss: 0.9228 - accuracy: 0.7249 - 37s/epoch - 446ms/step\n",
            "Epoch 43/80\n",
            "84/84 - 37s - loss: 0.8947 - accuracy: 0.7341 - 37s/epoch - 443ms/step\n",
            "Epoch 44/80\n",
            "84/84 - 37s - loss: 0.8702 - accuracy: 0.7416 - 37s/epoch - 446ms/step\n",
            "Epoch 45/80\n",
            "84/84 - 37s - loss: 0.8444 - accuracy: 0.7488 - 37s/epoch - 444ms/step\n",
            "Epoch 46/80\n",
            "84/84 - 37s - loss: 0.8253 - accuracy: 0.7552 - 37s/epoch - 444ms/step\n",
            "Epoch 47/80\n",
            "84/84 - 37s - loss: 0.8013 - accuracy: 0.7626 - 37s/epoch - 444ms/step\n",
            "Epoch 48/80\n",
            "84/84 - 37s - loss: 0.7715 - accuracy: 0.7725 - 37s/epoch - 445ms/step\n",
            "Epoch 49/80\n",
            "84/84 - 40s - loss: 0.7438 - accuracy: 0.7819 - 40s/epoch - 471ms/step\n",
            "Epoch 50/80\n",
            "84/84 - 38s - loss: 0.7224 - accuracy: 0.7878 - 38s/epoch - 448ms/step\n",
            "Epoch 51/80\n",
            "84/84 - 37s - loss: 0.6966 - accuracy: 0.7965 - 37s/epoch - 443ms/step\n",
            "Epoch 52/80\n",
            "84/84 - 38s - loss: 0.6750 - accuracy: 0.8038 - 38s/epoch - 447ms/step\n",
            "Epoch 53/80\n",
            "84/84 - 37s - loss: 0.6588 - accuracy: 0.8087 - 37s/epoch - 445ms/step\n",
            "Epoch 54/80\n",
            "84/84 - 37s - loss: 0.6267 - accuracy: 0.8201 - 37s/epoch - 443ms/step\n",
            "Epoch 55/80\n",
            "84/84 - 37s - loss: 0.6051 - accuracy: 0.8266 - 37s/epoch - 444ms/step\n",
            "Epoch 56/80\n",
            "84/84 - 37s - loss: 0.5822 - accuracy: 0.8334 - 37s/epoch - 443ms/step\n",
            "Epoch 57/80\n",
            "84/84 - 37s - loss: 0.5701 - accuracy: 0.8375 - 37s/epoch - 443ms/step\n",
            "Epoch 58/80\n",
            "84/84 - 37s - loss: 0.5462 - accuracy: 0.8451 - 37s/epoch - 442ms/step\n",
            "Epoch 59/80\n",
            "84/84 - 39s - loss: 0.5255 - accuracy: 0.8512 - 39s/epoch - 469ms/step\n",
            "Epoch 60/80\n",
            "84/84 - 37s - loss: 0.5132 - accuracy: 0.8551 - 37s/epoch - 446ms/step\n",
            "Epoch 61/80\n",
            "84/84 - 37s - loss: 0.4946 - accuracy: 0.8614 - 37s/epoch - 444ms/step\n",
            "Epoch 62/80\n",
            "84/84 - 38s - loss: 0.5005 - accuracy: 0.8574 - 38s/epoch - 447ms/step\n",
            "Epoch 63/80\n",
            "84/84 - 37s - loss: 0.4469 - accuracy: 0.8782 - 37s/epoch - 444ms/step\n",
            "Epoch 64/80\n",
            "84/84 - 37s - loss: 0.4356 - accuracy: 0.8819 - 37s/epoch - 444ms/step\n",
            "Epoch 65/80\n",
            "84/84 - 37s - loss: 0.4178 - accuracy: 0.8872 - 37s/epoch - 446ms/step\n",
            "Epoch 66/80\n",
            "84/84 - 37s - loss: 0.4041 - accuracy: 0.8924 - 37s/epoch - 445ms/step\n",
            "Epoch 67/80\n",
            "84/84 - 37s - loss: 0.3888 - accuracy: 0.8965 - 37s/epoch - 444ms/step\n",
            "Epoch 68/80\n",
            "84/84 - 37s - loss: 0.3792 - accuracy: 0.8985 - 37s/epoch - 445ms/step\n",
            "Epoch 69/80\n",
            "84/84 - 40s - loss: 0.3599 - accuracy: 0.9056 - 40s/epoch - 473ms/step\n",
            "Epoch 70/80\n",
            "84/84 - 38s - loss: 0.3397 - accuracy: 0.9133 - 38s/epoch - 451ms/step\n",
            "Epoch 71/80\n",
            "84/84 - 39s - loss: 0.3235 - accuracy: 0.9187 - 39s/epoch - 459ms/step\n",
            "Epoch 72/80\n",
            "84/84 - 38s - loss: 0.3152 - accuracy: 0.9205 - 38s/epoch - 456ms/step\n",
            "Epoch 73/80\n",
            "84/84 - 38s - loss: 0.3138 - accuracy: 0.9195 - 38s/epoch - 451ms/step\n",
            "Epoch 74/80\n",
            "84/84 - 38s - loss: 0.3053 - accuracy: 0.9215 - 38s/epoch - 448ms/step\n",
            "Epoch 75/80\n",
            "84/84 - 39s - loss: 0.2863 - accuracy: 0.9287 - 39s/epoch - 460ms/step\n",
            "Epoch 76/80\n",
            "84/84 - 38s - loss: 0.2708 - accuracy: 0.9340 - 38s/epoch - 453ms/step\n",
            "Epoch 77/80\n",
            "84/84 - 38s - loss: 0.2631 - accuracy: 0.9354 - 38s/epoch - 451ms/step\n",
            "Epoch 78/80\n",
            "84/84 - 37s - loss: 0.2561 - accuracy: 0.9371 - 37s/epoch - 446ms/step\n",
            "Epoch 79/80\n",
            "84/84 - 37s - loss: 0.2486 - accuracy: 0.9392 - 37s/epoch - 443ms/step\n",
            "Epoch 80/80\n",
            "84/84 - 37s - loss: 0.2391 - accuracy: 0.9419 - 37s/epoch - 443ms/step\n"
          ]
        },
        {
          "output_type": "execute_result",
          "data": {
            "text/plain": [
              "<keras.callbacks.History at 0x7fa8743b3dc0>"
            ]
          },
          "metadata": {},
          "execution_count": 15
        }
      ]
    },
    {
      "cell_type": "code",
      "source": [
        "def sentence_generation(model, length):\n",
        "    # 문자에 대한 랜덤한 정수 생성\n",
        "    ix = [np.random.randint(vocab_size)]\n",
        "\n",
        "    # 랜덤한 정수로부터 맵핑되는 문자 생성\n",
        "    y_char = [index_to_char[ix[-1]]]\n",
        "    print(ix[-1],'번 문자',y_char[-1],'로 예측을 시작!')\n",
        "\n",
        "    # (1, length, 55) 크기의 X 생성. 즉, LSTM의 입력 시퀀스 생성\n",
        "    X = np.zeros((1, length, vocab_size))\n",
        "\n",
        "    for i in range(length):\n",
        "        # X[0][i][예측한 문자의 인덱스] = 1, 즉, 예측 문자를 다음 입력 시퀀스에 추가\n",
        "        X[0][i][ix[-1]] = 1\n",
        "        print(index_to_char[ix[-1]], end=\"\")\n",
        "        ix = np.argmax(model.predict(X[:, :i+1, :])[0], 1)\n",
        "        y_char.append(index_to_char[ix[-1]])\n",
        "    return ('').join(y_char)"
      ],
      "metadata": {
        "id": "DtM3pvoQjBdI"
      },
      "execution_count": 16,
      "outputs": []
    },
    {
      "cell_type": "code",
      "source": [
        "result = sentence_generation(model, 100)\n",
        "print(result)"
      ],
      "metadata": {
        "colab": {
          "base_uri": "https://localhost:8080/"
        },
        "id": "9vJaZNhojDKQ",
        "outputId": "3f633ae0-0a1d-47b6-e683-2ea39919bc3a"
      },
      "execution_count": 17,
      "outputs": [
        {
          "output_type": "stream",
          "name": "stdout",
          "text": [
            "13 번 문자 / 로 예측을 시작!\n",
            "1/1 [==============================] - 1s 937ms/step\n",
            "1/1 [==============================] - 1s 823ms/step\n",
            "1/1 [==============================] - 0s 22ms/step\n",
            "1/1 [==============================] - 0s 20ms/step\n",
            "1/1 [==============================] - 0s 23ms/step\n",
            "1/1 [==============================] - 0s 27ms/step\n",
            "1/1 [==============================] - 0s 21ms/step\n",
            "1/1 [==============================] - 0s 22ms/step\n",
            "1/1 [==============================] - 0s 24ms/step\n",
            "1/1 [==============================] - 0s 22ms/step\n",
            "1/1 [==============================] - 0s 27ms/step\n",
            "1/1 [==============================] - 0s 30ms/step\n",
            "1/1 [==============================] - 0s 23ms/step\n",
            "1/1 [==============================] - 0s 22ms/step\n",
            "1/1 [==============================] - 0s 24ms/step\n",
            "1/1 [==============================] - 0s 23ms/step\n",
            "1/1 [==============================] - 0s 24ms/step\n",
            "1/1 [==============================] - 0s 24ms/step\n",
            "1/1 [==============================] - 0s 27ms/step\n",
            "1/1 [==============================] - 0s 27ms/step\n",
            "1/1 [==============================] - 0s 29ms/step\n",
            "1/1 [==============================] - 0s 28ms/step\n",
            "1/1 [==============================] - 0s 25ms/step\n",
            "1/1 [==============================] - 0s 32ms/step\n",
            "1/1 [==============================] - 0s 27ms/step\n",
            "1/1 [==============================] - 0s 26ms/step\n",
            "1/1 [==============================] - 0s 30ms/step\n",
            "1/1 [==============================] - 0s 28ms/step\n",
            "1/1 [==============================] - 0s 29ms/step\n",
            "1/1 [==============================] - 0s 30ms/step\n",
            "1/1 [==============================] - 0s 28ms/step\n",
            "1/1 [==============================] - 0s 28ms/step\n",
            "1/1 [==============================] - 0s 28ms/step\n",
            "1/1 [==============================] - 0s 28ms/step\n",
            "1/1 [==============================] - 0s 29ms/step\n",
            "1/1 [==============================] - 0s 35ms/step\n",
            "1/1 [==============================] - 0s 32ms/step\n",
            "1/1 [==============================] - 0s 36ms/step\n",
            "1/1 [==============================] - 0s 42ms/step\n",
            "1/1 [==============================] - 0s 35ms/step\n",
            "1/1 [==============================] - 0s 34ms/step\n",
            "1/1 [==============================] - 0s 32ms/step\n",
            "1/1 [==============================] - 0s 32ms/step\n",
            "1/1 [==============================] - 0s 32ms/step\n",
            "1/1 [==============================] - 0s 32ms/step\n",
            "1/1 [==============================] - 0s 31ms/step\n",
            "1/1 [==============================] - 0s 34ms/step\n",
            "1/1 [==============================] - 0s 37ms/step\n",
            "1/1 [==============================] - 0s 38ms/step\n",
            "1/1 [==============================] - 0s 38ms/step\n",
            "1/1 [==============================] - 0s 38ms/step\n",
            "1/1 [==============================] - 0s 47ms/step\n",
            "1/1 [==============================] - 0s 38ms/step\n",
            "1/1 [==============================] - 0s 42ms/step\n",
            "1/1 [==============================] - 0s 39ms/step\n",
            "1/1 [==============================] - 0s 33ms/step\n",
            "1/1 [==============================] - 0s 36ms/step\n",
            "1/1 [==============================] - 0s 39ms/step\n",
            "1/1 [==============================] - 0s 37ms/step\n",
            "1/1 [==============================] - 0s 40ms/step\n",
            "1/1 [==============================] - 0s 36ms/step\n",
            "1/1 [==============================] - 0s 38ms/step\n",
            "1/1 [==============================] - 0s 44ms/step\n",
            "1/1 [==============================] - 0s 45ms/step\n",
            "1/1 [==============================] - 0s 42ms/step\n",
            "1/1 [==============================] - 0s 42ms/step\n",
            "1/1 [==============================] - 0s 41ms/step\n",
            "1/1 [==============================] - 0s 42ms/step\n",
            "1/1 [==============================] - 0s 40ms/step\n",
            "1/1 [==============================] - 0s 38ms/step\n",
            "1/1 [==============================] - 0s 44ms/step\n",
            "1/1 [==============================] - 0s 43ms/step\n",
            "1/1 [==============================] - 0s 40ms/step\n",
            "1/1 [==============================] - 0s 45ms/step\n",
            "1/1 [==============================] - 0s 44ms/step\n",
            "1/1 [==============================] - 0s 46ms/step\n",
            "1/1 [==============================] - 0s 40ms/step\n",
            "1/1 [==============================] - 0s 62ms/step\n",
            "1/1 [==============================] - 0s 63ms/step\n",
            "1/1 [==============================] - 0s 65ms/step\n",
            "1/1 [==============================] - 0s 68ms/step\n",
            "1/1 [==============================] - 0s 64ms/step\n",
            "1/1 [==============================] - 0s 66ms/step\n",
            "1/1 [==============================] - 0s 75ms/step\n",
            "1/1 [==============================] - 0s 71ms/step\n",
            "1/1 [==============================] - 0s 64ms/step\n",
            "1/1 [==============================] - 0s 69ms/step\n",
            "1/1 [==============================] - 0s 61ms/step\n",
            "1/1 [==============================] - 0s 66ms/step\n",
            "1/1 [==============================] - 0s 60ms/step\n",
            "1/1 [==============================] - 0s 69ms/step\n",
            "1/1 [==============================] - 0s 65ms/step\n",
            "1/1 [==============================] - 0s 61ms/step\n",
            "1/1 [==============================] - 0s 79ms/step\n",
            "1/1 [==============================] - 0s 72ms/step\n",
            "1/1 [==============================] - 0s 66ms/step\n",
            "1/1 [==============================] - 0s 69ms/step\n",
            "1/1 [==============================] - 0s 71ms/step\n",
            "1/1 [==============================] - 0s 52ms/step\n",
            "1/1 [==============================] - 0s 51ms/step\n",
            "/them sighed down to the had farny sore with out, but it pur rabbit; and what a get darag of the baby\n"
          ]
        }
      ]
    },
    {
      "cell_type": "markdown",
      "source": [
        "## 2. 문자 단위 RNN(Char RNN)으로 텍스트 생성하기"
      ],
      "metadata": {
        "id": "oHCIlP8YjE7P"
      }
    },
    {
      "cell_type": "markdown",
      "source": [
        "### 1) 데이터에 대한 이해와 전처리"
      ],
      "metadata": {
        "id": "gu9BQrz5jIUu"
      }
    },
    {
      "cell_type": "code",
      "source": [
        "import numpy as np\n",
        "from tensorflow.keras.utils import to_categorical"
      ],
      "metadata": {
        "id": "TLz_q7s1jEXw"
      },
      "execution_count": 18,
      "outputs": []
    },
    {
      "cell_type": "code",
      "source": [
        "raw_text = '''\n",
        "I get on with life as a programmer,\n",
        "I like to contemplate beer.\n",
        "But when I start to daydream,\n",
        "My mind turns straight to wine.\n",
        "\n",
        "Do I love wine more than beer?\n",
        "\n",
        "I like to use words about beer.\n",
        "But when I stop my talking,\n",
        "My mind turns straight to wine.\n",
        "\n",
        "I hate bugs and errors.\n",
        "But I just think back to wine,\n",
        "And I'm happy once again.\n",
        "\n",
        "I like to hang out with programming and deep learning.\n",
        "But when left alone,\n",
        "My mind turns straight to wine.\n",
        "'''"
      ],
      "metadata": {
        "id": "oj5ABo61jKdI"
      },
      "execution_count": 19,
      "outputs": []
    },
    {
      "cell_type": "code",
      "source": [
        "tokens = raw_text.split()\n",
        "raw_text = ' '.join(tokens)\n",
        "print(raw_text)"
      ],
      "metadata": {
        "colab": {
          "base_uri": "https://localhost:8080/"
        },
        "id": "fIRZBZoojMgn",
        "outputId": "fa165e75-b6dc-49fd-d0b0-8b3315b95d09"
      },
      "execution_count": 20,
      "outputs": [
        {
          "output_type": "stream",
          "name": "stdout",
          "text": [
            "I get on with life as a programmer, I like to contemplate beer. But when I start to daydream, My mind turns straight to wine. Do I love wine more than beer? I like to use words about beer. But when I stop my talking, My mind turns straight to wine. I hate bugs and errors. But I just think back to wine, And I'm happy once again. I like to hang out with programming and deep learning. But when left alone, My mind turns straight to wine.\n"
          ]
        }
      ]
    },
    {
      "cell_type": "code",
      "source": [
        "# 중복을 제거한 문자 집합 생성\n",
        "char_vocab = sorted(list(set(raw_text)))\n",
        "vocab_size = len(char_vocab)\n",
        "print('문자 집합 :',char_vocab)\n",
        "print ('문자 집합의 크기 : {}'.format(vocab_size))"
      ],
      "metadata": {
        "colab": {
          "base_uri": "https://localhost:8080/"
        },
        "id": "3jtTYYHzjNcI",
        "outputId": "a9e74a36-b667-4bdc-9b41-f34c66e85e09"
      },
      "execution_count": 21,
      "outputs": [
        {
          "output_type": "stream",
          "name": "stdout",
          "text": [
            "문자 집합 : [' ', \"'\", ',', '.', '?', 'A', 'B', 'D', 'I', 'M', 'a', 'b', 'c', 'd', 'e', 'f', 'g', 'h', 'i', 'j', 'k', 'l', 'm', 'n', 'o', 'p', 'r', 's', 't', 'u', 'v', 'w', 'y']\n",
            "문자 집합의 크기 : 33\n"
          ]
        }
      ]
    },
    {
      "cell_type": "code",
      "source": [
        "char_to_index = dict((char, index) for index, char in enumerate(char_vocab)) # 문자에 고유한 정수 인덱스 부여\n",
        "print(char_to_index)"
      ],
      "metadata": {
        "colab": {
          "base_uri": "https://localhost:8080/"
        },
        "id": "6oB9wP_kjOmA",
        "outputId": "89723beb-0512-4679-b1ab-c816781d3ef4"
      },
      "execution_count": 22,
      "outputs": [
        {
          "output_type": "stream",
          "name": "stdout",
          "text": [
            "{' ': 0, \"'\": 1, ',': 2, '.': 3, '?': 4, 'A': 5, 'B': 6, 'D': 7, 'I': 8, 'M': 9, 'a': 10, 'b': 11, 'c': 12, 'd': 13, 'e': 14, 'f': 15, 'g': 16, 'h': 17, 'i': 18, 'j': 19, 'k': 20, 'l': 21, 'm': 22, 'n': 23, 'o': 24, 'p': 25, 'r': 26, 's': 27, 't': 28, 'u': 29, 'v': 30, 'w': 31, 'y': 32}\n"
          ]
        }
      ]
    },
    {
      "cell_type": "code",
      "source": [
        "length = 11\n",
        "sequences = []\n",
        "for i in range(length, len(raw_text)):\n",
        "    seq = raw_text[i-length:i] # 길이 11의 문자열을 지속적으로 만든다.\n",
        "    sequences.append(seq)\n",
        "print('총 훈련 샘플의 수: %d' % len(sequences))"
      ],
      "metadata": {
        "colab": {
          "base_uri": "https://localhost:8080/"
        },
        "id": "kKvASGrumFMm",
        "outputId": "8626de9a-0e5b-40e3-a73e-d4d4f2827b62"
      },
      "execution_count": 23,
      "outputs": [
        {
          "output_type": "stream",
          "name": "stdout",
          "text": [
            "총 훈련 샘플의 수: 426\n"
          ]
        }
      ]
    },
    {
      "cell_type": "code",
      "source": [
        "sequences[:10]"
      ],
      "metadata": {
        "colab": {
          "base_uri": "https://localhost:8080/"
        },
        "id": "wnotNWfnmGj2",
        "outputId": "1edb0e26-c1c4-43f7-99bb-ac9667e38eb4"
      },
      "execution_count": 24,
      "outputs": [
        {
          "output_type": "execute_result",
          "data": {
            "text/plain": [
              "['I get on wi',\n",
              " ' get on wit',\n",
              " 'get on with',\n",
              " 'et on with ',\n",
              " 't on with l',\n",
              " ' on with li',\n",
              " 'on with lif',\n",
              " 'n with life',\n",
              " ' with life ',\n",
              " 'with life a']"
            ]
          },
          "metadata": {},
          "execution_count": 24
        }
      ]
    },
    {
      "cell_type": "code",
      "source": [
        "encoded_sequences = []\n",
        "for sequence in sequences: # 전체 데이터에서 문장 샘플을 1개씩 꺼낸다.\n",
        "    encoded_sequence = [char_to_index[char] for char in sequence] # 문장 샘플에서 각 문자에 대해서 정수 인코딩을 수행.\n",
        "    encoded_sequences.append(encoded_sequence)"
      ],
      "metadata": {
        "id": "4VAKH3J-mHl-"
      },
      "execution_count": 25,
      "outputs": []
    },
    {
      "cell_type": "code",
      "source": [
        "encoded_sequences[:5]"
      ],
      "metadata": {
        "colab": {
          "base_uri": "https://localhost:8080/"
        },
        "id": "u_DhfTU2mI-m",
        "outputId": "cf4e7ca3-9fb9-436c-ad20-2fe1e1bef1e3"
      },
      "execution_count": 26,
      "outputs": [
        {
          "output_type": "execute_result",
          "data": {
            "text/plain": [
              "[[8, 0, 16, 14, 28, 0, 24, 23, 0, 31, 18],\n",
              " [0, 16, 14, 28, 0, 24, 23, 0, 31, 18, 28],\n",
              " [16, 14, 28, 0, 24, 23, 0, 31, 18, 28, 17],\n",
              " [14, 28, 0, 24, 23, 0, 31, 18, 28, 17, 0],\n",
              " [28, 0, 24, 23, 0, 31, 18, 28, 17, 0, 21]]"
            ]
          },
          "metadata": {},
          "execution_count": 26
        }
      ]
    },
    {
      "cell_type": "code",
      "source": [
        "encoded_sequences = np.array(encoded_sequences)\n",
        "\n",
        "# 맨 마지막 위치의 문자를 분리\n",
        "X_data = encoded_sequences[:,:-1]\n",
        "# 맨 마지막 위치의 문자를 저장\n",
        "y_data = encoded_sequences[:,-1]"
      ],
      "metadata": {
        "id": "wTAAKfU3mJy-"
      },
      "execution_count": 27,
      "outputs": []
    },
    {
      "cell_type": "code",
      "source": [
        "print(X_data[:5])\n",
        "print(y_data[:5])"
      ],
      "metadata": {
        "colab": {
          "base_uri": "https://localhost:8080/"
        },
        "id": "kA0xvg7KmKsl",
        "outputId": "a7fb12b5-614c-4f1b-a632-86b57ecdd960"
      },
      "execution_count": 28,
      "outputs": [
        {
          "output_type": "stream",
          "name": "stdout",
          "text": [
            "[[ 8  0 16 14 28  0 24 23  0 31]\n",
            " [ 0 16 14 28  0 24 23  0 31 18]\n",
            " [16 14 28  0 24 23  0 31 18 28]\n",
            " [14 28  0 24 23  0 31 18 28 17]\n",
            " [28  0 24 23  0 31 18 28 17  0]]\n",
            "[18 28 17  0 21]\n"
          ]
        }
      ]
    },
    {
      "cell_type": "code",
      "source": [
        "# 원-핫 인코딩\n",
        "X_data_one_hot = [to_categorical(encoded, num_classes=vocab_size) for encoded in X_data]\n",
        "X_data_one_hot = np.array(X_data_one_hot)\n",
        "y_data_one_hot = to_categorical(y_data, num_classes=vocab_size)"
      ],
      "metadata": {
        "id": "DmJLHxd5mLku"
      },
      "execution_count": 29,
      "outputs": []
    },
    {
      "cell_type": "code",
      "source": [
        "print(X_data_one_hot.shape)"
      ],
      "metadata": {
        "colab": {
          "base_uri": "https://localhost:8080/"
        },
        "id": "lVFEM89LmMxu",
        "outputId": "2cd0d621-3c3b-4c0f-f41b-6b1623551417"
      },
      "execution_count": 30,
      "outputs": [
        {
          "output_type": "stream",
          "name": "stdout",
          "text": [
            "(426, 10, 33)\n"
          ]
        }
      ]
    },
    {
      "cell_type": "markdown",
      "source": [
        "### 2) 모델 설계하기"
      ],
      "metadata": {
        "id": "rdL6_KsGmOi0"
      }
    },
    {
      "cell_type": "code",
      "source": [
        "from tensorflow.keras.models import Sequential\n",
        "from tensorflow.keras.layers import Dense, LSTM\n",
        "from tensorflow.keras.preprocessing.sequence import pad_sequences\n",
        "\n",
        "hidden_units = 64\n",
        "\n",
        "model = Sequential()\n",
        "model.add(LSTM(hidden_units, input_shape=(X_data_one_hot.shape[1], X_data_one_hot.shape[2])))\n",
        "model.add(Dense(vocab_size, activation='softmax'))\n",
        "\n",
        "model.compile(loss='categorical_crossentropy', optimizer='adam', metrics=['accuracy'])\n",
        "model.fit(X_data_one_hot, y_data_one_hot, epochs=100, verbose=2)"
      ],
      "metadata": {
        "colab": {
          "base_uri": "https://localhost:8080/"
        },
        "id": "TGt547CDmNo2",
        "outputId": "e0dbee78-7483-4c77-f762-4a220e15c77c"
      },
      "execution_count": 31,
      "outputs": [
        {
          "output_type": "stream",
          "name": "stdout",
          "text": [
            "Epoch 1/100\n",
            "14/14 - 2s - loss: 3.4644 - accuracy: 0.1455 - 2s/epoch - 178ms/step\n",
            "Epoch 2/100\n",
            "14/14 - 0s - loss: 3.3581 - accuracy: 0.1972 - 96ms/epoch - 7ms/step\n",
            "Epoch 3/100\n",
            "14/14 - 0s - loss: 3.1101 - accuracy: 0.1972 - 92ms/epoch - 7ms/step\n",
            "Epoch 4/100\n",
            "14/14 - 0s - loss: 2.9999 - accuracy: 0.1972 - 105ms/epoch - 8ms/step\n",
            "Epoch 5/100\n",
            "14/14 - 0s - loss: 2.9651 - accuracy: 0.1972 - 94ms/epoch - 7ms/step\n",
            "Epoch 6/100\n",
            "14/14 - 0s - loss: 2.9377 - accuracy: 0.1972 - 93ms/epoch - 7ms/step\n",
            "Epoch 7/100\n",
            "14/14 - 0s - loss: 2.9184 - accuracy: 0.1972 - 94ms/epoch - 7ms/step\n",
            "Epoch 8/100\n",
            "14/14 - 0s - loss: 2.9017 - accuracy: 0.1972 - 91ms/epoch - 7ms/step\n",
            "Epoch 9/100\n",
            "14/14 - 0s - loss: 2.8896 - accuracy: 0.1972 - 95ms/epoch - 7ms/step\n",
            "Epoch 10/100\n",
            "14/14 - 0s - loss: 2.8738 - accuracy: 0.1972 - 86ms/epoch - 6ms/step\n",
            "Epoch 11/100\n",
            "14/14 - 0s - loss: 2.8407 - accuracy: 0.1972 - 91ms/epoch - 7ms/step\n",
            "Epoch 12/100\n",
            "14/14 - 0s - loss: 2.8089 - accuracy: 0.1972 - 93ms/epoch - 7ms/step\n",
            "Epoch 13/100\n",
            "14/14 - 0s - loss: 2.7712 - accuracy: 0.2113 - 88ms/epoch - 6ms/step\n",
            "Epoch 14/100\n",
            "14/14 - 0s - loss: 2.7456 - accuracy: 0.2113 - 92ms/epoch - 7ms/step\n",
            "Epoch 15/100\n",
            "14/14 - 0s - loss: 2.6903 - accuracy: 0.2277 - 107ms/epoch - 8ms/step\n",
            "Epoch 16/100\n",
            "14/14 - 0s - loss: 2.6605 - accuracy: 0.2254 - 91ms/epoch - 7ms/step\n",
            "Epoch 17/100\n",
            "14/14 - 0s - loss: 2.6098 - accuracy: 0.2629 - 93ms/epoch - 7ms/step\n",
            "Epoch 18/100\n",
            "14/14 - 0s - loss: 2.5695 - accuracy: 0.2418 - 101ms/epoch - 7ms/step\n",
            "Epoch 19/100\n",
            "14/14 - 0s - loss: 2.5262 - accuracy: 0.2817 - 92ms/epoch - 7ms/step\n",
            "Epoch 20/100\n",
            "14/14 - 0s - loss: 2.4553 - accuracy: 0.2770 - 98ms/epoch - 7ms/step\n",
            "Epoch 21/100\n",
            "14/14 - 0s - loss: 2.4078 - accuracy: 0.3075 - 99ms/epoch - 7ms/step\n",
            "Epoch 22/100\n",
            "14/14 - 0s - loss: 2.3765 - accuracy: 0.3028 - 94ms/epoch - 7ms/step\n",
            "Epoch 23/100\n",
            "14/14 - 0s - loss: 2.3130 - accuracy: 0.3263 - 89ms/epoch - 6ms/step\n",
            "Epoch 24/100\n",
            "14/14 - 0s - loss: 2.2633 - accuracy: 0.3427 - 88ms/epoch - 6ms/step\n",
            "Epoch 25/100\n",
            "14/14 - 0s - loss: 2.2238 - accuracy: 0.3732 - 103ms/epoch - 7ms/step\n",
            "Epoch 26/100\n",
            "14/14 - 0s - loss: 2.1725 - accuracy: 0.3732 - 92ms/epoch - 7ms/step\n",
            "Epoch 27/100\n",
            "14/14 - 0s - loss: 2.1225 - accuracy: 0.3920 - 95ms/epoch - 7ms/step\n",
            "Epoch 28/100\n",
            "14/14 - 0s - loss: 2.0908 - accuracy: 0.4038 - 91ms/epoch - 7ms/step\n",
            "Epoch 29/100\n",
            "14/14 - 0s - loss: 2.0352 - accuracy: 0.4061 - 87ms/epoch - 6ms/step\n",
            "Epoch 30/100\n",
            "14/14 - 0s - loss: 1.9816 - accuracy: 0.4225 - 92ms/epoch - 7ms/step\n",
            "Epoch 31/100\n",
            "14/14 - 0s - loss: 1.9455 - accuracy: 0.4343 - 121ms/epoch - 9ms/step\n",
            "Epoch 32/100\n",
            "14/14 - 0s - loss: 1.9043 - accuracy: 0.4413 - 103ms/epoch - 7ms/step\n",
            "Epoch 33/100\n",
            "14/14 - 0s - loss: 1.8606 - accuracy: 0.4577 - 91ms/epoch - 6ms/step\n",
            "Epoch 34/100\n",
            "14/14 - 0s - loss: 1.8145 - accuracy: 0.4859 - 95ms/epoch - 7ms/step\n",
            "Epoch 35/100\n",
            "14/14 - 0s - loss: 1.7843 - accuracy: 0.4718 - 107ms/epoch - 8ms/step\n",
            "Epoch 36/100\n",
            "14/14 - 0s - loss: 1.7304 - accuracy: 0.5329 - 104ms/epoch - 7ms/step\n",
            "Epoch 37/100\n",
            "14/14 - 0s - loss: 1.7118 - accuracy: 0.5211 - 109ms/epoch - 8ms/step\n",
            "Epoch 38/100\n",
            "14/14 - 0s - loss: 1.6709 - accuracy: 0.5446 - 100ms/epoch - 7ms/step\n",
            "Epoch 39/100\n",
            "14/14 - 0s - loss: 1.6058 - accuracy: 0.5798 - 96ms/epoch - 7ms/step\n",
            "Epoch 40/100\n",
            "14/14 - 0s - loss: 1.5858 - accuracy: 0.5728 - 100ms/epoch - 7ms/step\n",
            "Epoch 41/100\n",
            "14/14 - 0s - loss: 1.5498 - accuracy: 0.5516 - 93ms/epoch - 7ms/step\n",
            "Epoch 42/100\n",
            "14/14 - 0s - loss: 1.4920 - accuracy: 0.6338 - 97ms/epoch - 7ms/step\n",
            "Epoch 43/100\n",
            "14/14 - 0s - loss: 1.4714 - accuracy: 0.6197 - 97ms/epoch - 7ms/step\n",
            "Epoch 44/100\n",
            "14/14 - 0s - loss: 1.4322 - accuracy: 0.6197 - 104ms/epoch - 7ms/step\n",
            "Epoch 45/100\n",
            "14/14 - 0s - loss: 1.3898 - accuracy: 0.6761 - 109ms/epoch - 8ms/step\n",
            "Epoch 46/100\n",
            "14/14 - 0s - loss: 1.3551 - accuracy: 0.6784 - 95ms/epoch - 7ms/step\n",
            "Epoch 47/100\n",
            "14/14 - 0s - loss: 1.3017 - accuracy: 0.6901 - 96ms/epoch - 7ms/step\n",
            "Epoch 48/100\n",
            "14/14 - 0s - loss: 1.2692 - accuracy: 0.7089 - 95ms/epoch - 7ms/step\n",
            "Epoch 49/100\n",
            "14/14 - 0s - loss: 1.2316 - accuracy: 0.7066 - 96ms/epoch - 7ms/step\n",
            "Epoch 50/100\n",
            "14/14 - 0s - loss: 1.1959 - accuracy: 0.7394 - 96ms/epoch - 7ms/step\n",
            "Epoch 51/100\n",
            "14/14 - 0s - loss: 1.1565 - accuracy: 0.7394 - 93ms/epoch - 7ms/step\n",
            "Epoch 52/100\n",
            "14/14 - 0s - loss: 1.1379 - accuracy: 0.7488 - 94ms/epoch - 7ms/step\n",
            "Epoch 53/100\n",
            "14/14 - 0s - loss: 1.1028 - accuracy: 0.7512 - 104ms/epoch - 7ms/step\n",
            "Epoch 54/100\n",
            "14/14 - 0s - loss: 1.0740 - accuracy: 0.7535 - 93ms/epoch - 7ms/step\n",
            "Epoch 55/100\n",
            "14/14 - 0s - loss: 1.0358 - accuracy: 0.7629 - 104ms/epoch - 7ms/step\n",
            "Epoch 56/100\n",
            "14/14 - 0s - loss: 1.0226 - accuracy: 0.7676 - 106ms/epoch - 8ms/step\n",
            "Epoch 57/100\n",
            "14/14 - 0s - loss: 1.0032 - accuracy: 0.7770 - 95ms/epoch - 7ms/step\n",
            "Epoch 58/100\n",
            "14/14 - 0s - loss: 0.9883 - accuracy: 0.7653 - 90ms/epoch - 6ms/step\n",
            "Epoch 59/100\n",
            "14/14 - 0s - loss: 0.9263 - accuracy: 0.7887 - 100ms/epoch - 7ms/step\n",
            "Epoch 60/100\n",
            "14/14 - 0s - loss: 0.8934 - accuracy: 0.8146 - 104ms/epoch - 7ms/step\n",
            "Epoch 61/100\n",
            "14/14 - 0s - loss: 0.8521 - accuracy: 0.8333 - 102ms/epoch - 7ms/step\n",
            "Epoch 62/100\n",
            "14/14 - 0s - loss: 0.8278 - accuracy: 0.8427 - 99ms/epoch - 7ms/step\n",
            "Epoch 63/100\n",
            "14/14 - 0s - loss: 0.8181 - accuracy: 0.8380 - 95ms/epoch - 7ms/step\n",
            "Epoch 64/100\n",
            "14/14 - 0s - loss: 0.8029 - accuracy: 0.8333 - 104ms/epoch - 7ms/step\n",
            "Epoch 65/100\n",
            "14/14 - 0s - loss: 0.7743 - accuracy: 0.8498 - 102ms/epoch - 7ms/step\n",
            "Epoch 66/100\n",
            "14/14 - 0s - loss: 0.7465 - accuracy: 0.8756 - 100ms/epoch - 7ms/step\n",
            "Epoch 67/100\n",
            "14/14 - 0s - loss: 0.7205 - accuracy: 0.8685 - 97ms/epoch - 7ms/step\n",
            "Epoch 68/100\n",
            "14/14 - 0s - loss: 0.7000 - accuracy: 0.8803 - 147ms/epoch - 10ms/step\n",
            "Epoch 69/100\n",
            "14/14 - 0s - loss: 0.6666 - accuracy: 0.8920 - 153ms/epoch - 11ms/step\n",
            "Epoch 70/100\n",
            "14/14 - 0s - loss: 0.6470 - accuracy: 0.9014 - 152ms/epoch - 11ms/step\n",
            "Epoch 71/100\n",
            "14/14 - 0s - loss: 0.6260 - accuracy: 0.9085 - 157ms/epoch - 11ms/step\n",
            "Epoch 72/100\n",
            "14/14 - 0s - loss: 0.6150 - accuracy: 0.9014 - 151ms/epoch - 11ms/step\n",
            "Epoch 73/100\n",
            "14/14 - 0s - loss: 0.5977 - accuracy: 0.9014 - 147ms/epoch - 11ms/step\n",
            "Epoch 74/100\n",
            "14/14 - 0s - loss: 0.5735 - accuracy: 0.9225 - 145ms/epoch - 10ms/step\n",
            "Epoch 75/100\n",
            "14/14 - 0s - loss: 0.5567 - accuracy: 0.9108 - 163ms/epoch - 12ms/step\n",
            "Epoch 76/100\n",
            "14/14 - 0s - loss: 0.5438 - accuracy: 0.9178 - 158ms/epoch - 11ms/step\n",
            "Epoch 77/100\n",
            "14/14 - 0s - loss: 0.5323 - accuracy: 0.9202 - 152ms/epoch - 11ms/step\n",
            "Epoch 78/100\n",
            "14/14 - 0s - loss: 0.5085 - accuracy: 0.9437 - 152ms/epoch - 11ms/step\n",
            "Epoch 79/100\n",
            "14/14 - 0s - loss: 0.4959 - accuracy: 0.9437 - 159ms/epoch - 11ms/step\n",
            "Epoch 80/100\n",
            "14/14 - 0s - loss: 0.5120 - accuracy: 0.9272 - 152ms/epoch - 11ms/step\n",
            "Epoch 81/100\n",
            "14/14 - 0s - loss: 0.4715 - accuracy: 0.9366 - 148ms/epoch - 11ms/step\n",
            "Epoch 82/100\n",
            "14/14 - 0s - loss: 0.4500 - accuracy: 0.9484 - 146ms/epoch - 10ms/step\n",
            "Epoch 83/100\n",
            "14/14 - 0s - loss: 0.4443 - accuracy: 0.9437 - 144ms/epoch - 10ms/step\n",
            "Epoch 84/100\n",
            "14/14 - 0s - loss: 0.4356 - accuracy: 0.9413 - 149ms/epoch - 11ms/step\n",
            "Epoch 85/100\n",
            "14/14 - 0s - loss: 0.4301 - accuracy: 0.9437 - 92ms/epoch - 7ms/step\n",
            "Epoch 86/100\n",
            "14/14 - 0s - loss: 0.3939 - accuracy: 0.9554 - 113ms/epoch - 8ms/step\n",
            "Epoch 87/100\n",
            "14/14 - 0s - loss: 0.3830 - accuracy: 0.9554 - 100ms/epoch - 7ms/step\n",
            "Epoch 88/100\n",
            "14/14 - 0s - loss: 0.3749 - accuracy: 0.9671 - 98ms/epoch - 7ms/step\n",
            "Epoch 89/100\n",
            "14/14 - 0s - loss: 0.3689 - accuracy: 0.9531 - 105ms/epoch - 8ms/step\n",
            "Epoch 90/100\n",
            "14/14 - 0s - loss: 0.3472 - accuracy: 0.9695 - 105ms/epoch - 8ms/step\n",
            "Epoch 91/100\n",
            "14/14 - 0s - loss: 0.3415 - accuracy: 0.9718 - 98ms/epoch - 7ms/step\n",
            "Epoch 92/100\n",
            "14/14 - 0s - loss: 0.3293 - accuracy: 0.9695 - 102ms/epoch - 7ms/step\n",
            "Epoch 93/100\n",
            "14/14 - 0s - loss: 0.3176 - accuracy: 0.9742 - 103ms/epoch - 7ms/step\n",
            "Epoch 94/100\n",
            "14/14 - 0s - loss: 0.3122 - accuracy: 0.9695 - 98ms/epoch - 7ms/step\n",
            "Epoch 95/100\n",
            "14/14 - 0s - loss: 0.3110 - accuracy: 0.9718 - 114ms/epoch - 8ms/step\n",
            "Epoch 96/100\n",
            "14/14 - 0s - loss: 0.3056 - accuracy: 0.9624 - 102ms/epoch - 7ms/step\n",
            "Epoch 97/100\n",
            "14/14 - 0s - loss: 0.2846 - accuracy: 0.9718 - 107ms/epoch - 8ms/step\n",
            "Epoch 98/100\n",
            "14/14 - 0s - loss: 0.2815 - accuracy: 0.9718 - 99ms/epoch - 7ms/step\n",
            "Epoch 99/100\n",
            "14/14 - 0s - loss: 0.2719 - accuracy: 0.9718 - 104ms/epoch - 7ms/step\n",
            "Epoch 100/100\n",
            "14/14 - 0s - loss: 0.2669 - accuracy: 0.9695 - 105ms/epoch - 8ms/step\n"
          ]
        },
        {
          "output_type": "execute_result",
          "data": {
            "text/plain": [
              "<keras.callbacks.History at 0x7fa86c88caf0>"
            ]
          },
          "metadata": {},
          "execution_count": 31
        }
      ]
    },
    {
      "cell_type": "code",
      "source": [
        "def sentence_generation(model, char_to_index, seq_length, seed_text, n):\n",
        "\n",
        "    # 초기 시퀀스\n",
        "    init_text = seed_text\n",
        "    sentence = ''\n",
        "\n",
        "    # 다음 문자 예측은 총 n번만 반복.\n",
        "    for _ in range(n):\n",
        "        encoded = [char_to_index[char] for char in seed_text] # 현재 시퀀스에 대한 정수 인코딩\n",
        "        encoded = pad_sequences([encoded], maxlen=seq_length, padding='pre') # 데이터에 대한 패딩\n",
        "        encoded = to_categorical(encoded, num_classes=len(char_to_index))\n",
        "\n",
        "        # 입력한 X(현재 시퀀스)에 대해서 y를 예측하고 y(예측한 문자)를 result에 저장.\n",
        "        result = model.predict(encoded, verbose=0)\n",
        "        result = np.argmax(result, axis=1)\n",
        "\n",
        "        for char, index in char_to_index.items():\n",
        "            if index == result:\n",
        "                break\n",
        "\n",
        "        # 현재 시퀀스 + 예측 문자를 현재 시퀀스로 변경\n",
        "        seed_text = seed_text + char\n",
        "\n",
        "        # 예측 문자를 문장에 저장\n",
        "        sentence = sentence + char\n",
        "\n",
        "    # n번의 다음 문자 예측이 끝나면 최종 완성된 문장을 리턴.\n",
        "    sentence = init_text + sentence\n",
        "    return sentence"
      ],
      "metadata": {
        "id": "yLHUIMAImRQW"
      },
      "execution_count": 32,
      "outputs": []
    },
    {
      "cell_type": "code",
      "source": [
        "print(sentence_generation(model, char_to_index, 10, 'I get on w', 80))"
      ],
      "metadata": {
        "colab": {
          "base_uri": "https://localhost:8080/"
        },
        "id": "9v_Jmo7JmS4P",
        "outputId": "f478b315-8d60-4f7f-853c-fb4b66b0e616"
      },
      "execution_count": 33,
      "outputs": [
        {
          "output_type": "stream",
          "name": "stdout",
          "text": [
            "I get on with life as a programmer, I like to contemplate beer. But when I stap mt taayrgg\n"
          ]
        }
      ]
    }
  ]
}