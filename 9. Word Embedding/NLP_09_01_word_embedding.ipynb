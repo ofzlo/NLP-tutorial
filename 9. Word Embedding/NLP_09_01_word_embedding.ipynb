{
  "nbformat": 4,
  "nbformat_minor": 0,
  "metadata": {
    "colab": {
      "provenance": [],
      "authorship_tag": "ABX9TyOXps/mtJUlUhnh0BZaS5nN",
      "include_colab_link": true
    },
    "kernelspec": {
      "name": "python3",
      "display_name": "Python 3"
    },
    "language_info": {
      "name": "python"
    }
  },
  "cells": [
    {
      "cell_type": "markdown",
      "metadata": {
        "id": "view-in-github",
        "colab_type": "text"
      },
      "source": [
        "<a href=\"https://colab.research.google.com/github/ofzlo/NLP-tutorial/blob/main/9.%20Word%20Embedding/NLP_09_01_word_embedding.ipynb\" target=\"_parent\"><img src=\"https://colab.research.google.com/assets/colab-badge.svg\" alt=\"Open In Colab\"/></a>"
      ]
    },
    {
      "cell_type": "markdown",
      "source": [
        "# 09-01 워드 임베딩(Word Embedding)\n",
        "- **`워드 임베딩(Word Embedding)`** : 단어를 벡터로 표현하는 방법, 단어를 밀집 표현으로 변환한다."
      ],
      "metadata": {
        "id": "E17gFy95t7qU"
      }
    },
    {
      "cell_type": "markdown",
      "source": [
        "## 1. 희소 표현(Sparse Representation)\n",
        "- 벡터 또는 행렬의 값이 대부분 0으로 표현되는 방법\n",
        "  - ex. 원-핫 벡터\n",
        "- 단점\n",
        "  - 공간적 낭비 : 단어의 개수가 늘어나면 벡터의 차원이 한없이 커진다.   \n",
        "  - 단어의 의미를 표현하지 못한다."
      ],
      "metadata": {
        "id": "hdU7iqMgt7lt"
      }
    },
    {
      "cell_type": "markdown",
      "source": [
        "## 2. 밀집 표현(Dense Representation)\n",
        "- 희소 표현과 반대되는 표현\n",
        "- 벡터의 차원을 단어 집합의 크기로 상정하지 않는다.\n",
        "- 사용자가 설정한 값으로 모든 단어의 벡터 표현에 차원을 맞춘다.   \n",
        "- Ex) 강아지 = [0.2 1.8 1.1 -2.1 1.1 2.8 ... 중략 ...] # 이 벡터의 차원은 128\n"
      ],
      "metadata": {
        "id": "KM0MJuopt634"
      }
    },
    {
      "cell_type": "markdown",
      "source": [
        "## 3. 워드 임베딩(Word Embedding)\n",
        "- **`임베딩(word embedding)`** : 단어를 밀집 벡터(dense vector)의 형태로 표현하는 방법   \n",
        "- **`임베딩 벡터(embedding vector)`** : 밀집 벡터를 워드 임베딩 과정을 통해 나온 결과"
      ],
      "metadata": {
        "id": "SjH3ShDAuqPi"
      }
    }
  ]
}